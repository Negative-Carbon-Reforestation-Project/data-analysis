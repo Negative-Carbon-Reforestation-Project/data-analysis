{
 "cells": [
  {
   "cell_type": "code",
   "execution_count": 1,
   "metadata": {
    "collapsed": true
   },
   "outputs": [],
   "source": [
    "# Imports\n",
    "\n",
    "import numpy as np\n",
    "import pyreadr as pr\n",
    "import pandas as pd"
   ]
  },
  {
   "cell_type": "code",
   "execution_count": 2,
   "outputs": [],
   "source": [
    "pnv_raw = pr.read_r('data/potential natural vegetation/pnv_biomes.pnts_sites.rds')\n",
    "pnv_class = pr.read_r('data/potential natural vegetation/pnv_biomes.pnts_sites_cm.rds')"
   ],
   "metadata": {
    "collapsed": false,
    "pycharm": {
     "name": "#%%\n"
    }
   }
  },
  {
   "cell_type": "code",
   "execution_count": 3,
   "outputs": [
    {
     "data": {
      "text/plain": "collections.OrderedDict"
     },
     "execution_count": 3,
     "metadata": {},
     "output_type": "execute_result"
    }
   ],
   "source": [
    "# Getting type of pnv_raw\n",
    "type(pnv_raw)"
   ],
   "metadata": {
    "collapsed": false,
    "pycharm": {
     "name": "#%%\n"
    }
   }
  },
  {
   "cell_type": "code",
   "execution_count": 4,
   "outputs": [
    {
     "data": {
      "text/plain": "odict_keys([None])"
     },
     "execution_count": 4,
     "metadata": {},
     "output_type": "execute_result"
    }
   ],
   "source": [
    "# Getting set of keys\n",
    "pnv_raw.keys()"
   ],
   "metadata": {
    "collapsed": false,
    "pycharm": {
     "name": "#%%\n"
    }
   }
  },
  {
   "cell_type": "code",
   "execution_count": 5,
   "outputs": [
    {
     "data": {
      "text/plain": "                       LOC_ID                                         V1  \\\nrownames                                                                   \n1              ID_-0.02_30.02                     xerophytic woods/scrub   \n2             ID_-0.03_-78.03                                     steppe   \n3         ID_-0.0388_-67.3291        tropical evergreen broadleaf forest   \n4              ID_-0.05_35.53                     xerophytic woods/scrub   \n5         ID_-0.0975_-57.4522        tropical evergreen broadleaf forest   \n...                       ...                                        ...   \n1800           ID_31.32_119.8  warm-temperate evergreen and mixed forest   \n18011        ID_61.53_-166.17                  low and high shrub tundra   \n18021         ID_21.83_100.67  warm-temperate evergreen and mixed forest   \n18031         ID_21.83_100.67  warm-temperate evergreen and mixed forest   \n18041          ID_65.12_32.63           cold evergreen needleleaf forest   \n\n                                Site.Name   Longitude   Latitude  \\\nrownames                                                           \n1                                  Af-354   30.020000  -0.020000   \n2                                 Cayambe  -78.030000  -0.030000   \n3                            SIM_radam_35  -67.329076  -0.038766   \n4                                  Af-353   35.530000  -0.050000   \n5                           SIM_radam_445  -57.452249  -0.097537   \n...                                   ...         ...        ...   \n1800                               Yixing  119.800000  31.320000   \n18011     Shaw Site Yukon Delta (no code) -166.170000  61.530000   \n18021                            Yunnan 1  100.670000  21.830000   \n18031                            Yunnan 1  100.670000  21.830000   \n18041                          Shombashuo   32.630000  65.120000   \n\n                MegaBiomes..Scheme.2.  \\\nrownames                                \n1         grassland and dry shrubland   \n2         grassland and dry shrubland   \n3                                 NaN   \n4         grassland and dry shrubland   \n5                                 NaN   \n...                               ...   \n1800            warm-temperate forest   \n18011                          tundra   \n18021           warm-temperate forest   \n18031           warm-temperate forest   \n18041                   boreal forest   \n\n                                         Biome00k_c  \nrownames                                             \n1                            xerophytic.woods.scrub  \n2                                            steppe  \n3               tropical.evergreen.broadleaf.forest  \n4                            xerophytic.woods.scrub  \n5               tropical.evergreen.broadleaf.forest  \n...                                             ...  \n1800      warm.temperate.evergreen.and.mixed.forest  \n18011                     low.and.high.shrub.tundra  \n18021     warm.temperate.evergreen.and.mixed.forest  \n18031     warm.temperate.evergreen.and.mixed.forest  \n18041              cold.evergreen.needleleaf.forest  \n\n[8797 rows x 7 columns]",
      "text/html": "<div>\n<style scoped>\n    .dataframe tbody tr th:only-of-type {\n        vertical-align: middle;\n    }\n\n    .dataframe tbody tr th {\n        vertical-align: top;\n    }\n\n    .dataframe thead th {\n        text-align: right;\n    }\n</style>\n<table border=\"1\" class=\"dataframe\">\n  <thead>\n    <tr style=\"text-align: right;\">\n      <th></th>\n      <th>LOC_ID</th>\n      <th>V1</th>\n      <th>Site.Name</th>\n      <th>Longitude</th>\n      <th>Latitude</th>\n      <th>MegaBiomes..Scheme.2.</th>\n      <th>Biome00k_c</th>\n    </tr>\n    <tr>\n      <th>rownames</th>\n      <th></th>\n      <th></th>\n      <th></th>\n      <th></th>\n      <th></th>\n      <th></th>\n      <th></th>\n    </tr>\n  </thead>\n  <tbody>\n    <tr>\n      <th>1</th>\n      <td>ID_-0.02_30.02</td>\n      <td>xerophytic woods/scrub</td>\n      <td>Af-354</td>\n      <td>30.020000</td>\n      <td>-0.020000</td>\n      <td>grassland and dry shrubland</td>\n      <td>xerophytic.woods.scrub</td>\n    </tr>\n    <tr>\n      <th>2</th>\n      <td>ID_-0.03_-78.03</td>\n      <td>steppe</td>\n      <td>Cayambe</td>\n      <td>-78.030000</td>\n      <td>-0.030000</td>\n      <td>grassland and dry shrubland</td>\n      <td>steppe</td>\n    </tr>\n    <tr>\n      <th>3</th>\n      <td>ID_-0.0388_-67.3291</td>\n      <td>tropical evergreen broadleaf forest</td>\n      <td>SIM_radam_35</td>\n      <td>-67.329076</td>\n      <td>-0.038766</td>\n      <td>NaN</td>\n      <td>tropical.evergreen.broadleaf.forest</td>\n    </tr>\n    <tr>\n      <th>4</th>\n      <td>ID_-0.05_35.53</td>\n      <td>xerophytic woods/scrub</td>\n      <td>Af-353</td>\n      <td>35.530000</td>\n      <td>-0.050000</td>\n      <td>grassland and dry shrubland</td>\n      <td>xerophytic.woods.scrub</td>\n    </tr>\n    <tr>\n      <th>5</th>\n      <td>ID_-0.0975_-57.4522</td>\n      <td>tropical evergreen broadleaf forest</td>\n      <td>SIM_radam_445</td>\n      <td>-57.452249</td>\n      <td>-0.097537</td>\n      <td>NaN</td>\n      <td>tropical.evergreen.broadleaf.forest</td>\n    </tr>\n    <tr>\n      <th>...</th>\n      <td>...</td>\n      <td>...</td>\n      <td>...</td>\n      <td>...</td>\n      <td>...</td>\n      <td>...</td>\n      <td>...</td>\n    </tr>\n    <tr>\n      <th>1800</th>\n      <td>ID_31.32_119.8</td>\n      <td>warm-temperate evergreen and mixed forest</td>\n      <td>Yixing</td>\n      <td>119.800000</td>\n      <td>31.320000</td>\n      <td>warm-temperate forest</td>\n      <td>warm.temperate.evergreen.and.mixed.forest</td>\n    </tr>\n    <tr>\n      <th>18011</th>\n      <td>ID_61.53_-166.17</td>\n      <td>low and high shrub tundra</td>\n      <td>Shaw Site Yukon Delta (no code)</td>\n      <td>-166.170000</td>\n      <td>61.530000</td>\n      <td>tundra</td>\n      <td>low.and.high.shrub.tundra</td>\n    </tr>\n    <tr>\n      <th>18021</th>\n      <td>ID_21.83_100.67</td>\n      <td>warm-temperate evergreen and mixed forest</td>\n      <td>Yunnan 1</td>\n      <td>100.670000</td>\n      <td>21.830000</td>\n      <td>warm-temperate forest</td>\n      <td>warm.temperate.evergreen.and.mixed.forest</td>\n    </tr>\n    <tr>\n      <th>18031</th>\n      <td>ID_21.83_100.67</td>\n      <td>warm-temperate evergreen and mixed forest</td>\n      <td>Yunnan 1</td>\n      <td>100.670000</td>\n      <td>21.830000</td>\n      <td>warm-temperate forest</td>\n      <td>warm.temperate.evergreen.and.mixed.forest</td>\n    </tr>\n    <tr>\n      <th>18041</th>\n      <td>ID_65.12_32.63</td>\n      <td>cold evergreen needleleaf forest</td>\n      <td>Shombashuo</td>\n      <td>32.630000</td>\n      <td>65.120000</td>\n      <td>boreal forest</td>\n      <td>cold.evergreen.needleleaf.forest</td>\n    </tr>\n  </tbody>\n</table>\n<p>8797 rows × 7 columns</p>\n</div>"
     },
     "execution_count": 5,
     "metadata": {},
     "output_type": "execute_result"
    }
   ],
   "source": [
    "# Using set of keys to extract actual values\n",
    "pnv_raw[None]"
   ],
   "metadata": {
    "collapsed": false,
    "pycharm": {
     "name": "#%%\n"
    }
   }
  },
  {
   "cell_type": "code",
   "execution_count": 6,
   "outputs": [],
   "source": [
    "# Converting to pandas DataFrame\n",
    "pnv_df = pd.DataFrame(pnv_raw[None])"
   ],
   "metadata": {
    "collapsed": false,
    "pycharm": {
     "name": "#%%\n"
    }
   }
  },
  {
   "cell_type": "code",
   "execution_count": 7,
   "outputs": [
    {
     "data": {
      "text/plain": "                       LOC_ID                                   V1  \\\nrownames                                                             \n1              ID_-0.02_30.02               xerophytic woods/scrub   \n2             ID_-0.03_-78.03                               steppe   \n3         ID_-0.0388_-67.3291  tropical evergreen broadleaf forest   \n4              ID_-0.05_35.53               xerophytic woods/scrub   \n5         ID_-0.0975_-57.4522  tropical evergreen broadleaf forest   \n\n              Site.Name  Longitude  Latitude        MegaBiomes..Scheme.2.  \\\nrownames                                                                    \n1                Af-354  30.020000 -0.020000  grassland and dry shrubland   \n2               Cayambe -78.030000 -0.030000  grassland and dry shrubland   \n3          SIM_radam_35 -67.329076 -0.038766                          NaN   \n4                Af-353  35.530000 -0.050000  grassland and dry shrubland   \n5         SIM_radam_445 -57.452249 -0.097537                          NaN   \n\n                                   Biome00k_c  \nrownames                                       \n1                      xerophytic.woods.scrub  \n2                                      steppe  \n3         tropical.evergreen.broadleaf.forest  \n4                      xerophytic.woods.scrub  \n5         tropical.evergreen.broadleaf.forest  ",
      "text/html": "<div>\n<style scoped>\n    .dataframe tbody tr th:only-of-type {\n        vertical-align: middle;\n    }\n\n    .dataframe tbody tr th {\n        vertical-align: top;\n    }\n\n    .dataframe thead th {\n        text-align: right;\n    }\n</style>\n<table border=\"1\" class=\"dataframe\">\n  <thead>\n    <tr style=\"text-align: right;\">\n      <th></th>\n      <th>LOC_ID</th>\n      <th>V1</th>\n      <th>Site.Name</th>\n      <th>Longitude</th>\n      <th>Latitude</th>\n      <th>MegaBiomes..Scheme.2.</th>\n      <th>Biome00k_c</th>\n    </tr>\n    <tr>\n      <th>rownames</th>\n      <th></th>\n      <th></th>\n      <th></th>\n      <th></th>\n      <th></th>\n      <th></th>\n      <th></th>\n    </tr>\n  </thead>\n  <tbody>\n    <tr>\n      <th>1</th>\n      <td>ID_-0.02_30.02</td>\n      <td>xerophytic woods/scrub</td>\n      <td>Af-354</td>\n      <td>30.020000</td>\n      <td>-0.020000</td>\n      <td>grassland and dry shrubland</td>\n      <td>xerophytic.woods.scrub</td>\n    </tr>\n    <tr>\n      <th>2</th>\n      <td>ID_-0.03_-78.03</td>\n      <td>steppe</td>\n      <td>Cayambe</td>\n      <td>-78.030000</td>\n      <td>-0.030000</td>\n      <td>grassland and dry shrubland</td>\n      <td>steppe</td>\n    </tr>\n    <tr>\n      <th>3</th>\n      <td>ID_-0.0388_-67.3291</td>\n      <td>tropical evergreen broadleaf forest</td>\n      <td>SIM_radam_35</td>\n      <td>-67.329076</td>\n      <td>-0.038766</td>\n      <td>NaN</td>\n      <td>tropical.evergreen.broadleaf.forest</td>\n    </tr>\n    <tr>\n      <th>4</th>\n      <td>ID_-0.05_35.53</td>\n      <td>xerophytic woods/scrub</td>\n      <td>Af-353</td>\n      <td>35.530000</td>\n      <td>-0.050000</td>\n      <td>grassland and dry shrubland</td>\n      <td>xerophytic.woods.scrub</td>\n    </tr>\n    <tr>\n      <th>5</th>\n      <td>ID_-0.0975_-57.4522</td>\n      <td>tropical evergreen broadleaf forest</td>\n      <td>SIM_radam_445</td>\n      <td>-57.452249</td>\n      <td>-0.097537</td>\n      <td>NaN</td>\n      <td>tropical.evergreen.broadleaf.forest</td>\n    </tr>\n  </tbody>\n</table>\n</div>"
     },
     "execution_count": 7,
     "metadata": {},
     "output_type": "execute_result"
    }
   ],
   "source": [
    "# Checking things out\n",
    "pnv_df.head()"
   ],
   "metadata": {
    "collapsed": false,
    "pycharm": {
     "name": "#%%\n"
    }
   }
  },
  {
   "cell_type": "code",
   "execution_count": 8,
   "outputs": [
    {
     "data": {
      "text/plain": "rownames\n1                 xerophytic woods/scrub\n2                                 steppe\n3    tropical evergreen broadleaf forest\n4                 xerophytic woods/scrub\n5    tropical evergreen broadleaf forest\nName: V1, dtype: category\nCategories (20, object): ['cold deciduous forest', 'cold evergreen needleleaf forest', 'cool evergreen needleleaf forest', 'cool mixed forest', ..., 'tropical savanna', 'tropical semi-evergreen broadleaf forest', 'warm-temperate evergreen and mixed forest', 'xerophytic woods/scrub']"
     },
     "execution_count": 8,
     "metadata": {},
     "output_type": "execute_result"
    }
   ],
   "source": [
    "# Contuing to check things out\n",
    "pnv_df['V1'].head()\n"
   ],
   "metadata": {
    "collapsed": false,
    "pycharm": {
     "name": "#%%\n"
    }
   }
  },
  {
   "cell_type": "code",
   "execution_count": 12,
   "outputs": [],
   "source": [
    "# Column 'V1' seems to contain the possible types of forestation\n",
    "forestation_types = pnv_df['V1'].unique()"
   ],
   "metadata": {
    "collapsed": false,
    "pycharm": {
     "name": "#%%\n"
    }
   }
  },
  {
   "cell_type": "code",
   "execution_count": 13,
   "outputs": [
    {
     "data": {
      "text/plain": "collections.OrderedDict"
     },
     "execution_count": 13,
     "metadata": {},
     "output_type": "execute_result"
    }
   ],
   "source": [
    "# Checking out other dataset, the classification matrix\n",
    "type(pnv_class)\n"
   ],
   "metadata": {
    "collapsed": false,
    "pycharm": {
     "name": "#%%\n"
    }
   }
  },
  {
   "cell_type": "code",
   "execution_count": 14,
   "outputs": [
    {
     "data": {
      "text/plain": "odict_keys([None])"
     },
     "execution_count": 14,
     "metadata": {},
     "output_type": "execute_result"
    }
   ],
   "source": [
    "# Same treatment given it's type\n",
    "pnv_class.keys()"
   ],
   "metadata": {
    "collapsed": false,
    "pycharm": {
     "name": "#%%\n"
    }
   }
  },
  {
   "cell_type": "code",
   "execution_count": 15,
   "outputs": [],
   "source": [
    "pnv_class_df = pd.DataFrame(pnv_class[None])"
   ],
   "metadata": {
    "collapsed": false,
    "pycharm": {
     "name": "#%%\n"
    }
   }
  },
  {
   "cell_type": "code",
   "execution_count": 16,
   "outputs": [
    {
     "data": {
      "text/plain": "                LOC_ID                                   V1      Site.Name  \\\n0       ID_-0.02_30.02               xerophytic woods/scrub         Af-354   \n1      ID_-0.03_-78.03                               steppe        Cayambe   \n2  ID_-0.0388_-67.3291  tropical evergreen broadleaf forest   SIM_radam_35   \n3       ID_-0.05_35.53               xerophytic woods/scrub         Af-353   \n4  ID_-0.0975_-57.4522  tropical evergreen broadleaf forest  SIM_radam_445   \n\n         MegaBiomes..Scheme.2.                           Biome00k_c  \\\n0  grassland and dry shrubland               xerophytic.woods.scrub   \n1  grassland and dry shrubland                               steppe   \n2                          NaN  tropical.evergreen.broadleaf.forest   \n3  grassland and dry shrubland               xerophytic.woods.scrub   \n4                          NaN  tropical.evergreen.broadleaf.forest   \n\n   row.index mask lcv_admin0_fao.gaul_c_250m_s0..0cm_2015_v1.0.tif  \\\n0          1    1                                              259   \n1          2    1                                               74   \n2          3    1                                               38   \n3          4    1                                              135   \n4          5    1                                               38   \n\n   clm_bioclim.var_chelsa.1_m_1km_s0..0cm_1979..2013_v1.0.tif  \\\n0                                              228.0            \n1                                               70.0            \n2                                              248.0            \n3                                              154.0            \n4                                              255.0            \n\n   clm_bioclim.var_chelsa.10_m_1km_s0..0cm_1979..2013_v1.0.tif  ...  \\\n0                                              233.0            ...   \n1                                               74.0            ...   \n2                                              252.0            ...   \n3                                              170.0            ...   \n4                                              267.0            ...   \n\n   dtm_okhotsk_pb2002_p_250m_s0..0cm_2002.v1.tif  \\\n0                                            0.0   \n1                                            0.0   \n2                                            0.0   \n3                                            0.0   \n4                                            0.0   \n\n   dtm_pacific_pb2002_p_250m_s0..0cm_2002.v1.tif  \\\n0                                            0.0   \n1                                            0.0   \n2                                            0.0   \n3                                            0.0   \n4                                            0.0   \n\n   dtm_philippine.sea_pb2002_p_250m_s0..0cm_2002.v1.tif  \\\n0                                                0.0      \n1                                                0.0      \n2                                                0.0      \n3                                                0.0      \n4                                                0.0      \n\n   dtm_scotia_pb2002_p_250m_s0..0cm_2002.v1.tif  \\\n0                                           0.0   \n1                                           0.0   \n2                                           0.0   \n3                                           0.0   \n4                                           0.0   \n\n   dtm_somalia_pb2002_p_250m_s0..0cm_2002.v1.tif  \\\n0                                          100.0   \n1                                            0.0   \n2                                            0.0   \n3                                          100.0   \n4                                            0.0   \n\n   dtm_south.america_pb2002_p_250m_s0..0cm_2002.v1.tif  \\\n0                                                0.0     \n1                                              100.0     \n2                                              100.0     \n3                                                0.0     \n4                                              100.0     \n\n   dtm_sunda_pb2002_p_250m_s0..0cm_2002.v1.tif  \\\n0                                          0.0   \n1                                          0.0   \n2                                          0.0   \n3                                          0.0   \n4                                          0.0   \n\n   dtm_yangtze_pb2002_p_250m_s0..0cm_2002.v1.tif          X         Y  \n0                                            0.0  30.020000 -0.020000  \n1                                            0.0 -78.030000 -0.030000  \n2                                            0.0 -67.329076 -0.038766  \n3                                            0.0  35.530000 -0.050000  \n4                                            0.0 -57.452249 -0.097537  \n\n[5 rows x 403 columns]",
      "text/html": "<div>\n<style scoped>\n    .dataframe tbody tr th:only-of-type {\n        vertical-align: middle;\n    }\n\n    .dataframe tbody tr th {\n        vertical-align: top;\n    }\n\n    .dataframe thead th {\n        text-align: right;\n    }\n</style>\n<table border=\"1\" class=\"dataframe\">\n  <thead>\n    <tr style=\"text-align: right;\">\n      <th></th>\n      <th>LOC_ID</th>\n      <th>V1</th>\n      <th>Site.Name</th>\n      <th>MegaBiomes..Scheme.2.</th>\n      <th>Biome00k_c</th>\n      <th>row.index</th>\n      <th>mask</th>\n      <th>lcv_admin0_fao.gaul_c_250m_s0..0cm_2015_v1.0.tif</th>\n      <th>clm_bioclim.var_chelsa.1_m_1km_s0..0cm_1979..2013_v1.0.tif</th>\n      <th>clm_bioclim.var_chelsa.10_m_1km_s0..0cm_1979..2013_v1.0.tif</th>\n      <th>...</th>\n      <th>dtm_okhotsk_pb2002_p_250m_s0..0cm_2002.v1.tif</th>\n      <th>dtm_pacific_pb2002_p_250m_s0..0cm_2002.v1.tif</th>\n      <th>dtm_philippine.sea_pb2002_p_250m_s0..0cm_2002.v1.tif</th>\n      <th>dtm_scotia_pb2002_p_250m_s0..0cm_2002.v1.tif</th>\n      <th>dtm_somalia_pb2002_p_250m_s0..0cm_2002.v1.tif</th>\n      <th>dtm_south.america_pb2002_p_250m_s0..0cm_2002.v1.tif</th>\n      <th>dtm_sunda_pb2002_p_250m_s0..0cm_2002.v1.tif</th>\n      <th>dtm_yangtze_pb2002_p_250m_s0..0cm_2002.v1.tif</th>\n      <th>X</th>\n      <th>Y</th>\n    </tr>\n  </thead>\n  <tbody>\n    <tr>\n      <th>0</th>\n      <td>ID_-0.02_30.02</td>\n      <td>xerophytic woods/scrub</td>\n      <td>Af-354</td>\n      <td>grassland and dry shrubland</td>\n      <td>xerophytic.woods.scrub</td>\n      <td>1</td>\n      <td>1</td>\n      <td>259</td>\n      <td>228.0</td>\n      <td>233.0</td>\n      <td>...</td>\n      <td>0.0</td>\n      <td>0.0</td>\n      <td>0.0</td>\n      <td>0.0</td>\n      <td>100.0</td>\n      <td>0.0</td>\n      <td>0.0</td>\n      <td>0.0</td>\n      <td>30.020000</td>\n      <td>-0.020000</td>\n    </tr>\n    <tr>\n      <th>1</th>\n      <td>ID_-0.03_-78.03</td>\n      <td>steppe</td>\n      <td>Cayambe</td>\n      <td>grassland and dry shrubland</td>\n      <td>steppe</td>\n      <td>2</td>\n      <td>1</td>\n      <td>74</td>\n      <td>70.0</td>\n      <td>74.0</td>\n      <td>...</td>\n      <td>0.0</td>\n      <td>0.0</td>\n      <td>0.0</td>\n      <td>0.0</td>\n      <td>0.0</td>\n      <td>100.0</td>\n      <td>0.0</td>\n      <td>0.0</td>\n      <td>-78.030000</td>\n      <td>-0.030000</td>\n    </tr>\n    <tr>\n      <th>2</th>\n      <td>ID_-0.0388_-67.3291</td>\n      <td>tropical evergreen broadleaf forest</td>\n      <td>SIM_radam_35</td>\n      <td>NaN</td>\n      <td>tropical.evergreen.broadleaf.forest</td>\n      <td>3</td>\n      <td>1</td>\n      <td>38</td>\n      <td>248.0</td>\n      <td>252.0</td>\n      <td>...</td>\n      <td>0.0</td>\n      <td>0.0</td>\n      <td>0.0</td>\n      <td>0.0</td>\n      <td>0.0</td>\n      <td>100.0</td>\n      <td>0.0</td>\n      <td>0.0</td>\n      <td>-67.329076</td>\n      <td>-0.038766</td>\n    </tr>\n    <tr>\n      <th>3</th>\n      <td>ID_-0.05_35.53</td>\n      <td>xerophytic woods/scrub</td>\n      <td>Af-353</td>\n      <td>grassland and dry shrubland</td>\n      <td>xerophytic.woods.scrub</td>\n      <td>4</td>\n      <td>1</td>\n      <td>135</td>\n      <td>154.0</td>\n      <td>170.0</td>\n      <td>...</td>\n      <td>0.0</td>\n      <td>0.0</td>\n      <td>0.0</td>\n      <td>0.0</td>\n      <td>100.0</td>\n      <td>0.0</td>\n      <td>0.0</td>\n      <td>0.0</td>\n      <td>35.530000</td>\n      <td>-0.050000</td>\n    </tr>\n    <tr>\n      <th>4</th>\n      <td>ID_-0.0975_-57.4522</td>\n      <td>tropical evergreen broadleaf forest</td>\n      <td>SIM_radam_445</td>\n      <td>NaN</td>\n      <td>tropical.evergreen.broadleaf.forest</td>\n      <td>5</td>\n      <td>1</td>\n      <td>38</td>\n      <td>255.0</td>\n      <td>267.0</td>\n      <td>...</td>\n      <td>0.0</td>\n      <td>0.0</td>\n      <td>0.0</td>\n      <td>0.0</td>\n      <td>0.0</td>\n      <td>100.0</td>\n      <td>0.0</td>\n      <td>0.0</td>\n      <td>-57.452249</td>\n      <td>-0.097537</td>\n    </tr>\n  </tbody>\n</table>\n<p>5 rows × 403 columns</p>\n</div>"
     },
     "execution_count": 16,
     "metadata": {},
     "output_type": "execute_result"
    }
   ],
   "source": [
    "pnv_class_df.head()"
   ],
   "metadata": {
    "collapsed": false,
    "pycharm": {
     "name": "#%%\n"
    }
   }
  },
  {
   "cell_type": "code",
   "execution_count": 19,
   "outputs": [
    {
     "data": {
      "text/plain": "Index(['LOC_ID', 'V1', 'Site.Name', 'MegaBiomes..Scheme.2.', 'Biome00k_c',\n       'row.index', 'mask', 'lcv_admin0_fao.gaul_c_250m_s0..0cm_2015_v1.0.tif',\n       'clm_bioclim.var_chelsa.1_m_1km_s0..0cm_1979..2013_v1.0.tif',\n       'clm_bioclim.var_chelsa.10_m_1km_s0..0cm_1979..2013_v1.0.tif',\n       ...\n       'dtm_okhotsk_pb2002_p_250m_s0..0cm_2002.v1.tif',\n       'dtm_pacific_pb2002_p_250m_s0..0cm_2002.v1.tif',\n       'dtm_philippine.sea_pb2002_p_250m_s0..0cm_2002.v1.tif',\n       'dtm_scotia_pb2002_p_250m_s0..0cm_2002.v1.tif',\n       'dtm_somalia_pb2002_p_250m_s0..0cm_2002.v1.tif',\n       'dtm_south.america_pb2002_p_250m_s0..0cm_2002.v1.tif',\n       'dtm_sunda_pb2002_p_250m_s0..0cm_2002.v1.tif',\n       'dtm_yangtze_pb2002_p_250m_s0..0cm_2002.v1.tif', 'X', 'Y'],\n      dtype='object', length=403)"
     },
     "execution_count": 19,
     "metadata": {},
     "output_type": "execute_result"
    }
   ],
   "source": [
    "pnv_class_df.keys()"
   ],
   "metadata": {
    "collapsed": false,
    "pycharm": {
     "name": "#%%\n"
    }
   }
  },
  {
   "cell_type": "code",
   "execution_count": 20,
   "outputs": [
    {
     "name": "stderr",
     "output_type": "stream",
     "text": [
      "C:\\Users\\mattt\\AppData\\Local\\Temp/ipykernel_25436/2228532947.py:3: UserWarning: Boolean Series key will be reindexed to match DataFrame index.\n",
      "  pnv_wa_df = pnv_wa_df[(pnv_df['Longitude'] >= -125) & (pnv_wa_df['Longitude'] <= -116)]\n"
     ]
    }
   ],
   "source": [
    "# Alright, data is confusing, going to see what we have for WA state as a start\n",
    "pnv_wa_df = pnv_df[(pnv_df['Latitude'] >= 45) & (pnv_df['Latitude'] <= 49)]\n",
    "pnv_wa_df = pnv_wa_df[(pnv_df['Longitude'] >= -125) & (pnv_wa_df['Longitude'] <= -116)]"
   ],
   "metadata": {
    "collapsed": false,
    "pycharm": {
     "name": "#%%\n"
    }
   }
  },
  {
   "cell_type": "code",
   "execution_count": 21,
   "outputs": [
    {
     "data": {
      "text/plain": "13"
     },
     "execution_count": 21,
     "metadata": {},
     "output_type": "execute_result"
    }
   ],
   "source": [
    "len(pnv_wa_df)"
   ],
   "metadata": {
    "collapsed": false,
    "pycharm": {
     "name": "#%%\n"
    }
   }
  },
  {
   "cell_type": "code",
   "execution_count": 22,
   "outputs": [
    {
     "data": {
      "text/plain": "                    LOC_ID                                            V1  \\\nrownames                                                                   \n4992       ID_46.73_-122.2              cool evergreen needleleaf forest   \n5116      ID_47.33_-117.58                                        steppe   \n5172      ID_47.58_-118.75  temperate evergreen needleleaf open woodland   \n5208      ID_47.75_-124.25              cool evergreen needleleaf forest   \n5222       ID_47.82_-122.3              cool evergreen needleleaf forest   \n\n             Site.Name  Longitude  Latitude        MegaBiomes..Scheme.2.  \\\nrownames                                                                   \n4992      Mineral Lake    -122.20     46.73             temperate forest   \n5116      Williams Fen    -117.58     47.33  grassland and dry shrubland   \n5172       Creston Fen    -118.75     47.58             temperate forest   \n5208           Hoh Bog    -124.25     47.75             temperate forest   \n5222         Hall Lake    -122.30     47.82             temperate forest   \n\n                                            Biome00k_c  \nrownames                                                \n4992                  cool.evergreen.needleleaf.forest  \n5116                                            steppe  \n5172      temperate.evergreen.needleleaf.open.woodland  \n5208                  cool.evergreen.needleleaf.forest  \n5222                  cool.evergreen.needleleaf.forest  ",
      "text/html": "<div>\n<style scoped>\n    .dataframe tbody tr th:only-of-type {\n        vertical-align: middle;\n    }\n\n    .dataframe tbody tr th {\n        vertical-align: top;\n    }\n\n    .dataframe thead th {\n        text-align: right;\n    }\n</style>\n<table border=\"1\" class=\"dataframe\">\n  <thead>\n    <tr style=\"text-align: right;\">\n      <th></th>\n      <th>LOC_ID</th>\n      <th>V1</th>\n      <th>Site.Name</th>\n      <th>Longitude</th>\n      <th>Latitude</th>\n      <th>MegaBiomes..Scheme.2.</th>\n      <th>Biome00k_c</th>\n    </tr>\n    <tr>\n      <th>rownames</th>\n      <th></th>\n      <th></th>\n      <th></th>\n      <th></th>\n      <th></th>\n      <th></th>\n      <th></th>\n    </tr>\n  </thead>\n  <tbody>\n    <tr>\n      <th>4992</th>\n      <td>ID_46.73_-122.2</td>\n      <td>cool evergreen needleleaf forest</td>\n      <td>Mineral Lake</td>\n      <td>-122.20</td>\n      <td>46.73</td>\n      <td>temperate forest</td>\n      <td>cool.evergreen.needleleaf.forest</td>\n    </tr>\n    <tr>\n      <th>5116</th>\n      <td>ID_47.33_-117.58</td>\n      <td>steppe</td>\n      <td>Williams Fen</td>\n      <td>-117.58</td>\n      <td>47.33</td>\n      <td>grassland and dry shrubland</td>\n      <td>steppe</td>\n    </tr>\n    <tr>\n      <th>5172</th>\n      <td>ID_47.58_-118.75</td>\n      <td>temperate evergreen needleleaf open woodland</td>\n      <td>Creston Fen</td>\n      <td>-118.75</td>\n      <td>47.58</td>\n      <td>temperate forest</td>\n      <td>temperate.evergreen.needleleaf.open.woodland</td>\n    </tr>\n    <tr>\n      <th>5208</th>\n      <td>ID_47.75_-124.25</td>\n      <td>cool evergreen needleleaf forest</td>\n      <td>Hoh Bog</td>\n      <td>-124.25</td>\n      <td>47.75</td>\n      <td>temperate forest</td>\n      <td>cool.evergreen.needleleaf.forest</td>\n    </tr>\n    <tr>\n      <th>5222</th>\n      <td>ID_47.82_-122.3</td>\n      <td>cool evergreen needleleaf forest</td>\n      <td>Hall Lake</td>\n      <td>-122.30</td>\n      <td>47.82</td>\n      <td>temperate forest</td>\n      <td>cool.evergreen.needleleaf.forest</td>\n    </tr>\n  </tbody>\n</table>\n</div>"
     },
     "execution_count": 22,
     "metadata": {},
     "output_type": "execute_result"
    }
   ],
   "source": [
    "# ha, 13 values, useless atm\n",
    "pnv_wa_df.head()"
   ],
   "metadata": {
    "collapsed": false,
    "pycharm": {
     "name": "#%%\n"
    }
   }
  },
  {
   "cell_type": "code",
   "execution_count": null,
   "outputs": [],
   "source": [
    "# Maybe not totally useless, going to look at this tomorrow (11/18) and see if there is something we can use as a whole\n",
    "# Having actual site names seems interesting?"
   ],
   "metadata": {
    "collapsed": false,
    "pycharm": {
     "name": "#%%\n"
    }
   }
  }
 ],
 "metadata": {
  "kernelspec": {
   "display_name": "Python 3",
   "language": "python",
   "name": "python3"
  },
  "language_info": {
   "codemirror_mode": {
    "name": "ipython",
    "version": 2
   },
   "file_extension": ".py",
   "mimetype": "text/x-python",
   "name": "python",
   "nbconvert_exporter": "python",
   "pygments_lexer": "ipython2",
   "version": "2.7.6"
  }
 },
 "nbformat": 4,
 "nbformat_minor": 0
}