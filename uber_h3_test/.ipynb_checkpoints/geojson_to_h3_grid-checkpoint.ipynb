{
 "cells": [
  {
   "cell_type": "code",
   "execution_count": 15,
   "id": "2c2e8f18-bf1d-48dc-8fe3-16eb50a6de50",
   "metadata": {},
   "outputs": [],
   "source": [
    "import h3pandas\n",
    "import geopandas as gpd\n",
    "\n",
    "gdf = gpd.read_file(\"message.json\")\n",
    "\n",
    "gdf_h3 = gdf.h3.polyfill(5)"
   ]
  },
  {
   "cell_type": "code",
   "execution_count": 20,
   "id": "23bd6b88-d0b3-47bb-a0b0-807082bb3914",
   "metadata": {},
   "outputs": [
    {
     "name": "stdout",
     "output_type": "stream",
     "text": [
      "  id                                           geometry  \\\n",
      "0  0  MULTIPOLYGON (((-123.09055 49.00198, -123.0353...   \n",
      "\n",
      "                                         h3_polyfill  \n",
      "0  [8528d49bfffffff, 8512da6bfffffff, 8528d3dbfff...  \n"
     ]
    }
   ],
   "source": [
    "print(gdf_h3)"
   ]
  },
  {
   "cell_type": "code",
   "execution_count": null,
   "id": "8687bad4-83b6-4186-a3a8-021b0832cd37",
   "metadata": {},
   "outputs": [],
   "source": [
    "gdf_h3 = gdf_h3.set_index('h3_polyfill').h3.h3_to_geo_boundary()"
   ]
  },
  {
   "cell_type": "code",
   "execution_count": 23,
   "id": "d198a449-a25d-4f09-852b-d339fc1fc61a",
   "metadata": {},
   "outputs": [],
   "source": [
    "gdf_h3 = gdf.h3.polyfill_resample(5)"
   ]
  },
  {
   "cell_type": "code",
   "execution_count": 28,
   "id": "51ee7bca-388a-4585-8da8-b8233ca56abe",
   "metadata": {},
   "outputs": [
    {
     "name": "stdout",
     "output_type": "stream",
     "text": [
      "                 index id                                           geometry\n",
      "h3_polyfill                                                                 \n",
      "8528d49bfffffff      0  0  POLYGON ((-121.36008 46.66237, -121.30109 46.7...\n",
      "8512da6bfffffff      0  0  POLYGON ((-119.10258 47.81185, -119.04010 47.8...\n",
      "8528d3dbfffffff      0  0  POLYGON ((-120.90243 48.73975, -120.84140 48.8...\n",
      "8528d553fffffff      0  0  POLYGON ((-122.17418 47.44720, -122.11564 47.5...\n",
      "8512de2ffffffff      0  0  POLYGON ((-118.34804 48.83484, -118.28391 48.9...\n",
      "...                ... ..                                                ...\n",
      "85288973fffffff      0  0  POLYGON ((-119.84244 46.91425, -119.78147 46.9...\n",
      "8528d06bfffffff      0  0  POLYGON ((-121.08474 48.51738, -121.02410 48.5...\n",
      "8528d6affffffff      0  0  POLYGON ((-120.65140 47.70955, -120.59082 47.7...\n",
      "85288b57fffffff      0  0  POLYGON ((-118.30854 47.28907, -118.24554 47.3...\n",
      "8528d6bbfffffff      0  0  POLYGON ((-120.44804 47.51241, -120.38736 47.5...\n",
      "\n",
      "[769 rows x 3 columns]\n"
     ]
    }
   ],
   "source": [
    "print(gdf_h3)"
   ]
  },
  {
   "cell_type": "code",
   "execution_count": null,
   "id": "e8a2b824-2e73-47ec-a4aa-020d6bf9a431",
   "metadata": {},
   "outputs": [],
   "source": []
  }
 ],
 "metadata": {
  "kernelspec": {
   "display_name": "Python 3 (ipykernel)",
   "language": "python",
   "name": "python3"
  },
  "language_info": {
   "codemirror_mode": {
    "name": "ipython",
    "version": 3
   },
   "file_extension": ".py",
   "mimetype": "text/x-python",
   "name": "python",
   "nbconvert_exporter": "python",
   "pygments_lexer": "ipython3",
   "version": "3.9.7"
  }
 },
 "nbformat": 4,
 "nbformat_minor": 5
}
