{
 "cells": [
  {
   "cell_type": "code",
   "execution_count": 17,
   "id": "922f8eda-4f28-44a8-bfd8-476008f9768b",
   "metadata": {},
   "outputs": [
    {
     "data": {
      "text/plain": [
       "<AxesSubplot:>"
      ]
     },
     "execution_count": 17,
     "metadata": {},
     "output_type": "execute_result"
    },
    {
     "data": {
      "image/png": "[encoded data removed]",
      "text/plain": [
       "<Figure size 432x288 with 1 Axes>"
      ]
     },
     "metadata": {
      "needs_background": "light"
     },
     "output_type": "display_data"
    }
   ],
   "source": [
    "import pandas as pd\n",
    "import geopandas as gpd\n",
    "import georasters as gr\n",
    "\n",
    "total_opp = gr.from_file(\"WA_total_opportunity.tif\")\n",
    "\n",
    "total_opp.plot()\n",
    "\n"
   ]
  },
  {
   "cell_type": "code",
   "execution_count": 7,
   "id": "97548d8b-5dfe-4460-a824-20e5bdd6ffc5",
   "metadata": {},
   "outputs": [
    {
     "data": {
      "text/html": [
       "<div>\n",
       "<style scoped>\n",
       "    .dataframe tbody tr th:only-of-type {\n",
       "        vertical-align: middle;\n",
       "    }\n",
       "\n",
       "    .dataframe tbody tr th {\n",
       "        vertical-align: top;\n",
       "    }\n",
       "\n",
       "    .dataframe thead th {\n",
       "        text-align: right;\n",
       "    }\n",
       "</style>\n",
       "<table border=\"1\" class=\"dataframe\">\n",
       "  <thead>\n",
       "    <tr style=\"text-align: right;\">\n",
       "      <th></th>\n",
       "      <th>row</th>\n",
       "      <th>col</th>\n",
       "      <th>value</th>\n",
       "      <th>x</th>\n",
       "      <th>y</th>\n",
       "    </tr>\n",
       "  </thead>\n",
       "  <tbody>\n",
       "    <tr>\n",
       "      <th>0</th>\n",
       "      <td>3</td>\n",
       "      <td>6047</td>\n",
       "      <td>2.0</td>\n",
       "      <td>-1.956623e+06</td>\n",
       "      <td>3.165512e+06</td>\n",
       "    </tr>\n",
       "    <tr>\n",
       "      <th>1</th>\n",
       "      <td>12</td>\n",
       "      <td>6063</td>\n",
       "      <td>4.0</td>\n",
       "      <td>-1.956143e+06</td>\n",
       "      <td>3.165242e+06</td>\n",
       "    </tr>\n",
       "    <tr>\n",
       "      <th>2</th>\n",
       "      <td>13</td>\n",
       "      <td>6063</td>\n",
       "      <td>5.0</td>\n",
       "      <td>-1.956143e+06</td>\n",
       "      <td>3.165212e+06</td>\n",
       "    </tr>\n",
       "    <tr>\n",
       "      <th>3</th>\n",
       "      <td>14</td>\n",
       "      <td>6063</td>\n",
       "      <td>5.0</td>\n",
       "      <td>-1.956143e+06</td>\n",
       "      <td>3.165182e+06</td>\n",
       "    </tr>\n",
       "    <tr>\n",
       "      <th>4</th>\n",
       "      <td>14</td>\n",
       "      <td>6064</td>\n",
       "      <td>5.0</td>\n",
       "      <td>-1.956113e+06</td>\n",
       "      <td>3.165182e+06</td>\n",
       "    </tr>\n",
       "  </tbody>\n",
       "</table>\n",
       "</div>"
      ],
      "text/plain": [
       "   row   col  value             x             y\n",
       "0    3  6047    2.0 -1.956623e+06  3.165512e+06\n",
       "1   12  6063    4.0 -1.956143e+06  3.165242e+06\n",
       "2   13  6063    5.0 -1.956143e+06  3.165212e+06\n",
       "3   14  6063    5.0 -1.956143e+06  3.165182e+06\n",
       "4   14  6064    5.0 -1.956113e+06  3.165182e+06"
      ]
     },
     "execution_count": 7,
     "metadata": {},
     "output_type": "execute_result"
    }
   ],
   "source": [
    "total_opp = total_opp.to_pandas()\n",
    "total_opp.head()"
   ]
  },
  {
   "cell_type": "code",
   "execution_count": 8,
   "id": "7e30c2e8-9973-4213-92bb-e47f79668e4b",
   "metadata": {},
   "outputs": [
    {
     "name": "stdout",
     "output_type": "stream",
     "text": [
      "            row    col    value             x             y\n",
      "0             3   6047      2.0 -1.956623e+06  3.165512e+06\n",
      "1            12   6063      4.0 -1.956143e+06  3.165242e+06\n",
      "2            13   6063      5.0 -1.956143e+06  3.165212e+06\n",
      "3            14   6063      5.0 -1.956143e+06  3.165182e+06\n",
      "4            14   6064      5.0 -1.956113e+06  3.165182e+06\n",
      "...         ...    ...      ...           ...           ...\n",
      "27023167  14359  17543  54126.0 -1.611743e+06  2.734832e+06\n",
      "27023168  14359  17546  54070.0 -1.611653e+06  2.734832e+06\n",
      "27023169  14360  17540  54129.0 -1.611833e+06  2.734802e+06\n",
      "27023170  14360  17542  54130.0 -1.611773e+06  2.734802e+06\n",
      "27023171  14366  17569  54070.0 -1.610963e+06  2.734622e+06\n",
      "\n",
      "[27023172 rows x 5 columns]\n"
     ]
    }
   ],
   "source": [
    "print(total_opp)"
   ]
  }
 ],
 "metadata": {
  "kernelspec": {
   "display_name": "Python 3 (ipykernel)",
   "language": "python",
   "name": "python3"
  },
  "language_info": {
   "codemirror_mode": {
    "name": "ipython",
    "version": 3
   },
   "file_extension": ".py",
   "mimetype": "text/x-python",
   "name": "python",
   "nbconvert_exporter": "python",
   "pygments_lexer": "ipython3",
   "version": "3.9.7"
  }
 },
 "nbformat": 4,
 "nbformat_minor": 5
}
