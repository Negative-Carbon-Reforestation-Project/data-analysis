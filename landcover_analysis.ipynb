{
 "cells": [
  {
   "cell_type": "code",
   "execution_count": 484,
   "metadata": {
    "collapsed": true
   },
   "outputs": [],
   "source": [
    "import numpy as np\n",
    "import pyreadr\n",
    "import pandas as pd\n",
    "from tensorflow import keras\n",
    "from tensorflow.keras.models import Sequential\n",
    "\n",
    "landcover_dict = pyreadr.read_r('data/landcover/lcv_nat.landcover.pnts_sites.rds')\n",
    "landcover_frame = pd.DataFrame(landcover_dict[None])"
   ]
  },
  {
   "cell_type": "code",
   "execution_count": 444,
   "outputs": [],
   "source": [
    "landcover_matrix = pyreadr.read_r('data/landcover/lcv_nat.landcover.pnts_sites_cm.rds')\n",
    "landcover_matrix_frame = pd.DataFrame(landcover_dict[None])"
   ],
   "metadata": {
    "collapsed": false,
    "pycharm": {
     "name": "#%%\n"
    }
   }
  },
  {
   "cell_type": "code",
   "execution_count": 445,
   "outputs": [
    {
     "data": {
      "text/plain": "      source_db point_id map_code_pnv map_code_glc100m  \\\n0  Geo-wiki_HIF  1176602          112              112   \n1  Geo-wiki_HIF  1178024          112              112   \n2  Geo-wiki_HIF  1177308          112              112   \n3  Geo-wiki_HIF  1178266          112              112   \n4  Geo-wiki_HIF  1210081          114              114   \n\n   longitude_decimal_degrees  latitude_decimal_degrees  \\\n0                   -69.6543                 -6.088210   \n1                    12.0307                  2.679350   \n2                   -70.6701                 -9.147290   \n3                   -56.2436                  0.125054   \n4                    28.6030                 -8.583910   \n\n                               publication_url  \n0  https://www.nature.com/articles/sdata201775  \n1  https://www.nature.com/articles/sdata201775  \n2  https://www.nature.com/articles/sdata201775  \n3  https://www.nature.com/articles/sdata201775  \n4  https://www.nature.com/articles/sdata201775  ",
      "text/html": "<div>\n<style scoped>\n    .dataframe tbody tr th:only-of-type {\n        vertical-align: middle;\n    }\n\n    .dataframe tbody tr th {\n        vertical-align: top;\n    }\n\n    .dataframe thead th {\n        text-align: right;\n    }\n</style>\n<table border=\"1\" class=\"dataframe\">\n  <thead>\n    <tr style=\"text-align: right;\">\n      <th></th>\n      <th>source_db</th>\n      <th>point_id</th>\n      <th>map_code_pnv</th>\n      <th>map_code_glc100m</th>\n      <th>longitude_decimal_degrees</th>\n      <th>latitude_decimal_degrees</th>\n      <th>publication_url</th>\n    </tr>\n  </thead>\n  <tbody>\n    <tr>\n      <th>0</th>\n      <td>Geo-wiki_HIF</td>\n      <td>1176602</td>\n      <td>112</td>\n      <td>112</td>\n      <td>-69.6543</td>\n      <td>-6.088210</td>\n      <td>https://www.nature.com/articles/sdata201775</td>\n    </tr>\n    <tr>\n      <th>1</th>\n      <td>Geo-wiki_HIF</td>\n      <td>1178024</td>\n      <td>112</td>\n      <td>112</td>\n      <td>12.0307</td>\n      <td>2.679350</td>\n      <td>https://www.nature.com/articles/sdata201775</td>\n    </tr>\n    <tr>\n      <th>2</th>\n      <td>Geo-wiki_HIF</td>\n      <td>1177308</td>\n      <td>112</td>\n      <td>112</td>\n      <td>-70.6701</td>\n      <td>-9.147290</td>\n      <td>https://www.nature.com/articles/sdata201775</td>\n    </tr>\n    <tr>\n      <th>3</th>\n      <td>Geo-wiki_HIF</td>\n      <td>1178266</td>\n      <td>112</td>\n      <td>112</td>\n      <td>-56.2436</td>\n      <td>0.125054</td>\n      <td>https://www.nature.com/articles/sdata201775</td>\n    </tr>\n    <tr>\n      <th>4</th>\n      <td>Geo-wiki_HIF</td>\n      <td>1210081</td>\n      <td>114</td>\n      <td>114</td>\n      <td>28.6030</td>\n      <td>-8.583910</td>\n      <td>https://www.nature.com/articles/sdata201775</td>\n    </tr>\n  </tbody>\n</table>\n</div>"
     },
     "execution_count": 445,
     "metadata": {},
     "output_type": "execute_result"
    }
   ],
   "source": [
    "landcover_frame.head()"
   ],
   "metadata": {
    "collapsed": false,
    "pycharm": {
     "name": "#%%\n"
    }
   }
  },
  {
   "cell_type": "code",
   "execution_count": 446,
   "outputs": [
    {
     "data": {
      "text/plain": "      source_db point_id map_code_pnv map_code_glc100m  \\\n0  Geo-wiki_HIF  1176602          112              112   \n1  Geo-wiki_HIF  1178024          112              112   \n2  Geo-wiki_HIF  1177308          112              112   \n3  Geo-wiki_HIF  1178266          112              112   \n4  Geo-wiki_HIF  1210081          114              114   \n\n   longitude_decimal_degrees  latitude_decimal_degrees  \\\n0                   -69.6543                 -6.088210   \n1                    12.0307                  2.679350   \n2                   -70.6701                 -9.147290   \n3                   -56.2436                  0.125054   \n4                    28.6030                 -8.583910   \n\n                               publication_url  \n0  https://www.nature.com/articles/sdata201775  \n1  https://www.nature.com/articles/sdata201775  \n2  https://www.nature.com/articles/sdata201775  \n3  https://www.nature.com/articles/sdata201775  \n4  https://www.nature.com/articles/sdata201775  ",
      "text/html": "<div>\n<style scoped>\n    .dataframe tbody tr th:only-of-type {\n        vertical-align: middle;\n    }\n\n    .dataframe tbody tr th {\n        vertical-align: top;\n    }\n\n    .dataframe thead th {\n        text-align: right;\n    }\n</style>\n<table border=\"1\" class=\"dataframe\">\n  <thead>\n    <tr style=\"text-align: right;\">\n      <th></th>\n      <th>source_db</th>\n      <th>point_id</th>\n      <th>map_code_pnv</th>\n      <th>map_code_glc100m</th>\n      <th>longitude_decimal_degrees</th>\n      <th>latitude_decimal_degrees</th>\n      <th>publication_url</th>\n    </tr>\n  </thead>\n  <tbody>\n    <tr>\n      <th>0</th>\n      <td>Geo-wiki_HIF</td>\n      <td>1176602</td>\n      <td>112</td>\n      <td>112</td>\n      <td>-69.6543</td>\n      <td>-6.088210</td>\n      <td>https://www.nature.com/articles/sdata201775</td>\n    </tr>\n    <tr>\n      <th>1</th>\n      <td>Geo-wiki_HIF</td>\n      <td>1178024</td>\n      <td>112</td>\n      <td>112</td>\n      <td>12.0307</td>\n      <td>2.679350</td>\n      <td>https://www.nature.com/articles/sdata201775</td>\n    </tr>\n    <tr>\n      <th>2</th>\n      <td>Geo-wiki_HIF</td>\n      <td>1177308</td>\n      <td>112</td>\n      <td>112</td>\n      <td>-70.6701</td>\n      <td>-9.147290</td>\n      <td>https://www.nature.com/articles/sdata201775</td>\n    </tr>\n    <tr>\n      <th>3</th>\n      <td>Geo-wiki_HIF</td>\n      <td>1178266</td>\n      <td>112</td>\n      <td>112</td>\n      <td>-56.2436</td>\n      <td>0.125054</td>\n      <td>https://www.nature.com/articles/sdata201775</td>\n    </tr>\n    <tr>\n      <th>4</th>\n      <td>Geo-wiki_HIF</td>\n      <td>1210081</td>\n      <td>114</td>\n      <td>114</td>\n      <td>28.6030</td>\n      <td>-8.583910</td>\n      <td>https://www.nature.com/articles/sdata201775</td>\n    </tr>\n  </tbody>\n</table>\n</div>"
     },
     "execution_count": 446,
     "metadata": {},
     "output_type": "execute_result"
    }
   ],
   "source": [
    "landcover_matrix_frame.head()"
   ],
   "metadata": {
    "collapsed": false,
    "pycharm": {
     "name": "#%%\n"
    }
   }
  },
  {
   "cell_type": "code",
   "execution_count": 447,
   "outputs": [
    {
     "data": {
      "text/plain": "0       -69.65430\n1        12.03070\n2       -70.67010\n3       -56.24360\n4        28.60300\n           ...   \n69254   -72.18957\n69255   -70.64320\n69256   -72.54449\n69257   -71.84280\n69258    35.05200\nName: X, Length: 69259, dtype: float64"
     },
     "execution_count": 447,
     "metadata": {},
     "output_type": "execute_result"
    }
   ],
   "source": [
    "landcover_matrix[None]['X']"
   ],
   "metadata": {
    "collapsed": false,
    "pycharm": {
     "name": "#%%\n"
    }
   }
  },
  {
   "cell_type": "code",
   "execution_count": 448,
   "outputs": [
    {
     "data": {
      "text/plain": "0        -6.088210\n1         2.679350\n2        -9.147290\n3         0.125054\n4        -8.583910\n           ...    \n69254    42.535562\n69255    41.549500\n69256    43.613153\n69257    42.269700\n69258    31.347000\nName: Y, Length: 69259, dtype: float64"
     },
     "execution_count": 448,
     "metadata": {},
     "output_type": "execute_result"
    }
   ],
   "source": [
    "landcover_matrix[None]['Y']\n"
   ],
   "metadata": {
    "collapsed": false,
    "pycharm": {
     "name": "#%%\n"
    }
   }
  },
  {
   "cell_type": "code",
   "execution_count": 449,
   "outputs": [
    {
     "name": "stdout",
     "output_type": "stream",
     "text": [
      "X112\n",
      "X114\n",
      "X111\n",
      "X30\n",
      "X20\n",
      "X124\n",
      "X115\n",
      "X122\n",
      "X121\n",
      "X90\n",
      "X113\n",
      "X125\n",
      "X123\n",
      "X60\n",
      "X100\n",
      "X21\n",
      "X127\n"
     ]
    }
   ],
   "source": [
    "for x in landcover_matrix[None]['map_code_pnv.f'].unique():\n",
    "    print(x)"
   ],
   "metadata": {
    "collapsed": false,
    "pycharm": {
     "name": "#%%\n"
    }
   }
  },
  {
   "cell_type": "code",
   "execution_count": 450,
   "outputs": [
    {
     "data": {
      "text/plain": "0        1\n1        1\n2        1\n3        1\n4        1\n        ..\n69254    1\n69255    1\n69256    1\n69257    1\n69258    1\nName: mask, Length: 69259, dtype: int32"
     },
     "execution_count": 450,
     "metadata": {},
     "output_type": "execute_result"
    }
   ],
   "source": [
    "landcover_matrix[None]['mask']"
   ],
   "metadata": {
    "collapsed": false,
    "pycharm": {
     "name": "#%%\n"
    }
   }
  },
  {
   "cell_type": "code",
   "execution_count": 451,
   "outputs": [
    {
     "data": {
      "text/plain": "67005"
     },
     "execution_count": 451,
     "metadata": {},
     "output_type": "execute_result"
    }
   ],
   "source": [
    "len(landcover_dict[None]['point_id'].unique())"
   ],
   "metadata": {
    "collapsed": false,
    "pycharm": {
     "name": "#%%\n"
    }
   }
  },
  {
   "cell_type": "code",
   "execution_count": 452,
   "outputs": [
    {
     "data": {
      "text/plain": "73200"
     },
     "execution_count": 452,
     "metadata": {},
     "output_type": "execute_result"
    }
   ],
   "source": [
    "len(landcover_dict[None])"
   ],
   "metadata": {
    "collapsed": false,
    "pycharm": {
     "name": "#%%\n"
    }
   }
  },
  {
   "cell_type": "code",
   "execution_count": 453,
   "outputs": [
    {
     "data": {
      "text/plain": "array(['112', '114', '111', '30', '20', '124', '115', '122', '121', '90',\n       '113', '125', '123', '60', '100', nan, '126', '40', '200', '80',\n       '116', '50', '70'], dtype=object)"
     },
     "execution_count": 453,
     "metadata": {},
     "output_type": "execute_result"
    }
   ],
   "source": [
    "landcover_dict[None]['map_code_glc100m'].unique()"
   ],
   "metadata": {
    "collapsed": false,
    "pycharm": {
     "name": "#%%\n"
    }
   }
  },
  {
   "cell_type": "code",
   "execution_count": 454,
   "outputs": [],
   "source": [
    "wa_landcover_frame = landcover_frame[(landcover_frame['longitude_decimal_degrees'] >= -125) & (landcover_frame['longitude_decimal_degrees'] <= -116)]"
   ],
   "metadata": {
    "collapsed": false,
    "pycharm": {
     "name": "#%%\n"
    }
   }
  },
  {
   "cell_type": "code",
   "execution_count": 455,
   "outputs": [
    {
     "data": {
      "text/plain": "2751"
     },
     "execution_count": 455,
     "metadata": {},
     "output_type": "execute_result"
    }
   ],
   "source": [
    "len(wa_landcover_frame)"
   ],
   "metadata": {
    "collapsed": false,
    "pycharm": {
     "name": "#%%\n"
    }
   }
  },
  {
   "cell_type": "code",
   "execution_count": 456,
   "outputs": [
    {
     "data": {
      "text/plain": "74.2606270975"
     },
     "execution_count": 456,
     "metadata": {},
     "output_type": "execute_result"
    }
   ],
   "source": [
    "wa_landcover_frame['latitude_decimal_degrees'].max()"
   ],
   "metadata": {
    "collapsed": false,
    "pycharm": {
     "name": "#%%\n"
    }
   }
  },
  {
   "cell_type": "code",
   "execution_count": 457,
   "outputs": [],
   "source": [
    "wa_landcover_frame = wa_landcover_frame[(wa_landcover_frame['latitude_decimal_degrees'] >= 45) & (wa_landcover_frame['latitude_decimal_degrees'] <= 49)]\n",
    "\n"
   ],
   "metadata": {
    "collapsed": false,
    "pycharm": {
     "name": "#%%\n"
    }
   }
  },
  {
   "cell_type": "code",
   "execution_count": 458,
   "outputs": [
    {
     "data": {
      "text/plain": "361"
     },
     "execution_count": 458,
     "metadata": {},
     "output_type": "execute_result"
    }
   ],
   "source": [
    "len(wa_landcover_frame)"
   ],
   "metadata": {
    "collapsed": false,
    "pycharm": {
     "name": "#%%\n"
    }
   }
  },
  {
   "cell_type": "code",
   "execution_count": 459,
   "outputs": [
    {
     "data": {
      "text/plain": "         source_db point_id map_code_pnv map_code_glc100m  \\\n6639  Geo-wiki_HIF  1228643          111              111   \n6672  Geo-wiki_HIF  1247093          111              111   \n6685  Geo-wiki_HIF  1250169          115              115   \n6702  Geo-wiki_HIF  1243472          111              111   \n6706  Geo-wiki_HIF  1218208          111              111   \n\n      longitude_decimal_degrees  latitude_decimal_degrees  \\\n6639                   -116.814                   48.0308   \n6672                   -123.805                   47.3273   \n6685                   -123.608                   45.7884   \n6702                   -116.493                   47.9070   \n6706                   -118.574                   48.6549   \n\n                                  publication_url  \n6639  https://www.nature.com/articles/sdata201775  \n6672  https://www.nature.com/articles/sdata201775  \n6685  https://www.nature.com/articles/sdata201775  \n6702  https://www.nature.com/articles/sdata201775  \n6706  https://www.nature.com/articles/sdata201775  ",
      "text/html": "<div>\n<style scoped>\n    .dataframe tbody tr th:only-of-type {\n        vertical-align: middle;\n    }\n\n    .dataframe tbody tr th {\n        vertical-align: top;\n    }\n\n    .dataframe thead th {\n        text-align: right;\n    }\n</style>\n<table border=\"1\" class=\"dataframe\">\n  <thead>\n    <tr style=\"text-align: right;\">\n      <th></th>\n      <th>source_db</th>\n      <th>point_id</th>\n      <th>map_code_pnv</th>\n      <th>map_code_glc100m</th>\n      <th>longitude_decimal_degrees</th>\n      <th>latitude_decimal_degrees</th>\n      <th>publication_url</th>\n    </tr>\n  </thead>\n  <tbody>\n    <tr>\n      <th>6639</th>\n      <td>Geo-wiki_HIF</td>\n      <td>1228643</td>\n      <td>111</td>\n      <td>111</td>\n      <td>-116.814</td>\n      <td>48.0308</td>\n      <td>https://www.nature.com/articles/sdata201775</td>\n    </tr>\n    <tr>\n      <th>6672</th>\n      <td>Geo-wiki_HIF</td>\n      <td>1247093</td>\n      <td>111</td>\n      <td>111</td>\n      <td>-123.805</td>\n      <td>47.3273</td>\n      <td>https://www.nature.com/articles/sdata201775</td>\n    </tr>\n    <tr>\n      <th>6685</th>\n      <td>Geo-wiki_HIF</td>\n      <td>1250169</td>\n      <td>115</td>\n      <td>115</td>\n      <td>-123.608</td>\n      <td>45.7884</td>\n      <td>https://www.nature.com/articles/sdata201775</td>\n    </tr>\n    <tr>\n      <th>6702</th>\n      <td>Geo-wiki_HIF</td>\n      <td>1243472</td>\n      <td>111</td>\n      <td>111</td>\n      <td>-116.493</td>\n      <td>47.9070</td>\n      <td>https://www.nature.com/articles/sdata201775</td>\n    </tr>\n    <tr>\n      <th>6706</th>\n      <td>Geo-wiki_HIF</td>\n      <td>1218208</td>\n      <td>111</td>\n      <td>111</td>\n      <td>-118.574</td>\n      <td>48.6549</td>\n      <td>https://www.nature.com/articles/sdata201775</td>\n    </tr>\n  </tbody>\n</table>\n</div>"
     },
     "execution_count": 459,
     "metadata": {},
     "output_type": "execute_result"
    }
   ],
   "source": [
    "wa_landcover_frame.head()"
   ],
   "metadata": {
    "collapsed": false,
    "pycharm": {
     "name": "#%%\n"
    }
   }
  },
  {
   "cell_type": "code",
   "execution_count": 461,
   "outputs": [],
   "source": [
    "# class_attr_unique = {0: 'unknown', 1:'forests', 2:'shurbs', 3:'herbaceous vegetation', 4:'herbaceous wetland', 5:'moss lichen',\n",
    "#                           6:'bare/sparse vegetation', 7:'cropland', 8:'urban', 9:'snow and ice', 10:'permanent water bodies',\n",
    "#                           11:'open sea'}\n",
    "# class_attr_unique = {111: 'forests', 113: 'forests', 112: 'forests', 114: 'forests', 115: 'forests', 116: 'forests',\n",
    "#                121: 'forests', 123: 'forests', 122: 'forests', 124: 'forests', 125: 'forests', 126: 'forests',\n",
    "#                127: 'forests', 21: 'shurbs', 30: 'herbaceous vegetation', 90: 'herbaceous wetland', 100: 'moss lichen',\n",
    "#                60: 'bare/sparse vegetation', 40: 'cropland', 50: 'urban', 70: 'snow and ice', 80: 'permanent water bodies',\n",
    "#                200: 'open sea'}\n",
    "\n",
    "class_attr_unique = {111: 1, 113: 1, 112: 1, 114: 1, 115: 1, 116: 1,\n",
    "                     121: 1, 123: 1, 122: 1, 124: 1, 125: 1, 126: 1,\n",
    "                     127: 1, 21: 2, 30: 3, 90: 4, 100: 5,\n",
    "                     60: 6, 40: 7, 50: 8, 70: 9, 80: 10,\n",
    "                     200: 11}"
   ],
   "metadata": {
    "collapsed": false,
    "pycharm": {
     "name": "#%%\n"
    }
   }
  },
  {
   "cell_type": "code",
   "execution_count": 462,
   "outputs": [
    {
     "data": {
      "text/plain": "dict"
     },
     "execution_count": 462,
     "metadata": {},
     "output_type": "execute_result"
    }
   ],
   "source": [
    "type(class_attr_unique)"
   ],
   "metadata": {
    "collapsed": false,
    "pycharm": {
     "name": "#%%\n"
    }
   }
  },
  {
   "cell_type": "code",
   "execution_count": 463,
   "outputs": [],
   "source": [
    "wa_landcover_frame = wa_landcover_frame.drop(['longitude_decimal_degrees', 'latitude_decimal_degrees', 'source_db', 'publication_url', 'map_code_pnv'], axis=1)"
   ],
   "metadata": {
    "collapsed": false,
    "pycharm": {
     "name": "#%%\n"
    }
   }
  },
  {
   "cell_type": "code",
   "execution_count": 464,
   "outputs": [],
   "source": [
    "wa_landcover_frame = wa_landcover_frame.fillna(0)"
   ],
   "metadata": {
    "collapsed": false,
    "pycharm": {
     "name": "#%%\n"
    }
   }
  },
  {
   "cell_type": "code",
   "execution_count": 465,
   "outputs": [],
   "source": [
    "wa_landcover_frame['map_code_glc100m'] = wa_landcover_frame['map_code_glc100m'].astype(str).astype(int)"
   ],
   "metadata": {
    "collapsed": false,
    "pycharm": {
     "name": "#%%\n"
    }
   }
  },
  {
   "cell_type": "code",
   "execution_count": 466,
   "outputs": [],
   "source": [
    "wa_landcover_frame.replace({'map_code_glc100m': class_attr_unique}, inplace=True)"
   ],
   "metadata": {
    "collapsed": false,
    "pycharm": {
     "name": "#%%\n"
    }
   }
  },
  {
   "cell_type": "code",
   "execution_count": 467,
   "outputs": [
    {
     "data": {
      "text/plain": "array([ 1,  3,  0,  7,  8, 11], dtype=int64)"
     },
     "execution_count": 467,
     "metadata": {},
     "output_type": "execute_result"
    }
   ],
   "source": [
    "wa_landcover_frame['map_code_glc100m'].unique()"
   ],
   "metadata": {
    "collapsed": false,
    "pycharm": {
     "name": "#%%\n"
    }
   }
  },
  {
   "cell_type": "code",
   "execution_count": 468,
   "outputs": [],
   "source": [
    "test_one_hot = keras.utils.to_categorical(wa_landcover_frame['map_code_glc100m'], num_classes=12)"
   ],
   "metadata": {
    "collapsed": false,
    "pycharm": {
     "name": "#%%\n"
    }
   }
  },
  {
   "cell_type": "code",
   "execution_count": 469,
   "outputs": [
    {
     "data": {
      "text/plain": "6639     1\n6672     1\n6685     1\n6702     1\n6706     1\n        ..\n73187    0\n73189    0\n73191    0\n73192    0\n73193    0\nName: map_code_glc100m, Length: 361, dtype: int64"
     },
     "execution_count": 469,
     "metadata": {},
     "output_type": "execute_result"
    }
   ],
   "source": [
    "wa_landcover_frame['map_code_glc100m']"
   ],
   "metadata": {
    "collapsed": false,
    "pycharm": {
     "name": "#%%\n"
    }
   }
  },
  {
   "cell_type": "code",
   "execution_count": 470,
   "outputs": [],
   "source": [
    "wa_landcover_frame['class'] = ''"
   ],
   "metadata": {
    "collapsed": false,
    "pycharm": {
     "name": "#%%\n"
    }
   }
  },
  {
   "cell_type": "code",
   "execution_count": 471,
   "outputs": [
    {
     "data": {
      "text/plain": "      point_id  map_code_glc100m class\n6639   1228643                 1      \n6672   1247093                 1      \n6685   1250169                 1      \n6702   1243472                 1      \n6706   1218208                 1      \n...        ...               ...   ...\n73187     1000                 0      \n73189     1000                 0      \n73191     1000                 0      \n73192     2000                 0      \n73193     1000                 0      \n\n[361 rows x 3 columns]",
      "text/html": "<div>\n<style scoped>\n    .dataframe tbody tr th:only-of-type {\n        vertical-align: middle;\n    }\n\n    .dataframe tbody tr th {\n        vertical-align: top;\n    }\n\n    .dataframe thead th {\n        text-align: right;\n    }\n</style>\n<table border=\"1\" class=\"dataframe\">\n  <thead>\n    <tr style=\"text-align: right;\">\n      <th></th>\n      <th>point_id</th>\n      <th>map_code_glc100m</th>\n      <th>class</th>\n    </tr>\n  </thead>\n  <tbody>\n    <tr>\n      <th>6639</th>\n      <td>1228643</td>\n      <td>1</td>\n      <td></td>\n    </tr>\n    <tr>\n      <th>6672</th>\n      <td>1247093</td>\n      <td>1</td>\n      <td></td>\n    </tr>\n    <tr>\n      <th>6685</th>\n      <td>1250169</td>\n      <td>1</td>\n      <td></td>\n    </tr>\n    <tr>\n      <th>6702</th>\n      <td>1243472</td>\n      <td>1</td>\n      <td></td>\n    </tr>\n    <tr>\n      <th>6706</th>\n      <td>1218208</td>\n      <td>1</td>\n      <td></td>\n    </tr>\n    <tr>\n      <th>...</th>\n      <td>...</td>\n      <td>...</td>\n      <td>...</td>\n    </tr>\n    <tr>\n      <th>73187</th>\n      <td>1000</td>\n      <td>0</td>\n      <td></td>\n    </tr>\n    <tr>\n      <th>73189</th>\n      <td>1000</td>\n      <td>0</td>\n      <td></td>\n    </tr>\n    <tr>\n      <th>73191</th>\n      <td>1000</td>\n      <td>0</td>\n      <td></td>\n    </tr>\n    <tr>\n      <th>73192</th>\n      <td>2000</td>\n      <td>0</td>\n      <td></td>\n    </tr>\n    <tr>\n      <th>73193</th>\n      <td>1000</td>\n      <td>0</td>\n      <td></td>\n    </tr>\n  </tbody>\n</table>\n<p>361 rows × 3 columns</p>\n</div>"
     },
     "execution_count": 471,
     "metadata": {},
     "output_type": "execute_result"
    }
   ],
   "source": [
    "wa_landcover_frame"
   ],
   "metadata": {
    "collapsed": false,
    "pycharm": {
     "name": "#%%\n"
    }
   }
  },
  {
   "cell_type": "code",
   "execution_count": 472,
   "outputs": [
    {
     "name": "stderr",
     "output_type": "stream",
     "text": [
      "C:\\Users\\mattt\\AppData\\Local\\Programs\\Python\\Python39\\lib\\site-packages\\pandas\\core\\indexing.py:1732: SettingWithCopyWarning: \n",
      "A value is trying to be set on a copy of a slice from a DataFrame\n",
      "\n",
      "See the caveats in the documentation: https://pandas.pydata.org/pandas-docs/stable/user_guide/indexing.html#returning-a-view-versus-a-copy\n",
      "  self._setitem_single_block(indexer, value, name)\n"
     ]
    }
   ],
   "source": [
    "# wa_landcover_frame = landcover_frame[(landcover_frame['longitude_decimal_degrees'] >= -125) & (landcover_frame['longitude_decimal_degrees'] <= -116)]\n",
    "count = 0\n",
    "for value in wa_landcover_frame['map_code_glc100m']:\n",
    "    if value == 0:\n",
    "        wa_landcover_frame['class'].iloc[count] = 0\n",
    "    if value == 1:\n",
    "        wa_landcover_frame['class'].iloc[count] = 0\n",
    "    if value == 3:\n",
    "        wa_landcover_frame['class'].iloc[count] = 1\n",
    "    if value == 7:\n",
    "        wa_landcover_frame['class'].iloc[count] = 1\n",
    "    if value == 8:\n",
    "        wa_landcover_frame['class'].iloc[count] = 0\n",
    "    if value == 11:\n",
    "        wa_landcover_frame['class'].iloc[count] = 0\n",
    "    count += 1\n"
   ],
   "metadata": {
    "collapsed": false,
    "pycharm": {
     "name": "#%%\n"
    }
   }
  },
  {
   "cell_type": "code",
   "execution_count": 473,
   "outputs": [
    {
     "data": {
      "text/plain": "      point_id  map_code_glc100m class\n6639   1228643                 1     0\n6672   1247093                 1     0\n6685   1250169                 1     0\n6702   1243472                 1     0\n6706   1218208                 1     0\n...        ...               ...   ...\n73187     1000                 0     0\n73189     1000                 0     0\n73191     1000                 0     0\n73192     2000                 0     0\n73193     1000                 0     0\n\n[361 rows x 3 columns]",
      "text/html": "<div>\n<style scoped>\n    .dataframe tbody tr th:only-of-type {\n        vertical-align: middle;\n    }\n\n    .dataframe tbody tr th {\n        vertical-align: top;\n    }\n\n    .dataframe thead th {\n        text-align: right;\n    }\n</style>\n<table border=\"1\" class=\"dataframe\">\n  <thead>\n    <tr style=\"text-align: right;\">\n      <th></th>\n      <th>point_id</th>\n      <th>map_code_glc100m</th>\n      <th>class</th>\n    </tr>\n  </thead>\n  <tbody>\n    <tr>\n      <th>6639</th>\n      <td>1228643</td>\n      <td>1</td>\n      <td>0</td>\n    </tr>\n    <tr>\n      <th>6672</th>\n      <td>1247093</td>\n      <td>1</td>\n      <td>0</td>\n    </tr>\n    <tr>\n      <th>6685</th>\n      <td>1250169</td>\n      <td>1</td>\n      <td>0</td>\n    </tr>\n    <tr>\n      <th>6702</th>\n      <td>1243472</td>\n      <td>1</td>\n      <td>0</td>\n    </tr>\n    <tr>\n      <th>6706</th>\n      <td>1218208</td>\n      <td>1</td>\n      <td>0</td>\n    </tr>\n    <tr>\n      <th>...</th>\n      <td>...</td>\n      <td>...</td>\n      <td>...</td>\n    </tr>\n    <tr>\n      <th>73187</th>\n      <td>1000</td>\n      <td>0</td>\n      <td>0</td>\n    </tr>\n    <tr>\n      <th>73189</th>\n      <td>1000</td>\n      <td>0</td>\n      <td>0</td>\n    </tr>\n    <tr>\n      <th>73191</th>\n      <td>1000</td>\n      <td>0</td>\n      <td>0</td>\n    </tr>\n    <tr>\n      <th>73192</th>\n      <td>2000</td>\n      <td>0</td>\n      <td>0</td>\n    </tr>\n    <tr>\n      <th>73193</th>\n      <td>1000</td>\n      <td>0</td>\n      <td>0</td>\n    </tr>\n  </tbody>\n</table>\n<p>361 rows × 3 columns</p>\n</div>"
     },
     "execution_count": 473,
     "metadata": {},
     "output_type": "execute_result"
    }
   ],
   "source": [
    "wa_landcover_frame"
   ],
   "metadata": {
    "collapsed": false,
    "pycharm": {
     "name": "#%%\n"
    }
   }
  },
  {
   "cell_type": "code",
   "execution_count": 475,
   "outputs": [
    {
     "data": {
      "text/plain": "0    346\n1     15\nName: class, dtype: int64"
     },
     "execution_count": 475,
     "metadata": {},
     "output_type": "execute_result"
    }
   ],
   "source": [
    "wa_landcover_frame['class'].value_counts()"
   ],
   "metadata": {
    "collapsed": false,
    "pycharm": {
     "name": "#%%\n"
    }
   }
  },
  {
   "cell_type": "code",
   "execution_count": 490,
   "outputs": [],
   "source": [
    "wa_landcover_frame_train = test_one_hot[:300]\n",
    "wa_landcover_frame_valid = test_one_hot[300:]\n",
    "\n",
    "wa_landcover_frame_train_class = wa_landcover_frame['class'][:300]\n",
    "wa_landcover_frame_valid_class = wa_landcover_frame['class'][300:]"
   ],
   "metadata": {
    "collapsed": false,
    "pycharm": {
     "name": "#%%\n"
    }
   }
  },
  {
   "cell_type": "code",
   "execution_count": 535,
   "outputs": [
    {
     "name": "stdout",
     "output_type": "stream",
     "text": [
      "Model: \"sequential_9\"\n",
      "_________________________________________________________________\n",
      " Layer (type)                Output Shape              Param #   \n",
      "=================================================================\n",
      " dense_17 (Dense)            (None, 1)                 13        \n",
      "                                                                 \n",
      "=================================================================\n",
      "Total params: 13\n",
      "Trainable params: 13\n",
      "Non-trainable params: 0\n",
      "_________________________________________________________________\n"
     ]
    }
   ],
   "source": [
    "first_model_landcover = Sequential()\n",
    "\n",
    "first_model_landcover.add(keras.layers.InputLayer(input_shape = [12]))\n",
    "# first_model_landcover.add(keras.layers.Dense(2, activation='relu'))\n",
    "# first_model_landcover.add(keras.layers.Dense(5, activation='relu'))\n",
    "first_model_landcover.add(keras.layers.Dense(1, activation='sigmoid'))\n",
    "\n",
    "first_model_landcover.summary()"
   ],
   "metadata": {
    "collapsed": false,
    "pycharm": {
     "name": "#%%\n"
    }
   }
  },
  {
   "cell_type": "code",
   "execution_count": 536,
   "outputs": [],
   "source": [
    "first_model_landcover.compile(loss='binary_crossentropy',\n",
    "                              optimizer='adam',\n",
    "                              metrics='accuracy')"
   ],
   "metadata": {
    "collapsed": false,
    "pycharm": {
     "name": "#%%\n"
    }
   }
  },
  {
   "cell_type": "code",
   "execution_count": 537,
   "outputs": [
    {
     "name": "stdout",
     "output_type": "stream",
     "text": [
      "Epoch 1/25\n",
      "10/10 [==============================] - 0s 9ms/step - loss: 0.4940 - accuracy: 0.9600 - val_loss: 0.5250 - val_accuracy: 0.9344\b\b\b\b\b\b\b\b\b\b\b\b\b\b\b\b\b\b\b\b\b\b\b\b\b\b\b\b\b\b\b\b\b\b\b\b\n",
      "Epoch 2/25\n",
      "10/10 [==============================] - 0s 2ms/step - loss: 0.4870 - accuracy: 0.9600 - val_loss: 0.5182 - val_accuracy: 0.9344\b\b\b\b\b\b\b\b\b\b\b\b\b\b\b\b\b\b\b\b\b\b\b\b\b\b\b\b\b\b\b\b\b\b\b\b\n",
      "Epoch 3/25\n",
      "10/10 [==============================] - 0s 2ms/step - loss: 0.4800 - accuracy: 0.9600 - val_loss: 0.5116 - val_accuracy: 0.9344\b\b\b\b\b\b\b\b\b\b\b\b\b\b\b\b\b\b\b\b\b\b\b\b\b\b\b\b\b\b\b\b\b\b\b\b\n",
      "Epoch 4/25\n",
      "10/10 [==============================] - 0s 2ms/step - loss: 0.4732 - accuracy: 0.9600 - val_loss: 0.5052 - val_accuracy: 0.9344\b\b\b\b\b\b\b\b\b\b\b\b\b\b\b\b\b\b\b\b\b\b\b\b\b\b\b\b\b\b\b\b\b\b\b\b\n",
      "Epoch 5/25\n",
      "10/10 [==============================] - 0s 2ms/step - loss: 0.4664 - accuracy: 0.9600 - val_loss: 0.4988 - val_accuracy: 0.9344\b\b\b\b\b\b\b\b\b\b\b\b\b\b\b\b\b\b\b\b\b\b\b\b\b\b\b\b\b\b\b\b\b\b\b\b\n",
      "Epoch 6/25\n",
      "10/10 [==============================] - 0s 2ms/step - loss: 0.4598 - accuracy: 0.9600 - val_loss: 0.4925 - val_accuracy: 0.9344\b\b\b\b\b\b\b\b\b\b\b\b\b\b\b\b\b\b\b\b\b\b\b\b\b\b\b\b\b\b\b\b\b\b\b\b\n",
      "Epoch 7/25\n",
      "10/10 [==============================] - 0s 2ms/step - loss: 0.4533 - accuracy: 0.9600 - val_loss: 0.4865 - val_accuracy: 0.9344\b\b\b\b\b\b\b\b\b\b\b\b\b\b\b\b\b\b\b\b\b\b\b\b\b\b\b\b\b\b\b\b\b\b\b\b\n",
      "Epoch 8/25\n",
      "10/10 [==============================] - 0s 2ms/step - loss: 0.4469 - accuracy: 0.9600 - val_loss: 0.4804 - val_accuracy: 0.9344\b\b\b\b\b\b\b\b\b\b\b\b\b\b\b\b\b\b\b\b\b\b\b\b\b\b\b\b\b\b\b\b\b\b\b\b\n",
      "Epoch 9/25\n",
      "10/10 [==============================] - 0s 2ms/step - loss: 0.4407 - accuracy: 0.9600 - val_loss: 0.4744 - val_accuracy: 0.9344\b\b\b\b\b\b\b\b\b\b\b\b\b\b\b\b\b\b\b\b\b\b\b\b\b\b\b\b\b\b\b\b\b\b\b\b\n",
      "Epoch 10/25\n",
      "10/10 [==============================] - 0s 2ms/step - loss: 0.4346 - accuracy: 0.9600 - val_loss: 0.4684 - val_accuracy: 0.9344\b\b\b\b\b\b\b\b\b\b\b\b\b\b\b\b\b\b\b\b\b\b\b\b\b\b\b\b\b\b\b\b\b\b\b\b\n",
      "Epoch 11/25\n",
      "10/10 [==============================] - 0s 2ms/step - loss: 0.4286 - accuracy: 0.9600 - val_loss: 0.4627 - val_accuracy: 0.9344\b\b\b\b\b\b\b\b\b\b\b\b\b\b\b\b\b\b\b\b\b\b\b\b\b\b\b\b\b\b\b\b\b\b\b\b\n",
      "Epoch 12/25\n",
      "10/10 [==============================] - 0s 2ms/step - loss: 0.4227 - accuracy: 0.9600 - val_loss: 0.4572 - val_accuracy: 0.9344\b\b\b\b\b\b\b\b\b\b\b\b\b\b\b\b\b\b\b\b\b\b\b\b\b\b\b\b\b\b\b\b\b\b\b\b\n",
      "Epoch 13/25\n",
      "10/10 [==============================] - 0s 2ms/step - loss: 0.4169 - accuracy: 0.9600 - val_loss: 0.4517 - val_accuracy: 0.9344\b\b\b\b\b\b\b\b\b\b\b\b\b\b\b\b\b\b\b\b\b\b\b\b\b\b\b\b\b\b\b\b\b\b\b\b\n",
      "Epoch 14/25\n",
      "10/10 [==============================] - 0s 2ms/step - loss: 0.4112 - accuracy: 0.9600 - val_loss: 0.4464 - val_accuracy: 0.9344\b\b\b\b\b\b\b\b\b\b\b\b\b\b\b\b\b\b\b\b\b\b\b\b\b\b\b\b\b\b\b\b\b\b\b\b\n",
      "Epoch 15/25\n",
      "10/10 [==============================] - 0s 2ms/step - loss: 0.4056 - accuracy: 0.9600 - val_loss: 0.4412 - val_accuracy: 0.9344\b\b\b\b\b\b\b\b\b\b\b\b\b\b\b\b\b\b\b\b\b\b\b\b\b\b\b\b\b\b\b\b\b\b\b\b\n",
      "Epoch 16/25\n",
      "10/10 [==============================] - 0s 2ms/step - loss: 0.4001 - accuracy: 0.9600 - val_loss: 0.4359 - val_accuracy: 0.9344\b\b\b\b\b\b\b\b\b\b\b\b\b\b\b\b\b\b\b\b\b\b\b\b\b\b\b\b\b\b\b\b\b\b\b\b\n",
      "Epoch 17/25\n",
      "10/10 [==============================] - 0s 2ms/step - loss: 0.3948 - accuracy: 0.9600 - val_loss: 0.4309 - val_accuracy: 0.9344\b\b\b\b\b\b\b\b\b\b\b\b\b\b\b\b\b\b\b\b\b\b\b\b\b\b\b\b\b\b\b\b\b\b\b\b\n",
      "Epoch 18/25\n",
      "10/10 [==============================] - 0s 2ms/step - loss: 0.3895 - accuracy: 0.9600 - val_loss: 0.4257 - val_accuracy: 0.9344\b\b\b\b\b\b\b\b\b\b\b\b\b\b\b\b\b\b\b\b\b\b\b\b\b\b\b\b\b\b\b\b\b\b\b\b\n",
      "Epoch 19/25\n",
      "10/10 [==============================] - 0s 2ms/step - loss: 0.3843 - accuracy: 0.9600 - val_loss: 0.4209 - val_accuracy: 0.9344\b\b\b\b\b\b\b\b\b\b\b\b\b\b\b\b\b\b\b\b\b\b\b\b\b\b\b\b\b\b\b\b\b\b\b\b\n",
      "Epoch 20/25\n",
      "10/10 [==============================] - 0s 2ms/step - loss: 0.3793 - accuracy: 0.9600 - val_loss: 0.4161 - val_accuracy: 0.9344\b\b\b\b\b\b\b\b\b\b\b\b\b\b\b\b\b\b\b\b\b\b\b\b\b\b\b\b\b\b\b\b\b\b\b\b\n",
      "Epoch 21/25\n",
      "10/10 [==============================] - 0s 2ms/step - loss: 0.3743 - accuracy: 0.9600 - val_loss: 0.4114 - val_accuracy: 0.9508\b\b\b\b\b\b\b\b\b\b\b\b\b\b\b\b\b\b\b\b\b\b\b\b\b\b\b\b\b\b\b\b\b\b\b\b\n",
      "Epoch 22/25\n",
      "10/10 [==============================] - 0s 2ms/step - loss: 0.3694 - accuracy: 0.9600 - val_loss: 0.4068 - val_accuracy: 0.9508\b\b\b\b\b\b\b\b\b\b\b\b\b\b\b\b\b\b\b\b\b\b\b\b\b\b\b\b\b\b\b\b\b\b\b\b\n",
      "Epoch 23/25\n",
      "10/10 [==============================] - 0s 2ms/step - loss: 0.3646 - accuracy: 0.9600 - val_loss: 0.4024 - val_accuracy: 0.9508\b\b\b\b\b\b\b\b\b\b\b\b\b\b\b\b\b\b\b\b\b\b\b\b\b\b\b\b\b\b\b\b\b\b\b\b\n",
      "Epoch 24/25\n",
      "10/10 [==============================] - 0s 2ms/step - loss: 0.3599 - accuracy: 0.9600 - val_loss: 0.3980 - val_accuracy: 0.9508\b\b\b\b\b\b\b\b\b\b\b\b\b\b\b\b\b\b\b\b\b\b\b\b\b\b\b\b\b\b\b\b\b\b\b\b\n",
      "Epoch 25/25\n",
      "10/10 [==============================] - 0s 2ms/step - loss: 0.3553 - accuracy: 0.9600 - val_loss: 0.3937 - val_accuracy: 0.9508\b\b\b\b\b\b\b\b\b\b\b\b\b\b\b\b\b\b\b\b\b\b\b\b\b\b\b\b\b\b\b\b\b\b\b\b\n"
     ]
    },
    {
     "data": {
      "text/plain": "<keras.callbacks.History at 0x205a07c57c0>"
     },
     "execution_count": 537,
     "metadata": {},
     "output_type": "execute_result"
    }
   ],
   "source": [
    "first_model_landcover.fit(wa_landcover_frame_train, np.asarray(wa_landcover_frame_train_class.to_list()), epochs=25, validation_data=(wa_landcover_frame_valid, np.asarray(wa_landcover_frame_valid_class.to_list())))"
   ],
   "metadata": {
    "collapsed": false,
    "pycharm": {
     "name": "#%%\n"
    }
   }
  },
  {
   "cell_type": "code",
   "execution_count": 503,
   "outputs": [
    {
     "data": {
      "text/plain": "numpy.ndarray"
     },
     "execution_count": 503,
     "metadata": {},
     "output_type": "execute_result"
    }
   ],
   "source": [
    "type(wa_landcover_frame_train[0])"
   ],
   "metadata": {
    "collapsed": false,
    "pycharm": {
     "name": "#%%\n"
    }
   }
  },
  {
   "cell_type": "code",
   "execution_count": 504,
   "outputs": [
    {
     "data": {
      "text/plain": "numpy.ndarray"
     },
     "execution_count": 504,
     "metadata": {},
     "output_type": "execute_result"
    }
   ],
   "source": [
    "type(test_one_hot[0])"
   ],
   "metadata": {
    "collapsed": false,
    "pycharm": {
     "name": "#%%\n"
    }
   }
  },
  {
   "cell_type": "code",
   "execution_count": 506,
   "outputs": [
    {
     "data": {
      "text/plain": "pandas.core.series.Series"
     },
     "execution_count": 506,
     "metadata": {},
     "output_type": "execute_result"
    }
   ],
   "source": [
    "type(wa_landcover_frame_train_class)"
   ],
   "metadata": {
    "collapsed": false,
    "pycharm": {
     "name": "#%%\n"
    }
   }
  },
  {
   "cell_type": "code",
   "execution_count": 508,
   "outputs": [
    {
     "data": {
      "text/plain": "6639     0\n6672     0\n6685     0\n6702     0\n6706     0\n        ..\n50504    0\n50547    0\n50569    0\n50582    0\n50590    0\nName: class, Length: 300, dtype: object"
     },
     "execution_count": 508,
     "metadata": {},
     "output_type": "execute_result"
    }
   ],
   "source": [
    "wa_landcover_frame_train_class\n"
   ],
   "metadata": {
    "collapsed": false,
    "pycharm": {
     "name": "#%%\n"
    }
   }
  },
  {
   "cell_type": "code",
   "execution_count": 509,
   "outputs": [
    {
     "data": {
      "text/plain": "array([[0., 1., 0., ..., 0., 0., 0.],\n       [0., 1., 0., ..., 0., 0., 0.],\n       [0., 1., 0., ..., 0., 0., 0.],\n       ...,\n       [1., 0., 0., ..., 0., 0., 0.],\n       [1., 0., 0., ..., 0., 0., 0.],\n       [1., 0., 0., ..., 0., 0., 0.]], dtype=float32)"
     },
     "execution_count": 509,
     "metadata": {},
     "output_type": "execute_result"
    }
   ],
   "source": [
    "wa_landcover_frame_train\n"
   ],
   "metadata": {
    "collapsed": false,
    "pycharm": {
     "name": "#%%\n"
    }
   }
  },
  {
   "cell_type": "code",
   "execution_count": 516,
   "outputs": [
    {
     "data": {
      "text/plain": "array([0, 0, 0, 0, 0, 0, 0, 0, 0, 0, 0, 0, 0, 0, 0, 0, 0, 0, 0, 0, 0, 0,\n       0, 0, 0, 0, 0, 0, 0, 0, 0, 0, 0, 0, 0, 0, 0, 0, 0, 0, 0, 0, 0, 0,\n       0, 0, 0, 0, 0, 0, 0, 0, 0, 0, 0, 0, 0, 0, 0, 0, 0, 0, 0, 0, 0, 0,\n       0, 0, 0, 0, 0, 0, 0, 0, 0, 0, 0, 0, 0, 0, 0, 0, 0, 0, 0, 0, 0, 0,\n       0, 0, 0, 0, 0, 0, 0, 0, 0, 0, 0, 0, 0, 0, 0, 0, 0, 0, 0, 0, 0, 0,\n       0, 0, 0, 0, 0, 0, 0, 0, 0, 0, 0, 0, 0, 0, 0, 0, 0, 0, 0, 0, 0, 0,\n       0, 0, 0, 0, 0, 0, 0, 0, 0, 0, 0, 0, 0, 0, 0, 0, 0, 0, 0, 0, 0, 0,\n       0, 0, 0, 0, 0, 0, 0, 0, 0, 0, 0, 0, 0, 0, 0, 0, 0, 0, 0, 0, 0, 0,\n       0, 0, 0, 0, 0, 0, 0, 0, 0, 0, 0, 0, 0, 0, 0, 0, 0, 0, 0, 0, 0, 0,\n       0, 0, 0, 0, 0, 0, 0, 0, 0, 0, 0, 0, 1, 1, 1, 1, 1, 1, 1, 1, 1, 1,\n       1, 1, 0, 0, 0, 0, 0, 0, 0, 0, 0, 0, 0, 0, 0, 0, 0, 0, 0, 0, 0, 0,\n       0, 0, 0, 0, 0, 0, 0, 0, 0, 0, 0, 0, 0, 0, 0, 0, 0, 0, 0, 0, 0, 0,\n       0, 0, 0, 0, 0, 0, 0, 0, 0, 0, 0, 0, 0, 0, 0, 0, 0, 0, 0, 0, 0, 0,\n       0, 0, 0, 0, 0, 0, 0, 0, 0, 0, 0, 0, 0, 0])"
     },
     "execution_count": 516,
     "metadata": {},
     "output_type": "execute_result"
    }
   ],
   "source": [
    "np.asarray(wa_landcover_frame_train_class.to_list())\n",
    "\n"
   ],
   "metadata": {
    "collapsed": false,
    "pycharm": {
     "name": "#%%\n"
    }
   }
  },
  {
   "cell_type": "code",
   "execution_count": null,
   "outputs": [],
   "source": [],
   "metadata": {
    "collapsed": false,
    "pycharm": {
     "name": "#%%\n"
    }
   }
  }
 ],
 "metadata": {
  "kernelspec": {
   "display_name": "Python 3",
   "language": "python",
   "name": "python3"
  },
  "language_info": {
   "codemirror_mode": {
    "name": "ipython",
    "version": 2
   },
   "file_extension": ".py",
   "mimetype": "text/x-python",
   "name": "python",
   "nbconvert_exporter": "python",
   "pygments_lexer": "ipython2",
   "version": "2.7.6"
  },
  "pycharm": {
   "stem_cell": {
    "cell_type": "raw",
    "source": [
     "\n"
    ],
    "metadata": {
     "collapsed": false
    }
   }
  }
 },
 "nbformat": 4,
 "nbformat_minor": 0
}