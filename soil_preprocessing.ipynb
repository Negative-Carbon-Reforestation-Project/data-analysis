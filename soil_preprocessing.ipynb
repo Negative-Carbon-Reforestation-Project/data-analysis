{
 "cells": [
  {
   "cell_type": "markdown",
   "source": [
    "# Pre-processing Soil Properties Data"
   ],
   "metadata": {
    "collapsed": false,
    "pycharm": {
     "name": "#%% md\n"
    }
   }
  },
  {
   "cell_type": "markdown",
   "source": [
    "### Imports"
   ],
   "metadata": {
    "collapsed": false,
    "pycharm": {
     "name": "#%% md\n"
    }
   }
  },
  {
   "cell_type": "code",
   "execution_count": 56,
   "metadata": {
    "collapsed": true
   },
   "outputs": [],
   "source": [
    "import numpy as np\n",
    "import pandas as pd"
   ]
  },
  {
   "cell_type": "markdown",
   "source": [
    "### Import data as pandas DataFrame:\n",
    "data had to first be converted from .rds to .csv in R studio because of an encoding error. The following dataframe reads\n",
    "the data from a CSV."
   ],
   "metadata": {
    "collapsed": false,
    "pycharm": {
     "name": "#%% md\n"
    }
   }
  },
  {
   "cell_type": "code",
   "execution_count": 57,
   "outputs": [
    {
     "name": "stderr",
     "output_type": "stream",
     "text": [
      "C:\\Users\\liams\\anaconda3\\envs\\soil-dataset-exploration\\lib\\site-packages\\IPython\\core\\interactiveshell.py:3444: DtypeWarning: Columns (1) have mixed types.Specify dtype option on import or set low_memory=False.\n",
      "  exec(code_obj, self.user_global_ns, self.user_ns)\n"
     ]
    }
   ],
   "source": [
    "cols = ['site_key',\n",
    "        'longitude_decimal_degrees',\n",
    "        'latitude_decimal_degrees',\n",
    "        'clay_tot_psa',\n",
    "        'silt_tot_psa',\n",
    "        'sand_tot_psa',\n",
    "        'oc',\n",
    "        'oc_d',\n",
    "        'c_tot',\n",
    "        'n_tot',\n",
    "        'ph_kcl',\n",
    "        'ph_h2o',\n",
    "        'ph_cacl2',\n",
    "        'cec_sum',\n",
    "        'cec_nh4',\n",
    "        'ecec',\n",
    "        'wpg2',\n",
    "        'db_od',\n",
    "        'ca_ext',\n",
    "        'mg_ext',\n",
    "        'na_ext',\n",
    "        'k_ext',\n",
    "        'ec_satp',\n",
    "        'ec_12pre']\n",
    "\n",
    "df = pd.read_csv('./data/unprocessed/soil_properties/soil_data.csv', usecols=cols)"
   ],
   "metadata": {
    "collapsed": false,
    "pycharm": {
     "name": "#%%\n"
    }
   }
  },
  {
   "cell_type": "markdown",
   "source": [
    "### Column Name Key:\n",
    "* clay_tot_psa: Clay, Total in % wt for <2 mm soil fraction\n",
    "* silt_tot_psa: Silt, Total in % wt for <2 mm soil fraction\n",
    "* sand_tot_psa: Sand, Total in % wt for <2 mm soil fraction\n",
    "* oc: Carbon, Organic in g/kg for <2 mm soil fraction\n",
    "* oc_d: Soil organic carbon density in kg/m3\n",
    "* c_tot: Carbon, Total in g/kg for <2 mm soil fraction\n",
    "* n_tot: Nitrogen, Total NCS in g/kg for <2 mm soil fraction\n",
    "* ph_kcl: pH, KCl Suspension for <2 mm soil fraction\n",
    "* ph_h2o: pH, 1:1 Soil-Water Suspension for <2 mm soil fraction\n",
    "* ph_cacl2: pH, CaCl2 Suspension for <2 mm soil fraction\n",
    "* cec_sum: Cation Exchange Capacity, Summary, in cmol(+)/kg for <2 mm soil fraction\n",
    "* cec_nh4: Cation Exchange Capacity, NH4 prep, in cmol(+)/kg for <2 mm soil fraction\n",
    "* ecec: Cation Exchange Capacity, Effective, CMS derived value default, standa prep in cmol(+)/kg for <2 mm soil fraction\n",
    "* wpg2: Coarse fragments in % wt for >2 mm soil fraction\n",
    "* db_od: Bulk density (Oven Dry) in g/cm3 (4A1h)\n",
    "* ca_ext: Calcium, Extractable in mg/kg for <2 mm soil fraction (usually Mehlich3)\n",
    "* mg_ext: Magnesium, Extractable in mg/kg for <2 mm soil fraction (usually Mehlich3)\n",
    "* na_ext: Sodium, Extractable in mg/kg for <2 mm soil fraction (usually Mehlich3)\n",
    "* k_ext: Potassium, Extractable in mg/kg for <2 mm soil fraction (usually Mehlich3)\n",
    "* ec_satp: Electrical Conductivity, Saturation Extract in dS/m for <2 mm soil fraction\n",
    "* ec_12pre: Electrical Conductivity, Predict, 1:2 (w/w) in dS/m for <2 mm soil fraction"
   ],
   "metadata": {
    "collapsed": false,
    "pycharm": {
     "name": "#%% md\n"
    }
   }
  },
  {
   "cell_type": "code",
   "execution_count": 58,
   "outputs": [
    {
     "data": {
      "text/plain": "         site_key  longitude_decimal_degrees  latitude_decimal_degrees  \\\n0       icr006475                  36.435982                 -6.088750   \n1       icr006586                  36.457722                 -6.055750   \n2       icr007929                  37.493351                 -5.339337   \n3       icr008008                  37.515327                 -5.333700   \n4       icr010198                  35.191799                -11.087100   \n...           ...                        ...                       ...   \n634959     ZW0067                  31.750000                -19.800000   \n634960     ZW0067                  31.750000                -19.800000   \n634961     ZW0067                  31.750000                -19.800000   \n634962     ZW0067                  31.750000                -19.800000   \n634963     ZW0067                  31.750000                -19.800000   \n\n        clay_tot_psa  silt_tot_psa  sand_tot_psa   oc  oc_d  c_tot  n_tot  \\\n0                NaN           NaN           NaN  NaN   NaN    NaN    NaN   \n1                NaN           NaN           NaN  NaN   NaN    NaN    NaN   \n2                NaN           NaN           NaN  NaN   NaN    NaN    NaN   \n3                NaN           NaN           NaN  NaN   NaN    NaN    NaN   \n4                NaN           NaN           NaN  NaN   NaN    NaN    NaN   \n...              ...           ...           ...  ...   ...    ...    ...   \n634959           7.0          11.0          82.0  1.4   NaN    NaN    0.1   \n634960           7.0          29.0          64.0  1.2   NaN    NaN    0.1   \n634961          13.0          10.0          77.0  0.5   NaN    NaN    0.3   \n634962          27.0          69.0           4.0  NaN   NaN    NaN    NaN   \n634963          15.0          15.0          70.0  0.6   NaN    NaN    0.1   \n\n        ...  cec_nh4  ecec  wpg2  db_od  ca_ext  mg_ext  na_ext    k_ext  \\\n0       ...      NaN   NaN   NaN    NaN     NaN    89.5   42.71   306.30   \n1       ...      NaN   NaN   NaN    NaN     NaN   636.7   40.83  1186.00   \n2       ...      NaN   NaN   NaN    NaN     NaN   428.5   42.94    72.57   \n3       ...      NaN   NaN   NaN    NaN     NaN   222.5   20.73   274.60   \n4       ...      NaN   NaN   NaN    NaN     NaN    76.5   49.31    91.76   \n...     ...      ...   ...   ...    ...     ...     ...     ...      ...   \n634959  ...      NaN   NaN   NaN    NaN    40.0    36.3   46.00    39.10   \n634960  ...      NaN   NaN   NaN    NaN     NaN    36.3   46.00    39.10   \n634961  ...      NaN   NaN   NaN    NaN     NaN    36.3   46.00    39.10   \n634962  ...      NaN   NaN   NaN   0.64     NaN     NaN     NaN      NaN   \n634963  ...      NaN   NaN   NaN    NaN    40.0    36.3   92.00    39.10   \n\n        ec_satp  ec_12pre  \n0         0.053       NaN  \n1         0.193       NaN  \n2         0.305       NaN  \n3         0.053       NaN  \n4         0.032       NaN  \n...         ...       ...  \n634959    0.100       NaN  \n634960    0.100       NaN  \n634961    0.100       NaN  \n634962      NaN       NaN  \n634963    0.100       NaN  \n\n[634964 rows x 24 columns]",
      "text/html": "<div>\n<style scoped>\n    .dataframe tbody tr th:only-of-type {\n        vertical-align: middle;\n    }\n\n    .dataframe tbody tr th {\n        vertical-align: top;\n    }\n\n    .dataframe thead th {\n        text-align: right;\n    }\n</style>\n<table border=\"1\" class=\"dataframe\">\n  <thead>\n    <tr style=\"text-align: right;\">\n      <th></th>\n      <th>site_key</th>\n      <th>longitude_decimal_degrees</th>\n      <th>latitude_decimal_degrees</th>\n      <th>clay_tot_psa</th>\n      <th>silt_tot_psa</th>\n      <th>sand_tot_psa</th>\n      <th>oc</th>\n      <th>oc_d</th>\n      <th>c_tot</th>\n      <th>n_tot</th>\n      <th>...</th>\n      <th>cec_nh4</th>\n      <th>ecec</th>\n      <th>wpg2</th>\n      <th>db_od</th>\n      <th>ca_ext</th>\n      <th>mg_ext</th>\n      <th>na_ext</th>\n      <th>k_ext</th>\n      <th>ec_satp</th>\n      <th>ec_12pre</th>\n    </tr>\n  </thead>\n  <tbody>\n    <tr>\n      <th>0</th>\n      <td>icr006475</td>\n      <td>36.435982</td>\n      <td>-6.088750</td>\n      <td>NaN</td>\n      <td>NaN</td>\n      <td>NaN</td>\n      <td>NaN</td>\n      <td>NaN</td>\n      <td>NaN</td>\n      <td>NaN</td>\n      <td>...</td>\n      <td>NaN</td>\n      <td>NaN</td>\n      <td>NaN</td>\n      <td>NaN</td>\n      <td>NaN</td>\n      <td>89.5</td>\n      <td>42.71</td>\n      <td>306.30</td>\n      <td>0.053</td>\n      <td>NaN</td>\n    </tr>\n    <tr>\n      <th>1</th>\n      <td>icr006586</td>\n      <td>36.457722</td>\n      <td>-6.055750</td>\n      <td>NaN</td>\n      <td>NaN</td>\n      <td>NaN</td>\n      <td>NaN</td>\n      <td>NaN</td>\n      <td>NaN</td>\n      <td>NaN</td>\n      <td>...</td>\n      <td>NaN</td>\n      <td>NaN</td>\n      <td>NaN</td>\n      <td>NaN</td>\n      <td>NaN</td>\n      <td>636.7</td>\n      <td>40.83</td>\n      <td>1186.00</td>\n      <td>0.193</td>\n      <td>NaN</td>\n    </tr>\n    <tr>\n      <th>2</th>\n      <td>icr007929</td>\n      <td>37.493351</td>\n      <td>-5.339337</td>\n      <td>NaN</td>\n      <td>NaN</td>\n      <td>NaN</td>\n      <td>NaN</td>\n      <td>NaN</td>\n      <td>NaN</td>\n      <td>NaN</td>\n      <td>...</td>\n      <td>NaN</td>\n      <td>NaN</td>\n      <td>NaN</td>\n      <td>NaN</td>\n      <td>NaN</td>\n      <td>428.5</td>\n      <td>42.94</td>\n      <td>72.57</td>\n      <td>0.305</td>\n      <td>NaN</td>\n    </tr>\n    <tr>\n      <th>3</th>\n      <td>icr008008</td>\n      <td>37.515327</td>\n      <td>-5.333700</td>\n      <td>NaN</td>\n      <td>NaN</td>\n      <td>NaN</td>\n      <td>NaN</td>\n      <td>NaN</td>\n      <td>NaN</td>\n      <td>NaN</td>\n      <td>...</td>\n      <td>NaN</td>\n      <td>NaN</td>\n      <td>NaN</td>\n      <td>NaN</td>\n      <td>NaN</td>\n      <td>222.5</td>\n      <td>20.73</td>\n      <td>274.60</td>\n      <td>0.053</td>\n      <td>NaN</td>\n    </tr>\n    <tr>\n      <th>4</th>\n      <td>icr010198</td>\n      <td>35.191799</td>\n      <td>-11.087100</td>\n      <td>NaN</td>\n      <td>NaN</td>\n      <td>NaN</td>\n      <td>NaN</td>\n      <td>NaN</td>\n      <td>NaN</td>\n      <td>NaN</td>\n      <td>...</td>\n      <td>NaN</td>\n      <td>NaN</td>\n      <td>NaN</td>\n      <td>NaN</td>\n      <td>NaN</td>\n      <td>76.5</td>\n      <td>49.31</td>\n      <td>91.76</td>\n      <td>0.032</td>\n      <td>NaN</td>\n    </tr>\n    <tr>\n      <th>...</th>\n      <td>...</td>\n      <td>...</td>\n      <td>...</td>\n      <td>...</td>\n      <td>...</td>\n      <td>...</td>\n      <td>...</td>\n      <td>...</td>\n      <td>...</td>\n      <td>...</td>\n      <td>...</td>\n      <td>...</td>\n      <td>...</td>\n      <td>...</td>\n      <td>...</td>\n      <td>...</td>\n      <td>...</td>\n      <td>...</td>\n      <td>...</td>\n      <td>...</td>\n      <td>...</td>\n    </tr>\n    <tr>\n      <th>634959</th>\n      <td>ZW0067</td>\n      <td>31.750000</td>\n      <td>-19.800000</td>\n      <td>7.0</td>\n      <td>11.0</td>\n      <td>82.0</td>\n      <td>1.4</td>\n      <td>NaN</td>\n      <td>NaN</td>\n      <td>0.1</td>\n      <td>...</td>\n      <td>NaN</td>\n      <td>NaN</td>\n      <td>NaN</td>\n      <td>NaN</td>\n      <td>40.0</td>\n      <td>36.3</td>\n      <td>46.00</td>\n      <td>39.10</td>\n      <td>0.100</td>\n      <td>NaN</td>\n    </tr>\n    <tr>\n      <th>634960</th>\n      <td>ZW0067</td>\n      <td>31.750000</td>\n      <td>-19.800000</td>\n      <td>7.0</td>\n      <td>29.0</td>\n      <td>64.0</td>\n      <td>1.2</td>\n      <td>NaN</td>\n      <td>NaN</td>\n      <td>0.1</td>\n      <td>...</td>\n      <td>NaN</td>\n      <td>NaN</td>\n      <td>NaN</td>\n      <td>NaN</td>\n      <td>NaN</td>\n      <td>36.3</td>\n      <td>46.00</td>\n      <td>39.10</td>\n      <td>0.100</td>\n      <td>NaN</td>\n    </tr>\n    <tr>\n      <th>634961</th>\n      <td>ZW0067</td>\n      <td>31.750000</td>\n      <td>-19.800000</td>\n      <td>13.0</td>\n      <td>10.0</td>\n      <td>77.0</td>\n      <td>0.5</td>\n      <td>NaN</td>\n      <td>NaN</td>\n      <td>0.3</td>\n      <td>...</td>\n      <td>NaN</td>\n      <td>NaN</td>\n      <td>NaN</td>\n      <td>NaN</td>\n      <td>NaN</td>\n      <td>36.3</td>\n      <td>46.00</td>\n      <td>39.10</td>\n      <td>0.100</td>\n      <td>NaN</td>\n    </tr>\n    <tr>\n      <th>634962</th>\n      <td>ZW0067</td>\n      <td>31.750000</td>\n      <td>-19.800000</td>\n      <td>27.0</td>\n      <td>69.0</td>\n      <td>4.0</td>\n      <td>NaN</td>\n      <td>NaN</td>\n      <td>NaN</td>\n      <td>NaN</td>\n      <td>...</td>\n      <td>NaN</td>\n      <td>NaN</td>\n      <td>NaN</td>\n      <td>0.64</td>\n      <td>NaN</td>\n      <td>NaN</td>\n      <td>NaN</td>\n      <td>NaN</td>\n      <td>NaN</td>\n      <td>NaN</td>\n    </tr>\n    <tr>\n      <th>634963</th>\n      <td>ZW0067</td>\n      <td>31.750000</td>\n      <td>-19.800000</td>\n      <td>15.0</td>\n      <td>15.0</td>\n      <td>70.0</td>\n      <td>0.6</td>\n      <td>NaN</td>\n      <td>NaN</td>\n      <td>0.1</td>\n      <td>...</td>\n      <td>NaN</td>\n      <td>NaN</td>\n      <td>NaN</td>\n      <td>NaN</td>\n      <td>40.0</td>\n      <td>36.3</td>\n      <td>92.00</td>\n      <td>39.10</td>\n      <td>0.100</td>\n      <td>NaN</td>\n    </tr>\n  </tbody>\n</table>\n<p>634964 rows × 24 columns</p>\n</div>"
     },
     "execution_count": 58,
     "metadata": {},
     "output_type": "execute_result"
    }
   ],
   "source": [
    "df"
   ],
   "metadata": {
    "collapsed": false,
    "pycharm": {
     "name": "#%%\n"
    }
   }
  },
  {
   "cell_type": "markdown",
   "source": [
    "### filling na, and removing all data that is not contained within washington"
   ],
   "metadata": {
    "collapsed": false,
    "pycharm": {
     "name": "#%% md\n"
    }
   }
  },
  {
   "cell_type": "code",
   "execution_count": 59,
   "outputs": [
    {
     "data": {
      "text/plain": "       site_key  longitude_decimal_degrees  latitude_decimal_degrees  \\\n115684      687                 -123.73000                  48.63000   \n115685      687                 -123.73000                  48.63000   \n115686      687                 -123.73000                  48.63000   \n115687      687                 -123.73000                  48.63000   \n115692      689                 -123.52000                  48.83000   \n...         ...                        ...                       ...   \n631448   US0366                 -123.09861                  45.53472   \n631449   US0366                 -123.09861                  45.53472   \n631450   US0366                 -123.09861                  45.53472   \n631451   US0366                 -123.09861                  45.53472   \n631452   US0366                 -123.09861                  45.53472   \n\n        clay_tot_psa  silt_tot_psa  sand_tot_psa     oc   oc_d  c_tot  n_tot  \\\n115684           NaN           NaN           NaN  432.8  69.20    NaN   12.9   \n115685           NaN           NaN           NaN   29.6  36.70    NaN    NaN   \n115686           NaN           NaN           NaN   30.0  16.10    NaN    NaN   \n115687           NaN           NaN           NaN   11.0   8.29    NaN    NaN   \n115692           NaN           NaN           NaN  422.6  67.60    NaN   10.1   \n...              ...           ...           ...    ...    ...    ...    ...   \n631448          21.0          72.0           7.0   13.5  19.20    NaN    NaN   \n631449          22.0          72.0           6.0    4.1   5.99    NaN    NaN   \n631450          22.0          71.0           7.0    1.9   3.02    NaN    NaN   \n631451          22.0          72.0           6.0    1.7   2.33    NaN    NaN   \n631452          24.0          69.0           7.0    0.9   1.30    NaN    NaN   \n\n        ...  cec_nh4  ecec  wpg2  db_od  ca_ext  mg_ext  na_ext    k_ext  \\\n115684  ...      NaN   NaN   0.0   0.16  8946.0  897.82    48.3   969.68   \n115685  ...      NaN   NaN   0.0   1.24   736.0   76.23    11.5    78.20   \n115686  ...      NaN   NaN  48.0   1.03   328.0   35.09    11.5    62.56   \n115687  ...      NaN   NaN  48.0   1.45     NaN     NaN     NaN      NaN   \n115692  ...      NaN   NaN   0.0   0.16  7282.0  949.85    48.3  1126.08   \n...     ...      ...   ...   ...    ...     ...     ...     ...      ...   \n631448  ...      NaN   NaN   NaN   1.42  1620.0  206.00    46.0   430.00   \n631449  ...      NaN   NaN   NaN   1.46   920.0  133.00    46.0   274.00   \n631450  ...      NaN   NaN   NaN   1.59  1620.0  254.00    46.0   196.00   \n631451  ...      NaN   NaN   NaN   1.37  2620.0  460.00    46.0   196.00   \n631452  ...      NaN   NaN   NaN   1.44  3220.0  544.00    92.0   196.00   \n\n        ec_satp  ec_12pre  \n115684      NaN       NaN  \n115685      NaN       NaN  \n115686      NaN       NaN  \n115687      NaN       NaN  \n115692      NaN       NaN  \n...         ...       ...  \n631448      0.1       NaN  \n631449      0.1       NaN  \n631450      0.1       NaN  \n631451      0.1       NaN  \n631452      0.1       NaN  \n\n[11076 rows x 24 columns]",
      "text/html": "<div>\n<style scoped>\n    .dataframe tbody tr th:only-of-type {\n        vertical-align: middle;\n    }\n\n    .dataframe tbody tr th {\n        vertical-align: top;\n    }\n\n    .dataframe thead th {\n        text-align: right;\n    }\n</style>\n<table border=\"1\" class=\"dataframe\">\n  <thead>\n    <tr style=\"text-align: right;\">\n      <th></th>\n      <th>site_key</th>\n      <th>longitude_decimal_degrees</th>\n      <th>latitude_decimal_degrees</th>\n      <th>clay_tot_psa</th>\n      <th>silt_tot_psa</th>\n      <th>sand_tot_psa</th>\n      <th>oc</th>\n      <th>oc_d</th>\n      <th>c_tot</th>\n      <th>n_tot</th>\n      <th>...</th>\n      <th>cec_nh4</th>\n      <th>ecec</th>\n      <th>wpg2</th>\n      <th>db_od</th>\n      <th>ca_ext</th>\n      <th>mg_ext</th>\n      <th>na_ext</th>\n      <th>k_ext</th>\n      <th>ec_satp</th>\n      <th>ec_12pre</th>\n    </tr>\n  </thead>\n  <tbody>\n    <tr>\n      <th>115684</th>\n      <td>687</td>\n      <td>-123.73000</td>\n      <td>48.63000</td>\n      <td>NaN</td>\n      <td>NaN</td>\n      <td>NaN</td>\n      <td>432.8</td>\n      <td>69.20</td>\n      <td>NaN</td>\n      <td>12.9</td>\n      <td>...</td>\n      <td>NaN</td>\n      <td>NaN</td>\n      <td>0.0</td>\n      <td>0.16</td>\n      <td>8946.0</td>\n      <td>897.82</td>\n      <td>48.3</td>\n      <td>969.68</td>\n      <td>NaN</td>\n      <td>NaN</td>\n    </tr>\n    <tr>\n      <th>115685</th>\n      <td>687</td>\n      <td>-123.73000</td>\n      <td>48.63000</td>\n      <td>NaN</td>\n      <td>NaN</td>\n      <td>NaN</td>\n      <td>29.6</td>\n      <td>36.70</td>\n      <td>NaN</td>\n      <td>NaN</td>\n      <td>...</td>\n      <td>NaN</td>\n      <td>NaN</td>\n      <td>0.0</td>\n      <td>1.24</td>\n      <td>736.0</td>\n      <td>76.23</td>\n      <td>11.5</td>\n      <td>78.20</td>\n      <td>NaN</td>\n      <td>NaN</td>\n    </tr>\n    <tr>\n      <th>115686</th>\n      <td>687</td>\n      <td>-123.73000</td>\n      <td>48.63000</td>\n      <td>NaN</td>\n      <td>NaN</td>\n      <td>NaN</td>\n      <td>30.0</td>\n      <td>16.10</td>\n      <td>NaN</td>\n      <td>NaN</td>\n      <td>...</td>\n      <td>NaN</td>\n      <td>NaN</td>\n      <td>48.0</td>\n      <td>1.03</td>\n      <td>328.0</td>\n      <td>35.09</td>\n      <td>11.5</td>\n      <td>62.56</td>\n      <td>NaN</td>\n      <td>NaN</td>\n    </tr>\n    <tr>\n      <th>115687</th>\n      <td>687</td>\n      <td>-123.73000</td>\n      <td>48.63000</td>\n      <td>NaN</td>\n      <td>NaN</td>\n      <td>NaN</td>\n      <td>11.0</td>\n      <td>8.29</td>\n      <td>NaN</td>\n      <td>NaN</td>\n      <td>...</td>\n      <td>NaN</td>\n      <td>NaN</td>\n      <td>48.0</td>\n      <td>1.45</td>\n      <td>NaN</td>\n      <td>NaN</td>\n      <td>NaN</td>\n      <td>NaN</td>\n      <td>NaN</td>\n      <td>NaN</td>\n    </tr>\n    <tr>\n      <th>115692</th>\n      <td>689</td>\n      <td>-123.52000</td>\n      <td>48.83000</td>\n      <td>NaN</td>\n      <td>NaN</td>\n      <td>NaN</td>\n      <td>422.6</td>\n      <td>67.60</td>\n      <td>NaN</td>\n      <td>10.1</td>\n      <td>...</td>\n      <td>NaN</td>\n      <td>NaN</td>\n      <td>0.0</td>\n      <td>0.16</td>\n      <td>7282.0</td>\n      <td>949.85</td>\n      <td>48.3</td>\n      <td>1126.08</td>\n      <td>NaN</td>\n      <td>NaN</td>\n    </tr>\n    <tr>\n      <th>...</th>\n      <td>...</td>\n      <td>...</td>\n      <td>...</td>\n      <td>...</td>\n      <td>...</td>\n      <td>...</td>\n      <td>...</td>\n      <td>...</td>\n      <td>...</td>\n      <td>...</td>\n      <td>...</td>\n      <td>...</td>\n      <td>...</td>\n      <td>...</td>\n      <td>...</td>\n      <td>...</td>\n      <td>...</td>\n      <td>...</td>\n      <td>...</td>\n      <td>...</td>\n      <td>...</td>\n    </tr>\n    <tr>\n      <th>631448</th>\n      <td>US0366</td>\n      <td>-123.09861</td>\n      <td>45.53472</td>\n      <td>21.0</td>\n      <td>72.0</td>\n      <td>7.0</td>\n      <td>13.5</td>\n      <td>19.20</td>\n      <td>NaN</td>\n      <td>NaN</td>\n      <td>...</td>\n      <td>NaN</td>\n      <td>NaN</td>\n      <td>NaN</td>\n      <td>1.42</td>\n      <td>1620.0</td>\n      <td>206.00</td>\n      <td>46.0</td>\n      <td>430.00</td>\n      <td>0.1</td>\n      <td>NaN</td>\n    </tr>\n    <tr>\n      <th>631449</th>\n      <td>US0366</td>\n      <td>-123.09861</td>\n      <td>45.53472</td>\n      <td>22.0</td>\n      <td>72.0</td>\n      <td>6.0</td>\n      <td>4.1</td>\n      <td>5.99</td>\n      <td>NaN</td>\n      <td>NaN</td>\n      <td>...</td>\n      <td>NaN</td>\n      <td>NaN</td>\n      <td>NaN</td>\n      <td>1.46</td>\n      <td>920.0</td>\n      <td>133.00</td>\n      <td>46.0</td>\n      <td>274.00</td>\n      <td>0.1</td>\n      <td>NaN</td>\n    </tr>\n    <tr>\n      <th>631450</th>\n      <td>US0366</td>\n      <td>-123.09861</td>\n      <td>45.53472</td>\n      <td>22.0</td>\n      <td>71.0</td>\n      <td>7.0</td>\n      <td>1.9</td>\n      <td>3.02</td>\n      <td>NaN</td>\n      <td>NaN</td>\n      <td>...</td>\n      <td>NaN</td>\n      <td>NaN</td>\n      <td>NaN</td>\n      <td>1.59</td>\n      <td>1620.0</td>\n      <td>254.00</td>\n      <td>46.0</td>\n      <td>196.00</td>\n      <td>0.1</td>\n      <td>NaN</td>\n    </tr>\n    <tr>\n      <th>631451</th>\n      <td>US0366</td>\n      <td>-123.09861</td>\n      <td>45.53472</td>\n      <td>22.0</td>\n      <td>72.0</td>\n      <td>6.0</td>\n      <td>1.7</td>\n      <td>2.33</td>\n      <td>NaN</td>\n      <td>NaN</td>\n      <td>...</td>\n      <td>NaN</td>\n      <td>NaN</td>\n      <td>NaN</td>\n      <td>1.37</td>\n      <td>2620.0</td>\n      <td>460.00</td>\n      <td>46.0</td>\n      <td>196.00</td>\n      <td>0.1</td>\n      <td>NaN</td>\n    </tr>\n    <tr>\n      <th>631452</th>\n      <td>US0366</td>\n      <td>-123.09861</td>\n      <td>45.53472</td>\n      <td>24.0</td>\n      <td>69.0</td>\n      <td>7.0</td>\n      <td>0.9</td>\n      <td>1.30</td>\n      <td>NaN</td>\n      <td>NaN</td>\n      <td>...</td>\n      <td>NaN</td>\n      <td>NaN</td>\n      <td>NaN</td>\n      <td>1.44</td>\n      <td>3220.0</td>\n      <td>544.00</td>\n      <td>92.0</td>\n      <td>196.00</td>\n      <td>0.1</td>\n      <td>NaN</td>\n    </tr>\n  </tbody>\n</table>\n<p>11076 rows × 24 columns</p>\n</div>"
     },
     "execution_count": 59,
     "metadata": {},
     "output_type": "execute_result"
    }
   ],
   "source": [
    "df = df[(df['latitude_decimal_degrees'] >= 45) &\n",
    "        (df['latitude_decimal_degrees'] <= 49) &\n",
    "        (df['longitude_decimal_degrees'] >= -125) &\n",
    "        (df['longitude_decimal_degrees'] <= -116)]\n",
    "df"
   ],
   "metadata": {
    "collapsed": false,
    "pycharm": {
     "name": "#%%\n"
    }
   }
  },
  {
   "cell_type": "markdown",
   "source": [
    "# TODO:\n",
    "1. normalize data\n",
    "2. create class variables"
   ],
   "metadata": {
    "collapsed": false,
    "pycharm": {
     "name": "#%% md\n"
    }
   }
  },
  {
   "cell_type": "markdown",
   "source": [
    "### average data taken from the same site"
   ],
   "metadata": {
    "collapsed": false,
    "pycharm": {
     "name": "#%% md\n"
    }
   }
  },
  {
   "cell_type": "code",
   "execution_count": 60,
   "outputs": [
    {
     "data": {
      "text/plain": "     site_key  longitude_decimal_degrees  latitude_decimal_degrees  \\\n0         687                 -123.73000                  48.63000   \n1         689                 -123.52000                  48.83000   \n2        1122                 -123.37000                  48.48000   \n3        1123                 -124.45000                  48.60000   \n4        2367                 -123.36000                  48.88000   \n...       ...                        ...                       ...   \n1901   US0241                 -118.55000                  48.38333   \n1902   US0242                 -118.96667                  48.33333   \n1903   US0257                 -123.44722                  45.91389   \n1904   US0284                 -117.55417                  46.95389   \n1905   US0366                 -123.09861                  45.53472   \n\n      clay_tot_psa  silt_tot_psa  sand_tot_psa          oc       oc_d  c_tot  \\\n0              NaN           NaN           NaN  125.850000  32.572500    NaN   \n1              NaN           NaN           NaN  124.975000  35.565000    NaN   \n2         7.166667     30.500000     62.333333   65.142857  33.768571    NaN   \n3         8.200000     36.000000     55.800000  146.533333  66.251667    NaN   \n4        10.500000     36.000000     53.500000   13.000000  15.210000    NaN   \n...            ...           ...           ...         ...        ...    ...   \n1901      2.500000     55.000000     42.500000   12.850000  11.305000    NaN   \n1902      2.500000     38.500000     59.000000   12.066667  11.078200    NaN   \n1903     22.200000     59.400000     18.400000   18.400000  17.853333    NaN   \n1904     17.222222     76.555556      6.222222    9.744444  12.102222    NaN   \n1905     20.857143     72.000000      7.142857   14.685714   6.368000    NaN   \n\n          n_tot  ...  cec_nh4  ecec       wpg2     db_od       ca_ext  \\\n0     12.900000  ...      NaN   NaN  24.000000  0.970000  3336.666667   \n1     10.100000  ...      NaN   NaN  15.000000  1.032500  3092.666667   \n2      5.142857  ...      NaN   NaN   4.285714  1.108571  2144.571429   \n3      3.983333  ...      NaN   NaN   4.166667  1.055000   788.666667   \n4      0.800000  ...      NaN   NaN   3.750000  1.386667  1210.000000   \n...         ...  ...      ...   ...        ...       ...          ...   \n1901   0.700000  ...      NaN   NaN  10.000000  0.920000   860.000000   \n1902   1.300000  ...      NaN   NaN  18.800000  1.210000   823.333333   \n1903   2.050000  ...      NaN   NaN  11.000000  1.356667   740.000000   \n1904   0.925000  ...      NaN   NaN        NaN  1.334444  4126.666667   \n1905        NaN  ...      NaN   NaN        NaN  1.456000  2562.857143   \n\n          mg_ext     na_ext       k_ext  ec_satp  ec_12pre  \n0     336.380000  23.766667  370.146667      NaN       NaN  \n1     383.570000  24.533333  458.773333      NaN       NaN  \n2     386.681429  66.371429  524.498571      NaN       NaN  \n3     270.233333  43.700000  303.025000      NaN       NaN  \n4     189.566667  38.333333   97.750000      NaN       NaN  \n...          ...        ...         ...      ...       ...  \n1901   78.650000  23.000000  215.500000      0.1       NaN  \n1902   64.533333  61.333333  117.240000      0.1       NaN  \n1903  241.940000        NaN  273.800000      0.1       NaN  \n1904  524.111111  27.600000  260.622222      0.1       NaN  \n1905  318.000000  49.285714  296.285714      0.1       NaN  \n\n[1906 rows x 24 columns]",
      "text/html": "<div>\n<style scoped>\n    .dataframe tbody tr th:only-of-type {\n        vertical-align: middle;\n    }\n\n    .dataframe tbody tr th {\n        vertical-align: top;\n    }\n\n    .dataframe thead th {\n        text-align: right;\n    }\n</style>\n<table border=\"1\" class=\"dataframe\">\n  <thead>\n    <tr style=\"text-align: right;\">\n      <th></th>\n      <th>site_key</th>\n      <th>longitude_decimal_degrees</th>\n      <th>latitude_decimal_degrees</th>\n      <th>clay_tot_psa</th>\n      <th>silt_tot_psa</th>\n      <th>sand_tot_psa</th>\n      <th>oc</th>\n      <th>oc_d</th>\n      <th>c_tot</th>\n      <th>n_tot</th>\n      <th>...</th>\n      <th>cec_nh4</th>\n      <th>ecec</th>\n      <th>wpg2</th>\n      <th>db_od</th>\n      <th>ca_ext</th>\n      <th>mg_ext</th>\n      <th>na_ext</th>\n      <th>k_ext</th>\n      <th>ec_satp</th>\n      <th>ec_12pre</th>\n    </tr>\n  </thead>\n  <tbody>\n    <tr>\n      <th>0</th>\n      <td>687</td>\n      <td>-123.73000</td>\n      <td>48.63000</td>\n      <td>NaN</td>\n      <td>NaN</td>\n      <td>NaN</td>\n      <td>125.850000</td>\n      <td>32.572500</td>\n      <td>NaN</td>\n      <td>12.900000</td>\n      <td>...</td>\n      <td>NaN</td>\n      <td>NaN</td>\n      <td>24.000000</td>\n      <td>0.970000</td>\n      <td>3336.666667</td>\n      <td>336.380000</td>\n      <td>23.766667</td>\n      <td>370.146667</td>\n      <td>NaN</td>\n      <td>NaN</td>\n    </tr>\n    <tr>\n      <th>1</th>\n      <td>689</td>\n      <td>-123.52000</td>\n      <td>48.83000</td>\n      <td>NaN</td>\n      <td>NaN</td>\n      <td>NaN</td>\n      <td>124.975000</td>\n      <td>35.565000</td>\n      <td>NaN</td>\n      <td>10.100000</td>\n      <td>...</td>\n      <td>NaN</td>\n      <td>NaN</td>\n      <td>15.000000</td>\n      <td>1.032500</td>\n      <td>3092.666667</td>\n      <td>383.570000</td>\n      <td>24.533333</td>\n      <td>458.773333</td>\n      <td>NaN</td>\n      <td>NaN</td>\n    </tr>\n    <tr>\n      <th>2</th>\n      <td>1122</td>\n      <td>-123.37000</td>\n      <td>48.48000</td>\n      <td>7.166667</td>\n      <td>30.500000</td>\n      <td>62.333333</td>\n      <td>65.142857</td>\n      <td>33.768571</td>\n      <td>NaN</td>\n      <td>5.142857</td>\n      <td>...</td>\n      <td>NaN</td>\n      <td>NaN</td>\n      <td>4.285714</td>\n      <td>1.108571</td>\n      <td>2144.571429</td>\n      <td>386.681429</td>\n      <td>66.371429</td>\n      <td>524.498571</td>\n      <td>NaN</td>\n      <td>NaN</td>\n    </tr>\n    <tr>\n      <th>3</th>\n      <td>1123</td>\n      <td>-124.45000</td>\n      <td>48.60000</td>\n      <td>8.200000</td>\n      <td>36.000000</td>\n      <td>55.800000</td>\n      <td>146.533333</td>\n      <td>66.251667</td>\n      <td>NaN</td>\n      <td>3.983333</td>\n      <td>...</td>\n      <td>NaN</td>\n      <td>NaN</td>\n      <td>4.166667</td>\n      <td>1.055000</td>\n      <td>788.666667</td>\n      <td>270.233333</td>\n      <td>43.700000</td>\n      <td>303.025000</td>\n      <td>NaN</td>\n      <td>NaN</td>\n    </tr>\n    <tr>\n      <th>4</th>\n      <td>2367</td>\n      <td>-123.36000</td>\n      <td>48.88000</td>\n      <td>10.500000</td>\n      <td>36.000000</td>\n      <td>53.500000</td>\n      <td>13.000000</td>\n      <td>15.210000</td>\n      <td>NaN</td>\n      <td>0.800000</td>\n      <td>...</td>\n      <td>NaN</td>\n      <td>NaN</td>\n      <td>3.750000</td>\n      <td>1.386667</td>\n      <td>1210.000000</td>\n      <td>189.566667</td>\n      <td>38.333333</td>\n      <td>97.750000</td>\n      <td>NaN</td>\n      <td>NaN</td>\n    </tr>\n    <tr>\n      <th>...</th>\n      <td>...</td>\n      <td>...</td>\n      <td>...</td>\n      <td>...</td>\n      <td>...</td>\n      <td>...</td>\n      <td>...</td>\n      <td>...</td>\n      <td>...</td>\n      <td>...</td>\n      <td>...</td>\n      <td>...</td>\n      <td>...</td>\n      <td>...</td>\n      <td>...</td>\n      <td>...</td>\n      <td>...</td>\n      <td>...</td>\n      <td>...</td>\n      <td>...</td>\n      <td>...</td>\n    </tr>\n    <tr>\n      <th>1901</th>\n      <td>US0241</td>\n      <td>-118.55000</td>\n      <td>48.38333</td>\n      <td>2.500000</td>\n      <td>55.000000</td>\n      <td>42.500000</td>\n      <td>12.850000</td>\n      <td>11.305000</td>\n      <td>NaN</td>\n      <td>0.700000</td>\n      <td>...</td>\n      <td>NaN</td>\n      <td>NaN</td>\n      <td>10.000000</td>\n      <td>0.920000</td>\n      <td>860.000000</td>\n      <td>78.650000</td>\n      <td>23.000000</td>\n      <td>215.500000</td>\n      <td>0.1</td>\n      <td>NaN</td>\n    </tr>\n    <tr>\n      <th>1902</th>\n      <td>US0242</td>\n      <td>-118.96667</td>\n      <td>48.33333</td>\n      <td>2.500000</td>\n      <td>38.500000</td>\n      <td>59.000000</td>\n      <td>12.066667</td>\n      <td>11.078200</td>\n      <td>NaN</td>\n      <td>1.300000</td>\n      <td>...</td>\n      <td>NaN</td>\n      <td>NaN</td>\n      <td>18.800000</td>\n      <td>1.210000</td>\n      <td>823.333333</td>\n      <td>64.533333</td>\n      <td>61.333333</td>\n      <td>117.240000</td>\n      <td>0.1</td>\n      <td>NaN</td>\n    </tr>\n    <tr>\n      <th>1903</th>\n      <td>US0257</td>\n      <td>-123.44722</td>\n      <td>45.91389</td>\n      <td>22.200000</td>\n      <td>59.400000</td>\n      <td>18.400000</td>\n      <td>18.400000</td>\n      <td>17.853333</td>\n      <td>NaN</td>\n      <td>2.050000</td>\n      <td>...</td>\n      <td>NaN</td>\n      <td>NaN</td>\n      <td>11.000000</td>\n      <td>1.356667</td>\n      <td>740.000000</td>\n      <td>241.940000</td>\n      <td>NaN</td>\n      <td>273.800000</td>\n      <td>0.1</td>\n      <td>NaN</td>\n    </tr>\n    <tr>\n      <th>1904</th>\n      <td>US0284</td>\n      <td>-117.55417</td>\n      <td>46.95389</td>\n      <td>17.222222</td>\n      <td>76.555556</td>\n      <td>6.222222</td>\n      <td>9.744444</td>\n      <td>12.102222</td>\n      <td>NaN</td>\n      <td>0.925000</td>\n      <td>...</td>\n      <td>NaN</td>\n      <td>NaN</td>\n      <td>NaN</td>\n      <td>1.334444</td>\n      <td>4126.666667</td>\n      <td>524.111111</td>\n      <td>27.600000</td>\n      <td>260.622222</td>\n      <td>0.1</td>\n      <td>NaN</td>\n    </tr>\n    <tr>\n      <th>1905</th>\n      <td>US0366</td>\n      <td>-123.09861</td>\n      <td>45.53472</td>\n      <td>20.857143</td>\n      <td>72.000000</td>\n      <td>7.142857</td>\n      <td>14.685714</td>\n      <td>6.368000</td>\n      <td>NaN</td>\n      <td>NaN</td>\n      <td>...</td>\n      <td>NaN</td>\n      <td>NaN</td>\n      <td>NaN</td>\n      <td>1.456000</td>\n      <td>2562.857143</td>\n      <td>318.000000</td>\n      <td>49.285714</td>\n      <td>296.285714</td>\n      <td>0.1</td>\n      <td>NaN</td>\n    </tr>\n  </tbody>\n</table>\n<p>1906 rows × 24 columns</p>\n</div>"
     },
     "execution_count": 60,
     "metadata": {},
     "output_type": "execute_result"
    }
   ],
   "source": [
    "sites = df['site_key'].unique()\n",
    "averaged_df = pd.DataFrame(columns=cols)\n",
    "\n",
    "for index in range(len(sites)):\n",
    "    site = sites[index]\n",
    "    site_df = df[df['site_key'] == site]\n",
    "    lat = site_df['latitude_decimal_degrees'].unique()[0]\n",
    "    lon = site_df['longitude_decimal_degrees'].unique()[0]\n",
    "    site_data_df = site_df.drop(['site_key', 'longitude_decimal_degrees', 'latitude_decimal_degrees'], axis=1)\n",
    "    average_site_data_series = site_data_df.mean()\n",
    "    average_site_data_series['site_key'] = site\n",
    "    average_site_data_series['longitude_decimal_degrees'] = lon\n",
    "    average_site_data_series['latitude_decimal_degrees'] = lat\n",
    "    averaged_df = averaged_df.append(average_site_data_series, ignore_index=True)\n",
    "averaged_df"
   ],
   "metadata": {
    "collapsed": false,
    "pycharm": {
     "name": "#%%\n"
    }
   }
  },
  {
   "cell_type": "code",
   "execution_count": 69,
   "outputs": [
    {
     "data": {
      "text/plain": "      clay_tot_psa  silt_tot_psa  sand_tot_psa          oc       oc_d  c_tot  \\\n0         0.000000      0.000000      0.000000  125.850000  32.572500    0.0   \n1         0.000000      0.000000      0.000000  124.975000  35.565000    0.0   \n2         7.166667     30.500000     62.333333   65.142857  33.768571    0.0   \n3         8.200000     36.000000     55.800000  146.533333  66.251667    0.0   \n4        10.500000     36.000000     53.500000   13.000000  15.210000    0.0   \n...            ...           ...           ...         ...        ...    ...   \n1901      2.500000     55.000000     42.500000   12.850000  11.305000    0.0   \n1902      2.500000     38.500000     59.000000   12.066667  11.078200    0.0   \n1903     22.200000     59.400000     18.400000   18.400000  17.853333    0.0   \n1904     17.222222     76.555556      6.222222    9.744444  12.102222    0.0   \n1905     20.857143     72.000000      7.142857   14.685714   6.368000    0.0   \n\n          n_tot  ph_kcl    ph_h2o  ph_cacl2  ...  cec_nh4  ecec       wpg2  \\\n0     12.900000     0.0  0.000000  5.033333  ...      0.0   0.0  24.000000   \n1     10.100000     0.0  0.000000  4.966667  ...      0.0   0.0  15.000000   \n2      5.142857     0.0  0.000000  4.614286  ...      0.0   0.0   4.285714   \n3      3.983333     0.0  0.000000  4.483333  ...      0.0   0.0   4.166667   \n4      0.800000     0.0  0.000000  5.033333  ...      0.0   0.0   3.750000   \n...         ...     ...       ...       ...  ...      ...   ...        ...   \n1901   0.700000     0.0  6.500000  5.600000  ...      0.0   0.0  10.000000   \n1902   1.300000     0.0  6.183333  5.466667  ...      0.0   0.0  18.800000   \n1903   2.050000     0.0  5.320000  4.700000  ...      0.0   0.0  11.000000   \n1904   0.925000     0.0  6.944444  6.344444  ...      0.0   0.0   0.000000   \n1905   0.000000     0.0  5.814286  5.185714  ...      0.0   0.0   0.000000   \n\n         db_od       ca_ext      mg_ext     na_ext       k_ext  ec_satp  \\\n0     0.970000  3336.666667  336.380000  23.766667  370.146667      0.0   \n1     1.032500  3092.666667  383.570000  24.533333  458.773333      0.0   \n2     1.108571  2144.571429  386.681429  66.371429  524.498571      0.0   \n3     1.055000   788.666667  270.233333  43.700000  303.025000      0.0   \n4     1.386667  1210.000000  189.566667  38.333333   97.750000      0.0   \n...        ...          ...         ...        ...         ...      ...   \n1901  0.920000   860.000000   78.650000  23.000000  215.500000      0.1   \n1902  1.210000   823.333333   64.533333  61.333333  117.240000      0.1   \n1903  1.356667   740.000000  241.940000   0.000000  273.800000      0.1   \n1904  1.334444  4126.666667  524.111111  27.600000  260.622222      0.1   \n1905  1.456000  2562.857143  318.000000  49.285714  296.285714      0.1   \n\n      ec_12pre  \n0          0.0  \n1          0.0  \n2          0.0  \n3          0.0  \n4          0.0  \n...        ...  \n1901       0.0  \n1902       0.0  \n1903       0.0  \n1904       0.0  \n1905       0.0  \n\n[1906 rows x 21 columns]",
      "text/html": "<div>\n<style scoped>\n    .dataframe tbody tr th:only-of-type {\n        vertical-align: middle;\n    }\n\n    .dataframe tbody tr th {\n        vertical-align: top;\n    }\n\n    .dataframe thead th {\n        text-align: right;\n    }\n</style>\n<table border=\"1\" class=\"dataframe\">\n  <thead>\n    <tr style=\"text-align: right;\">\n      <th></th>\n      <th>clay_tot_psa</th>\n      <th>silt_tot_psa</th>\n      <th>sand_tot_psa</th>\n      <th>oc</th>\n      <th>oc_d</th>\n      <th>c_tot</th>\n      <th>n_tot</th>\n      <th>ph_kcl</th>\n      <th>ph_h2o</th>\n      <th>ph_cacl2</th>\n      <th>...</th>\n      <th>cec_nh4</th>\n      <th>ecec</th>\n      <th>wpg2</th>\n      <th>db_od</th>\n      <th>ca_ext</th>\n      <th>mg_ext</th>\n      <th>na_ext</th>\n      <th>k_ext</th>\n      <th>ec_satp</th>\n      <th>ec_12pre</th>\n    </tr>\n  </thead>\n  <tbody>\n    <tr>\n      <th>0</th>\n      <td>0.000000</td>\n      <td>0.000000</td>\n      <td>0.000000</td>\n      <td>125.850000</td>\n      <td>32.572500</td>\n      <td>0.0</td>\n      <td>12.900000</td>\n      <td>0.0</td>\n      <td>0.000000</td>\n      <td>5.033333</td>\n      <td>...</td>\n      <td>0.0</td>\n      <td>0.0</td>\n      <td>24.000000</td>\n      <td>0.970000</td>\n      <td>3336.666667</td>\n      <td>336.380000</td>\n      <td>23.766667</td>\n      <td>370.146667</td>\n      <td>0.0</td>\n      <td>0.0</td>\n    </tr>\n    <tr>\n      <th>1</th>\n      <td>0.000000</td>\n      <td>0.000000</td>\n      <td>0.000000</td>\n      <td>124.975000</td>\n      <td>35.565000</td>\n      <td>0.0</td>\n      <td>10.100000</td>\n      <td>0.0</td>\n      <td>0.000000</td>\n      <td>4.966667</td>\n      <td>...</td>\n      <td>0.0</td>\n      <td>0.0</td>\n      <td>15.000000</td>\n      <td>1.032500</td>\n      <td>3092.666667</td>\n      <td>383.570000</td>\n      <td>24.533333</td>\n      <td>458.773333</td>\n      <td>0.0</td>\n      <td>0.0</td>\n    </tr>\n    <tr>\n      <th>2</th>\n      <td>7.166667</td>\n      <td>30.500000</td>\n      <td>62.333333</td>\n      <td>65.142857</td>\n      <td>33.768571</td>\n      <td>0.0</td>\n      <td>5.142857</td>\n      <td>0.0</td>\n      <td>0.000000</td>\n      <td>4.614286</td>\n      <td>...</td>\n      <td>0.0</td>\n      <td>0.0</td>\n      <td>4.285714</td>\n      <td>1.108571</td>\n      <td>2144.571429</td>\n      <td>386.681429</td>\n      <td>66.371429</td>\n      <td>524.498571</td>\n      <td>0.0</td>\n      <td>0.0</td>\n    </tr>\n    <tr>\n      <th>3</th>\n      <td>8.200000</td>\n      <td>36.000000</td>\n      <td>55.800000</td>\n      <td>146.533333</td>\n      <td>66.251667</td>\n      <td>0.0</td>\n      <td>3.983333</td>\n      <td>0.0</td>\n      <td>0.000000</td>\n      <td>4.483333</td>\n      <td>...</td>\n      <td>0.0</td>\n      <td>0.0</td>\n      <td>4.166667</td>\n      <td>1.055000</td>\n      <td>788.666667</td>\n      <td>270.233333</td>\n      <td>43.700000</td>\n      <td>303.025000</td>\n      <td>0.0</td>\n      <td>0.0</td>\n    </tr>\n    <tr>\n      <th>4</th>\n      <td>10.500000</td>\n      <td>36.000000</td>\n      <td>53.500000</td>\n      <td>13.000000</td>\n      <td>15.210000</td>\n      <td>0.0</td>\n      <td>0.800000</td>\n      <td>0.0</td>\n      <td>0.000000</td>\n      <td>5.033333</td>\n      <td>...</td>\n      <td>0.0</td>\n      <td>0.0</td>\n      <td>3.750000</td>\n      <td>1.386667</td>\n      <td>1210.000000</td>\n      <td>189.566667</td>\n      <td>38.333333</td>\n      <td>97.750000</td>\n      <td>0.0</td>\n      <td>0.0</td>\n    </tr>\n    <tr>\n      <th>...</th>\n      <td>...</td>\n      <td>...</td>\n      <td>...</td>\n      <td>...</td>\n      <td>...</td>\n      <td>...</td>\n      <td>...</td>\n      <td>...</td>\n      <td>...</td>\n      <td>...</td>\n      <td>...</td>\n      <td>...</td>\n      <td>...</td>\n      <td>...</td>\n      <td>...</td>\n      <td>...</td>\n      <td>...</td>\n      <td>...</td>\n      <td>...</td>\n      <td>...</td>\n      <td>...</td>\n    </tr>\n    <tr>\n      <th>1901</th>\n      <td>2.500000</td>\n      <td>55.000000</td>\n      <td>42.500000</td>\n      <td>12.850000</td>\n      <td>11.305000</td>\n      <td>0.0</td>\n      <td>0.700000</td>\n      <td>0.0</td>\n      <td>6.500000</td>\n      <td>5.600000</td>\n      <td>...</td>\n      <td>0.0</td>\n      <td>0.0</td>\n      <td>10.000000</td>\n      <td>0.920000</td>\n      <td>860.000000</td>\n      <td>78.650000</td>\n      <td>23.000000</td>\n      <td>215.500000</td>\n      <td>0.1</td>\n      <td>0.0</td>\n    </tr>\n    <tr>\n      <th>1902</th>\n      <td>2.500000</td>\n      <td>38.500000</td>\n      <td>59.000000</td>\n      <td>12.066667</td>\n      <td>11.078200</td>\n      <td>0.0</td>\n      <td>1.300000</td>\n      <td>0.0</td>\n      <td>6.183333</td>\n      <td>5.466667</td>\n      <td>...</td>\n      <td>0.0</td>\n      <td>0.0</td>\n      <td>18.800000</td>\n      <td>1.210000</td>\n      <td>823.333333</td>\n      <td>64.533333</td>\n      <td>61.333333</td>\n      <td>117.240000</td>\n      <td>0.1</td>\n      <td>0.0</td>\n    </tr>\n    <tr>\n      <th>1903</th>\n      <td>22.200000</td>\n      <td>59.400000</td>\n      <td>18.400000</td>\n      <td>18.400000</td>\n      <td>17.853333</td>\n      <td>0.0</td>\n      <td>2.050000</td>\n      <td>0.0</td>\n      <td>5.320000</td>\n      <td>4.700000</td>\n      <td>...</td>\n      <td>0.0</td>\n      <td>0.0</td>\n      <td>11.000000</td>\n      <td>1.356667</td>\n      <td>740.000000</td>\n      <td>241.940000</td>\n      <td>0.000000</td>\n      <td>273.800000</td>\n      <td>0.1</td>\n      <td>0.0</td>\n    </tr>\n    <tr>\n      <th>1904</th>\n      <td>17.222222</td>\n      <td>76.555556</td>\n      <td>6.222222</td>\n      <td>9.744444</td>\n      <td>12.102222</td>\n      <td>0.0</td>\n      <td>0.925000</td>\n      <td>0.0</td>\n      <td>6.944444</td>\n      <td>6.344444</td>\n      <td>...</td>\n      <td>0.0</td>\n      <td>0.0</td>\n      <td>0.000000</td>\n      <td>1.334444</td>\n      <td>4126.666667</td>\n      <td>524.111111</td>\n      <td>27.600000</td>\n      <td>260.622222</td>\n      <td>0.1</td>\n      <td>0.0</td>\n    </tr>\n    <tr>\n      <th>1905</th>\n      <td>20.857143</td>\n      <td>72.000000</td>\n      <td>7.142857</td>\n      <td>14.685714</td>\n      <td>6.368000</td>\n      <td>0.0</td>\n      <td>0.000000</td>\n      <td>0.0</td>\n      <td>5.814286</td>\n      <td>5.185714</td>\n      <td>...</td>\n      <td>0.0</td>\n      <td>0.0</td>\n      <td>0.000000</td>\n      <td>1.456000</td>\n      <td>2562.857143</td>\n      <td>318.000000</td>\n      <td>49.285714</td>\n      <td>296.285714</td>\n      <td>0.1</td>\n      <td>0.0</td>\n    </tr>\n  </tbody>\n</table>\n<p>1906 rows × 21 columns</p>\n</div>"
     },
     "execution_count": 69,
     "metadata": {},
     "output_type": "execute_result"
    }
   ],
   "source": [
    "data = averaged_df.fillna(0)\n",
    "data = data.drop(['site_key', 'longitude_decimal_degrees', 'latitude_decimal_degrees'], axis=1)\n",
    "data"
   ],
   "metadata": {
    "collapsed": false,
    "pycharm": {
     "name": "#%%\n"
    }
   }
  },
  {
   "cell_type": "code",
   "execution_count": 70,
   "outputs": [],
   "source": [
    "import sklearn as sk\n",
    "from sklearn.cluster import KMeans\n",
    "\n",
    "kmeans = KMeans(n_clusters=2, random_state=0)\n",
    "clustered_data = kmeans.fit_predict(data)"
   ],
   "metadata": {
    "collapsed": false,
    "pycharm": {
     "name": "#%%\n"
    }
   }
  },
  {
   "cell_type": "code",
   "execution_count": 71,
   "outputs": [],
   "source": [
    "data['class'] = clustered_data"
   ],
   "metadata": {
    "collapsed": false,
    "pycharm": {
     "name": "#%%\n"
    }
   }
  },
  {
   "cell_type": "code",
   "execution_count": 72,
   "outputs": [
    {
     "data": {
      "text/plain": "      clay_tot_psa  silt_tot_psa  sand_tot_psa          oc       oc_d  c_tot  \\\n3         8.200000     36.000000     55.800000  146.533333  66.251667    0.0   \n4        10.500000     36.000000     53.500000   13.000000  15.210000    0.0   \n5         6.000000     36.666667     57.333333   62.428571  24.738857    0.0   \n6         3.750000     16.750000     79.500000  117.200000  28.008000    0.0   \n7         4.666667     42.666667     52.666667   54.250000  16.025000    0.0   \n...            ...           ...           ...         ...        ...    ...   \n1898     13.400000      0.000000      0.000000    7.700000   0.000000    7.7   \n1899     12.050000      0.000000      0.000000    5.400000   0.000000    5.4   \n1901      2.500000     55.000000     42.500000   12.850000  11.305000    0.0   \n1902      2.500000     38.500000     59.000000   12.066667  11.078200    0.0   \n1903     22.200000     59.400000     18.400000   18.400000  17.853333    0.0   \n\n         n_tot  ph_kcl    ph_h2o  ph_cacl2  ...  ecec       wpg2     db_od  \\\n3     3.983333     0.0  0.000000  4.483333  ...   0.0   4.166667  1.055000   \n4     0.800000     0.0  0.000000  5.033333  ...   0.0   3.750000  1.386667   \n5     2.142857     0.0  0.000000  5.228571  ...   0.0  33.571429  1.191429   \n6     2.000000     0.0  0.000000  5.300000  ...   0.0  31.600000  1.116000   \n7     2.000000     0.0  0.000000  4.900000  ...   0.0  18.750000  0.995000   \n...        ...     ...       ...       ...  ...   ...        ...       ...   \n1898  0.000000     0.0  0.000000  0.000000  ...   0.0   0.000000  0.000000   \n1899  0.000000     0.0  0.000000  0.000000  ...   0.0   0.000000  0.000000   \n1901  0.700000     0.0  6.500000  5.600000  ...   0.0  10.000000  0.920000   \n1902  1.300000     0.0  6.183333  5.466667  ...   0.0  18.800000  1.210000   \n1903  2.050000     0.0  5.320000  4.700000  ...   0.0  11.000000  1.356667   \n\n           ca_ext      mg_ext     na_ext       k_ext  ec_satp  ec_12pre  class  \n3      788.666667  270.233333  43.700000  303.025000      0.0       0.0      0  \n4     1210.000000  189.566667  38.333333   97.750000      0.0       0.0      0  \n5     1726.666667   52.433333  19.166667   91.233333      0.0       0.0      0  \n6     1050.000000   87.725000   5.750000   68.425000      0.0       0.0      0  \n7      273.333333   20.166667  15.333333   39.100000      0.0       0.0      0  \n...           ...         ...        ...         ...      ...       ...    ...  \n1898     0.000000    0.000000   0.000000    0.000000      0.0       0.0      0  \n1899     0.000000    0.000000   0.000000    0.000000      0.0       0.0      0  \n1901   860.000000   78.650000  23.000000  215.500000      0.1       0.0      0  \n1902   823.333333   64.533333  61.333333  117.240000      0.1       0.0      0  \n1903   740.000000  241.940000   0.000000  273.800000      0.1       0.0      0  \n\n[1444 rows x 22 columns]",
      "text/html": "<div>\n<style scoped>\n    .dataframe tbody tr th:only-of-type {\n        vertical-align: middle;\n    }\n\n    .dataframe tbody tr th {\n        vertical-align: top;\n    }\n\n    .dataframe thead th {\n        text-align: right;\n    }\n</style>\n<table border=\"1\" class=\"dataframe\">\n  <thead>\n    <tr style=\"text-align: right;\">\n      <th></th>\n      <th>clay_tot_psa</th>\n      <th>silt_tot_psa</th>\n      <th>sand_tot_psa</th>\n      <th>oc</th>\n      <th>oc_d</th>\n      <th>c_tot</th>\n      <th>n_tot</th>\n      <th>ph_kcl</th>\n      <th>ph_h2o</th>\n      <th>ph_cacl2</th>\n      <th>...</th>\n      <th>ecec</th>\n      <th>wpg2</th>\n      <th>db_od</th>\n      <th>ca_ext</th>\n      <th>mg_ext</th>\n      <th>na_ext</th>\n      <th>k_ext</th>\n      <th>ec_satp</th>\n      <th>ec_12pre</th>\n      <th>class</th>\n    </tr>\n  </thead>\n  <tbody>\n    <tr>\n      <th>3</th>\n      <td>8.200000</td>\n      <td>36.000000</td>\n      <td>55.800000</td>\n      <td>146.533333</td>\n      <td>66.251667</td>\n      <td>0.0</td>\n      <td>3.983333</td>\n      <td>0.0</td>\n      <td>0.000000</td>\n      <td>4.483333</td>\n      <td>...</td>\n      <td>0.0</td>\n      <td>4.166667</td>\n      <td>1.055000</td>\n      <td>788.666667</td>\n      <td>270.233333</td>\n      <td>43.700000</td>\n      <td>303.025000</td>\n      <td>0.0</td>\n      <td>0.0</td>\n      <td>0</td>\n    </tr>\n    <tr>\n      <th>4</th>\n      <td>10.500000</td>\n      <td>36.000000</td>\n      <td>53.500000</td>\n      <td>13.000000</td>\n      <td>15.210000</td>\n      <td>0.0</td>\n      <td>0.800000</td>\n      <td>0.0</td>\n      <td>0.000000</td>\n      <td>5.033333</td>\n      <td>...</td>\n      <td>0.0</td>\n      <td>3.750000</td>\n      <td>1.386667</td>\n      <td>1210.000000</td>\n      <td>189.566667</td>\n      <td>38.333333</td>\n      <td>97.750000</td>\n      <td>0.0</td>\n      <td>0.0</td>\n      <td>0</td>\n    </tr>\n    <tr>\n      <th>5</th>\n      <td>6.000000</td>\n      <td>36.666667</td>\n      <td>57.333333</td>\n      <td>62.428571</td>\n      <td>24.738857</td>\n      <td>0.0</td>\n      <td>2.142857</td>\n      <td>0.0</td>\n      <td>0.000000</td>\n      <td>5.228571</td>\n      <td>...</td>\n      <td>0.0</td>\n      <td>33.571429</td>\n      <td>1.191429</td>\n      <td>1726.666667</td>\n      <td>52.433333</td>\n      <td>19.166667</td>\n      <td>91.233333</td>\n      <td>0.0</td>\n      <td>0.0</td>\n      <td>0</td>\n    </tr>\n    <tr>\n      <th>6</th>\n      <td>3.750000</td>\n      <td>16.750000</td>\n      <td>79.500000</td>\n      <td>117.200000</td>\n      <td>28.008000</td>\n      <td>0.0</td>\n      <td>2.000000</td>\n      <td>0.0</td>\n      <td>0.000000</td>\n      <td>5.300000</td>\n      <td>...</td>\n      <td>0.0</td>\n      <td>31.600000</td>\n      <td>1.116000</td>\n      <td>1050.000000</td>\n      <td>87.725000</td>\n      <td>5.750000</td>\n      <td>68.425000</td>\n      <td>0.0</td>\n      <td>0.0</td>\n      <td>0</td>\n    </tr>\n    <tr>\n      <th>7</th>\n      <td>4.666667</td>\n      <td>42.666667</td>\n      <td>52.666667</td>\n      <td>54.250000</td>\n      <td>16.025000</td>\n      <td>0.0</td>\n      <td>2.000000</td>\n      <td>0.0</td>\n      <td>0.000000</td>\n      <td>4.900000</td>\n      <td>...</td>\n      <td>0.0</td>\n      <td>18.750000</td>\n      <td>0.995000</td>\n      <td>273.333333</td>\n      <td>20.166667</td>\n      <td>15.333333</td>\n      <td>39.100000</td>\n      <td>0.0</td>\n      <td>0.0</td>\n      <td>0</td>\n    </tr>\n    <tr>\n      <th>...</th>\n      <td>...</td>\n      <td>...</td>\n      <td>...</td>\n      <td>...</td>\n      <td>...</td>\n      <td>...</td>\n      <td>...</td>\n      <td>...</td>\n      <td>...</td>\n      <td>...</td>\n      <td>...</td>\n      <td>...</td>\n      <td>...</td>\n      <td>...</td>\n      <td>...</td>\n      <td>...</td>\n      <td>...</td>\n      <td>...</td>\n      <td>...</td>\n      <td>...</td>\n      <td>...</td>\n    </tr>\n    <tr>\n      <th>1898</th>\n      <td>13.400000</td>\n      <td>0.000000</td>\n      <td>0.000000</td>\n      <td>7.700000</td>\n      <td>0.000000</td>\n      <td>7.7</td>\n      <td>0.000000</td>\n      <td>0.0</td>\n      <td>0.000000</td>\n      <td>0.000000</td>\n      <td>...</td>\n      <td>0.0</td>\n      <td>0.000000</td>\n      <td>0.000000</td>\n      <td>0.000000</td>\n      <td>0.000000</td>\n      <td>0.000000</td>\n      <td>0.000000</td>\n      <td>0.0</td>\n      <td>0.0</td>\n      <td>0</td>\n    </tr>\n    <tr>\n      <th>1899</th>\n      <td>12.050000</td>\n      <td>0.000000</td>\n      <td>0.000000</td>\n      <td>5.400000</td>\n      <td>0.000000</td>\n      <td>5.4</td>\n      <td>0.000000</td>\n      <td>0.0</td>\n      <td>0.000000</td>\n      <td>0.000000</td>\n      <td>...</td>\n      <td>0.0</td>\n      <td>0.000000</td>\n      <td>0.000000</td>\n      <td>0.000000</td>\n      <td>0.000000</td>\n      <td>0.000000</td>\n      <td>0.000000</td>\n      <td>0.0</td>\n      <td>0.0</td>\n      <td>0</td>\n    </tr>\n    <tr>\n      <th>1901</th>\n      <td>2.500000</td>\n      <td>55.000000</td>\n      <td>42.500000</td>\n      <td>12.850000</td>\n      <td>11.305000</td>\n      <td>0.0</td>\n      <td>0.700000</td>\n      <td>0.0</td>\n      <td>6.500000</td>\n      <td>5.600000</td>\n      <td>...</td>\n      <td>0.0</td>\n      <td>10.000000</td>\n      <td>0.920000</td>\n      <td>860.000000</td>\n      <td>78.650000</td>\n      <td>23.000000</td>\n      <td>215.500000</td>\n      <td>0.1</td>\n      <td>0.0</td>\n      <td>0</td>\n    </tr>\n    <tr>\n      <th>1902</th>\n      <td>2.500000</td>\n      <td>38.500000</td>\n      <td>59.000000</td>\n      <td>12.066667</td>\n      <td>11.078200</td>\n      <td>0.0</td>\n      <td>1.300000</td>\n      <td>0.0</td>\n      <td>6.183333</td>\n      <td>5.466667</td>\n      <td>...</td>\n      <td>0.0</td>\n      <td>18.800000</td>\n      <td>1.210000</td>\n      <td>823.333333</td>\n      <td>64.533333</td>\n      <td>61.333333</td>\n      <td>117.240000</td>\n      <td>0.1</td>\n      <td>0.0</td>\n      <td>0</td>\n    </tr>\n    <tr>\n      <th>1903</th>\n      <td>22.200000</td>\n      <td>59.400000</td>\n      <td>18.400000</td>\n      <td>18.400000</td>\n      <td>17.853333</td>\n      <td>0.0</td>\n      <td>2.050000</td>\n      <td>0.0</td>\n      <td>5.320000</td>\n      <td>4.700000</td>\n      <td>...</td>\n      <td>0.0</td>\n      <td>11.000000</td>\n      <td>1.356667</td>\n      <td>740.000000</td>\n      <td>241.940000</td>\n      <td>0.000000</td>\n      <td>273.800000</td>\n      <td>0.1</td>\n      <td>0.0</td>\n      <td>0</td>\n    </tr>\n  </tbody>\n</table>\n<p>1444 rows × 22 columns</p>\n</div>"
     },
     "execution_count": 72,
     "metadata": {},
     "output_type": "execute_result"
    }
   ],
   "source": [
    "data[data['class'] == 0]"
   ],
   "metadata": {
    "collapsed": false,
    "pycharm": {
     "name": "#%%\n"
    }
   }
  },
  {
   "cell_type": "code",
   "execution_count": 73,
   "outputs": [
    {
     "data": {
      "text/plain": "      clay_tot_psa  silt_tot_psa  sand_tot_psa          oc       oc_d  \\\n0         0.000000      0.000000      0.000000  125.850000  32.572500   \n1         0.000000      0.000000      0.000000  124.975000  35.565000   \n2         7.166667     30.500000     62.333333   65.142857  33.768571   \n8        25.800000     43.200000     31.000000   87.833333  26.260000   \n10       35.500000     53.000000     11.500000   50.571429  18.057143   \n...            ...           ...           ...         ...        ...   \n1464     25.933333     66.422223      7.655556   15.600000   0.000000   \n1471      6.835714     67.267857     25.896429    0.000000   0.000000   \n1900     17.666667     54.166667     28.166667  106.133333  75.240000   \n1904     17.222222     76.555556      6.222222    9.744444  12.102222   \n1905     20.857143     72.000000      7.142857   14.685714   6.368000   \n\n         c_tot      n_tot  ph_kcl    ph_h2o  ph_cacl2  ...  ecec       wpg2  \\\n0     0.000000  12.900000     0.0  0.000000  5.033333  ...   0.0  24.000000   \n1     0.000000  10.100000     0.0  0.000000  4.966667  ...   0.0  15.000000   \n2     0.000000   5.142857     0.0  0.000000  4.614286  ...   0.0   4.285714   \n8     0.000000   1.800000     0.0  0.000000  5.420000  ...   0.0   1.583333   \n10    0.000000   2.200000     0.0  0.000000  5.085714  ...   0.0   2.500000   \n...        ...        ...     ...       ...       ...  ...   ...        ...   \n1464  0.000000   1.600000     0.0  0.000000  0.000000  ...   0.0   0.000000   \n1471  8.678182   3.325758     0.0  0.000000  0.000000  ...   0.0   3.964286   \n1900  0.000000   7.971667     0.0  6.816667  6.316667  ...   0.0   1.000000   \n1904  0.000000   0.925000     0.0  6.944444  6.344444  ...   0.0   0.000000   \n1905  0.000000   0.000000     0.0  5.814286  5.185714  ...   0.0   0.000000   \n\n         db_od       ca_ext      mg_ext     na_ext       k_ext   ec_satp  \\\n0     0.970000  3336.666667  336.380000  23.766667  370.146667  0.000000   \n1     1.032500  3092.666667  383.570000  24.533333  458.773333  0.000000   \n2     1.108571  2144.571429  386.681429  66.371429  524.498571  0.000000   \n8     1.236667  2436.000000  559.020000  55.200000   39.100000  0.000000   \n10    1.300000  2380.000000  766.333333  57.500000  110.783333  0.000000   \n...        ...          ...         ...        ...         ...       ...   \n1464  0.000000  2268.888889  533.000000  38.333333  252.033333  0.207778   \n1471  0.000000  3575.757576  203.545455   0.000000  240.515152  0.648000   \n1900  0.785000  7086.666667  635.500000  92.000000  123.733333  0.000000   \n1904  1.334444  4126.666667  524.111111  27.600000  260.622222  0.100000   \n1905  1.456000  2562.857143  318.000000  49.285714  296.285714  0.100000   \n\n      ec_12pre  class  \n0     0.000000      1  \n1     0.000000      1  \n2     0.000000      1  \n8     0.000000      1  \n10    0.000000      1  \n...        ...    ...  \n1464  0.000000      1  \n1471  0.130714      1  \n1900  0.000000      1  \n1904  0.000000      1  \n1905  0.000000      1  \n\n[462 rows x 22 columns]",
      "text/html": "<div>\n<style scoped>\n    .dataframe tbody tr th:only-of-type {\n        vertical-align: middle;\n    }\n\n    .dataframe tbody tr th {\n        vertical-align: top;\n    }\n\n    .dataframe thead th {\n        text-align: right;\n    }\n</style>\n<table border=\"1\" class=\"dataframe\">\n  <thead>\n    <tr style=\"text-align: right;\">\n      <th></th>\n      <th>clay_tot_psa</th>\n      <th>silt_tot_psa</th>\n      <th>sand_tot_psa</th>\n      <th>oc</th>\n      <th>oc_d</th>\n      <th>c_tot</th>\n      <th>n_tot</th>\n      <th>ph_kcl</th>\n      <th>ph_h2o</th>\n      <th>ph_cacl2</th>\n      <th>...</th>\n      <th>ecec</th>\n      <th>wpg2</th>\n      <th>db_od</th>\n      <th>ca_ext</th>\n      <th>mg_ext</th>\n      <th>na_ext</th>\n      <th>k_ext</th>\n      <th>ec_satp</th>\n      <th>ec_12pre</th>\n      <th>class</th>\n    </tr>\n  </thead>\n  <tbody>\n    <tr>\n      <th>0</th>\n      <td>0.000000</td>\n      <td>0.000000</td>\n      <td>0.000000</td>\n      <td>125.850000</td>\n      <td>32.572500</td>\n      <td>0.000000</td>\n      <td>12.900000</td>\n      <td>0.0</td>\n      <td>0.000000</td>\n      <td>5.033333</td>\n      <td>...</td>\n      <td>0.0</td>\n      <td>24.000000</td>\n      <td>0.970000</td>\n      <td>3336.666667</td>\n      <td>336.380000</td>\n      <td>23.766667</td>\n      <td>370.146667</td>\n      <td>0.000000</td>\n      <td>0.000000</td>\n      <td>1</td>\n    </tr>\n    <tr>\n      <th>1</th>\n      <td>0.000000</td>\n      <td>0.000000</td>\n      <td>0.000000</td>\n      <td>124.975000</td>\n      <td>35.565000</td>\n      <td>0.000000</td>\n      <td>10.100000</td>\n      <td>0.0</td>\n      <td>0.000000</td>\n      <td>4.966667</td>\n      <td>...</td>\n      <td>0.0</td>\n      <td>15.000000</td>\n      <td>1.032500</td>\n      <td>3092.666667</td>\n      <td>383.570000</td>\n      <td>24.533333</td>\n      <td>458.773333</td>\n      <td>0.000000</td>\n      <td>0.000000</td>\n      <td>1</td>\n    </tr>\n    <tr>\n      <th>2</th>\n      <td>7.166667</td>\n      <td>30.500000</td>\n      <td>62.333333</td>\n      <td>65.142857</td>\n      <td>33.768571</td>\n      <td>0.000000</td>\n      <td>5.142857</td>\n      <td>0.0</td>\n      <td>0.000000</td>\n      <td>4.614286</td>\n      <td>...</td>\n      <td>0.0</td>\n      <td>4.285714</td>\n      <td>1.108571</td>\n      <td>2144.571429</td>\n      <td>386.681429</td>\n      <td>66.371429</td>\n      <td>524.498571</td>\n      <td>0.000000</td>\n      <td>0.000000</td>\n      <td>1</td>\n    </tr>\n    <tr>\n      <th>8</th>\n      <td>25.800000</td>\n      <td>43.200000</td>\n      <td>31.000000</td>\n      <td>87.833333</td>\n      <td>26.260000</td>\n      <td>0.000000</td>\n      <td>1.800000</td>\n      <td>0.0</td>\n      <td>0.000000</td>\n      <td>5.420000</td>\n      <td>...</td>\n      <td>0.0</td>\n      <td>1.583333</td>\n      <td>1.236667</td>\n      <td>2436.000000</td>\n      <td>559.020000</td>\n      <td>55.200000</td>\n      <td>39.100000</td>\n      <td>0.000000</td>\n      <td>0.000000</td>\n      <td>1</td>\n    </tr>\n    <tr>\n      <th>10</th>\n      <td>35.500000</td>\n      <td>53.000000</td>\n      <td>11.500000</td>\n      <td>50.571429</td>\n      <td>18.057143</td>\n      <td>0.000000</td>\n      <td>2.200000</td>\n      <td>0.0</td>\n      <td>0.000000</td>\n      <td>5.085714</td>\n      <td>...</td>\n      <td>0.0</td>\n      <td>2.500000</td>\n      <td>1.300000</td>\n      <td>2380.000000</td>\n      <td>766.333333</td>\n      <td>57.500000</td>\n      <td>110.783333</td>\n      <td>0.000000</td>\n      <td>0.000000</td>\n      <td>1</td>\n    </tr>\n    <tr>\n      <th>...</th>\n      <td>...</td>\n      <td>...</td>\n      <td>...</td>\n      <td>...</td>\n      <td>...</td>\n      <td>...</td>\n      <td>...</td>\n      <td>...</td>\n      <td>...</td>\n      <td>...</td>\n      <td>...</td>\n      <td>...</td>\n      <td>...</td>\n      <td>...</td>\n      <td>...</td>\n      <td>...</td>\n      <td>...</td>\n      <td>...</td>\n      <td>...</td>\n      <td>...</td>\n      <td>...</td>\n    </tr>\n    <tr>\n      <th>1464</th>\n      <td>25.933333</td>\n      <td>66.422223</td>\n      <td>7.655556</td>\n      <td>15.600000</td>\n      <td>0.000000</td>\n      <td>0.000000</td>\n      <td>1.600000</td>\n      <td>0.0</td>\n      <td>0.000000</td>\n      <td>0.000000</td>\n      <td>...</td>\n      <td>0.0</td>\n      <td>0.000000</td>\n      <td>0.000000</td>\n      <td>2268.888889</td>\n      <td>533.000000</td>\n      <td>38.333333</td>\n      <td>252.033333</td>\n      <td>0.207778</td>\n      <td>0.000000</td>\n      <td>1</td>\n    </tr>\n    <tr>\n      <th>1471</th>\n      <td>6.835714</td>\n      <td>67.267857</td>\n      <td>25.896429</td>\n      <td>0.000000</td>\n      <td>0.000000</td>\n      <td>8.678182</td>\n      <td>3.325758</td>\n      <td>0.0</td>\n      <td>0.000000</td>\n      <td>0.000000</td>\n      <td>...</td>\n      <td>0.0</td>\n      <td>3.964286</td>\n      <td>0.000000</td>\n      <td>3575.757576</td>\n      <td>203.545455</td>\n      <td>0.000000</td>\n      <td>240.515152</td>\n      <td>0.648000</td>\n      <td>0.130714</td>\n      <td>1</td>\n    </tr>\n    <tr>\n      <th>1900</th>\n      <td>17.666667</td>\n      <td>54.166667</td>\n      <td>28.166667</td>\n      <td>106.133333</td>\n      <td>75.240000</td>\n      <td>0.000000</td>\n      <td>7.971667</td>\n      <td>0.0</td>\n      <td>6.816667</td>\n      <td>6.316667</td>\n      <td>...</td>\n      <td>0.0</td>\n      <td>1.000000</td>\n      <td>0.785000</td>\n      <td>7086.666667</td>\n      <td>635.500000</td>\n      <td>92.000000</td>\n      <td>123.733333</td>\n      <td>0.000000</td>\n      <td>0.000000</td>\n      <td>1</td>\n    </tr>\n    <tr>\n      <th>1904</th>\n      <td>17.222222</td>\n      <td>76.555556</td>\n      <td>6.222222</td>\n      <td>9.744444</td>\n      <td>12.102222</td>\n      <td>0.000000</td>\n      <td>0.925000</td>\n      <td>0.0</td>\n      <td>6.944444</td>\n      <td>6.344444</td>\n      <td>...</td>\n      <td>0.0</td>\n      <td>0.000000</td>\n      <td>1.334444</td>\n      <td>4126.666667</td>\n      <td>524.111111</td>\n      <td>27.600000</td>\n      <td>260.622222</td>\n      <td>0.100000</td>\n      <td>0.000000</td>\n      <td>1</td>\n    </tr>\n    <tr>\n      <th>1905</th>\n      <td>20.857143</td>\n      <td>72.000000</td>\n      <td>7.142857</td>\n      <td>14.685714</td>\n      <td>6.368000</td>\n      <td>0.000000</td>\n      <td>0.000000</td>\n      <td>0.0</td>\n      <td>5.814286</td>\n      <td>5.185714</td>\n      <td>...</td>\n      <td>0.0</td>\n      <td>0.000000</td>\n      <td>1.456000</td>\n      <td>2562.857143</td>\n      <td>318.000000</td>\n      <td>49.285714</td>\n      <td>296.285714</td>\n      <td>0.100000</td>\n      <td>0.000000</td>\n      <td>1</td>\n    </tr>\n  </tbody>\n</table>\n<p>462 rows × 22 columns</p>\n</div>"
     },
     "execution_count": 73,
     "metadata": {},
     "output_type": "execute_result"
    }
   ],
   "source": [
    "data[data['class'] == 1]"
   ],
   "metadata": {
    "collapsed": false,
    "pycharm": {
     "name": "#%%\n"
    }
   }
  },
  {
   "cell_type": "code",
   "execution_count": 87,
   "outputs": [
    {
     "data": {
      "text/plain": "  site_key  longitude_decimal_degrees  latitude_decimal_degrees  clay_tot_psa  \\\n0      687                    -123.73                     48.63           NaN   \n1      689                    -123.52                     48.83           NaN   \n2     1122                    -123.37                     48.48      7.166667   \n3     1123                    -124.45                     48.60      8.200000   \n4     2367                    -123.36                     48.88     10.500000   \n5     2368                    -123.51                     48.74      6.000000   \n6     2369                    -123.49                     48.84      3.750000   \n7     2370                    -123.55                     48.83      4.666667   \n8     2374                    -123.30                     48.81     25.800000   \n9     2378                    -123.17                     48.78      8.250000   \n\n   silt_tot_psa  sand_tot_psa          oc       oc_d  c_tot      n_tot  ...  \\\n0           NaN           NaN  125.850000  32.572500    NaN  12.900000  ...   \n1           NaN           NaN  124.975000  35.565000    NaN  10.100000  ...   \n2     30.500000     62.333333   65.142857  33.768571    NaN   5.142857  ...   \n3     36.000000     55.800000  146.533333  66.251667    NaN   3.983333  ...   \n4     36.000000     53.500000   13.000000  15.210000    NaN   0.800000  ...   \n5     36.666667     57.333333   62.428571  24.738857    NaN   2.142857  ...   \n6     16.750000     79.500000  117.200000  28.008000    NaN   2.000000  ...   \n7     42.666667     52.666667   54.250000  16.025000    NaN   2.000000  ...   \n8     43.200000     31.000000   87.833333  26.260000    NaN   1.800000  ...   \n9     27.500000     64.250000   22.000000  23.585000    NaN   1.600000  ...   \n\n   ecec       wpg2     db_od       ca_ext      mg_ext     na_ext       k_ext  \\\n0   NaN  24.000000  0.970000  3336.666667  336.380000  23.766667  370.146667   \n1   NaN  15.000000  1.032500  3092.666667  383.570000  24.533333  458.773333   \n2   NaN   4.285714  1.108571  2144.571429  386.681429  66.371429  524.498571   \n3   NaN   4.166667  1.055000   788.666667  270.233333  43.700000  303.025000   \n4   NaN   3.750000  1.386667  1210.000000  189.566667  38.333333   97.750000   \n5   NaN  33.571429  1.191429  1726.666667   52.433333  19.166667   91.233333   \n6   NaN  31.600000  1.116000  1050.000000   87.725000   5.750000   68.425000   \n7   NaN  18.750000  0.995000   273.333333   20.166667  15.333333   39.100000   \n8   NaN   1.583333  1.236667  2436.000000  559.020000  55.200000   39.100000   \n9   NaN  21.250000  1.460000  1730.000000  356.950000  46.000000  146.625000   \n\n   ec_satp  ec_12pre  class  \n0      NaN       NaN      1  \n1      NaN       NaN      1  \n2      NaN       NaN      1  \n3      NaN       NaN      0  \n4      NaN       NaN      0  \n5      NaN       NaN      0  \n6      NaN       NaN      0  \n7      NaN       NaN      0  \n8      NaN       NaN      1  \n9      NaN       NaN      0  \n\n[10 rows x 25 columns]",
      "text/html": "<div>\n<style scoped>\n    .dataframe tbody tr th:only-of-type {\n        vertical-align: middle;\n    }\n\n    .dataframe tbody tr th {\n        vertical-align: top;\n    }\n\n    .dataframe thead th {\n        text-align: right;\n    }\n</style>\n<table border=\"1\" class=\"dataframe\">\n  <thead>\n    <tr style=\"text-align: right;\">\n      <th></th>\n      <th>site_key</th>\n      <th>longitude_decimal_degrees</th>\n      <th>latitude_decimal_degrees</th>\n      <th>clay_tot_psa</th>\n      <th>silt_tot_psa</th>\n      <th>sand_tot_psa</th>\n      <th>oc</th>\n      <th>oc_d</th>\n      <th>c_tot</th>\n      <th>n_tot</th>\n      <th>...</th>\n      <th>ecec</th>\n      <th>wpg2</th>\n      <th>db_od</th>\n      <th>ca_ext</th>\n      <th>mg_ext</th>\n      <th>na_ext</th>\n      <th>k_ext</th>\n      <th>ec_satp</th>\n      <th>ec_12pre</th>\n      <th>class</th>\n    </tr>\n  </thead>\n  <tbody>\n    <tr>\n      <th>0</th>\n      <td>687</td>\n      <td>-123.73</td>\n      <td>48.63</td>\n      <td>NaN</td>\n      <td>NaN</td>\n      <td>NaN</td>\n      <td>125.850000</td>\n      <td>32.572500</td>\n      <td>NaN</td>\n      <td>12.900000</td>\n      <td>...</td>\n      <td>NaN</td>\n      <td>24.000000</td>\n      <td>0.970000</td>\n      <td>3336.666667</td>\n      <td>336.380000</td>\n      <td>23.766667</td>\n      <td>370.146667</td>\n      <td>NaN</td>\n      <td>NaN</td>\n      <td>1</td>\n    </tr>\n    <tr>\n      <th>1</th>\n      <td>689</td>\n      <td>-123.52</td>\n      <td>48.83</td>\n      <td>NaN</td>\n      <td>NaN</td>\n      <td>NaN</td>\n      <td>124.975000</td>\n      <td>35.565000</td>\n      <td>NaN</td>\n      <td>10.100000</td>\n      <td>...</td>\n      <td>NaN</td>\n      <td>15.000000</td>\n      <td>1.032500</td>\n      <td>3092.666667</td>\n      <td>383.570000</td>\n      <td>24.533333</td>\n      <td>458.773333</td>\n      <td>NaN</td>\n      <td>NaN</td>\n      <td>1</td>\n    </tr>\n    <tr>\n      <th>2</th>\n      <td>1122</td>\n      <td>-123.37</td>\n      <td>48.48</td>\n      <td>7.166667</td>\n      <td>30.500000</td>\n      <td>62.333333</td>\n      <td>65.142857</td>\n      <td>33.768571</td>\n      <td>NaN</td>\n      <td>5.142857</td>\n      <td>...</td>\n      <td>NaN</td>\n      <td>4.285714</td>\n      <td>1.108571</td>\n      <td>2144.571429</td>\n      <td>386.681429</td>\n      <td>66.371429</td>\n      <td>524.498571</td>\n      <td>NaN</td>\n      <td>NaN</td>\n      <td>1</td>\n    </tr>\n    <tr>\n      <th>3</th>\n      <td>1123</td>\n      <td>-124.45</td>\n      <td>48.60</td>\n      <td>8.200000</td>\n      <td>36.000000</td>\n      <td>55.800000</td>\n      <td>146.533333</td>\n      <td>66.251667</td>\n      <td>NaN</td>\n      <td>3.983333</td>\n      <td>...</td>\n      <td>NaN</td>\n      <td>4.166667</td>\n      <td>1.055000</td>\n      <td>788.666667</td>\n      <td>270.233333</td>\n      <td>43.700000</td>\n      <td>303.025000</td>\n      <td>NaN</td>\n      <td>NaN</td>\n      <td>0</td>\n    </tr>\n    <tr>\n      <th>4</th>\n      <td>2367</td>\n      <td>-123.36</td>\n      <td>48.88</td>\n      <td>10.500000</td>\n      <td>36.000000</td>\n      <td>53.500000</td>\n      <td>13.000000</td>\n      <td>15.210000</td>\n      <td>NaN</td>\n      <td>0.800000</td>\n      <td>...</td>\n      <td>NaN</td>\n      <td>3.750000</td>\n      <td>1.386667</td>\n      <td>1210.000000</td>\n      <td>189.566667</td>\n      <td>38.333333</td>\n      <td>97.750000</td>\n      <td>NaN</td>\n      <td>NaN</td>\n      <td>0</td>\n    </tr>\n    <tr>\n      <th>5</th>\n      <td>2368</td>\n      <td>-123.51</td>\n      <td>48.74</td>\n      <td>6.000000</td>\n      <td>36.666667</td>\n      <td>57.333333</td>\n      <td>62.428571</td>\n      <td>24.738857</td>\n      <td>NaN</td>\n      <td>2.142857</td>\n      <td>...</td>\n      <td>NaN</td>\n      <td>33.571429</td>\n      <td>1.191429</td>\n      <td>1726.666667</td>\n      <td>52.433333</td>\n      <td>19.166667</td>\n      <td>91.233333</td>\n      <td>NaN</td>\n      <td>NaN</td>\n      <td>0</td>\n    </tr>\n    <tr>\n      <th>6</th>\n      <td>2369</td>\n      <td>-123.49</td>\n      <td>48.84</td>\n      <td>3.750000</td>\n      <td>16.750000</td>\n      <td>79.500000</td>\n      <td>117.200000</td>\n      <td>28.008000</td>\n      <td>NaN</td>\n      <td>2.000000</td>\n      <td>...</td>\n      <td>NaN</td>\n      <td>31.600000</td>\n      <td>1.116000</td>\n      <td>1050.000000</td>\n      <td>87.725000</td>\n      <td>5.750000</td>\n      <td>68.425000</td>\n      <td>NaN</td>\n      <td>NaN</td>\n      <td>0</td>\n    </tr>\n    <tr>\n      <th>7</th>\n      <td>2370</td>\n      <td>-123.55</td>\n      <td>48.83</td>\n      <td>4.666667</td>\n      <td>42.666667</td>\n      <td>52.666667</td>\n      <td>54.250000</td>\n      <td>16.025000</td>\n      <td>NaN</td>\n      <td>2.000000</td>\n      <td>...</td>\n      <td>NaN</td>\n      <td>18.750000</td>\n      <td>0.995000</td>\n      <td>273.333333</td>\n      <td>20.166667</td>\n      <td>15.333333</td>\n      <td>39.100000</td>\n      <td>NaN</td>\n      <td>NaN</td>\n      <td>0</td>\n    </tr>\n    <tr>\n      <th>8</th>\n      <td>2374</td>\n      <td>-123.30</td>\n      <td>48.81</td>\n      <td>25.800000</td>\n      <td>43.200000</td>\n      <td>31.000000</td>\n      <td>87.833333</td>\n      <td>26.260000</td>\n      <td>NaN</td>\n      <td>1.800000</td>\n      <td>...</td>\n      <td>NaN</td>\n      <td>1.583333</td>\n      <td>1.236667</td>\n      <td>2436.000000</td>\n      <td>559.020000</td>\n      <td>55.200000</td>\n      <td>39.100000</td>\n      <td>NaN</td>\n      <td>NaN</td>\n      <td>1</td>\n    </tr>\n    <tr>\n      <th>9</th>\n      <td>2378</td>\n      <td>-123.17</td>\n      <td>48.78</td>\n      <td>8.250000</td>\n      <td>27.500000</td>\n      <td>64.250000</td>\n      <td>22.000000</td>\n      <td>23.585000</td>\n      <td>NaN</td>\n      <td>1.600000</td>\n      <td>...</td>\n      <td>NaN</td>\n      <td>21.250000</td>\n      <td>1.460000</td>\n      <td>1730.000000</td>\n      <td>356.950000</td>\n      <td>46.000000</td>\n      <td>146.625000</td>\n      <td>NaN</td>\n      <td>NaN</td>\n      <td>0</td>\n    </tr>\n  </tbody>\n</table>\n<p>10 rows × 25 columns</p>\n</div>"
     },
     "execution_count": 87,
     "metadata": {},
     "output_type": "execute_result"
    }
   ],
   "source": [
    "classified_data = pd.merge(averaged_df, data['class'], left_index=True, right_index=True)\n",
    "classified_data.head(10)"
   ],
   "metadata": {
    "collapsed": false,
    "pycharm": {
     "name": "#%%\n"
    }
   }
  },
  {
   "cell_type": "markdown",
   "source": [
    "### export data to CSV"
   ],
   "metadata": {
    "collapsed": false,
    "pycharm": {
     "name": "#%% md\n"
    }
   }
  },
  {
   "cell_type": "code",
   "execution_count": 112,
   "outputs": [],
   "source": [
    "classified_data.to_csv('./data/processed/soil_properties/soil_properties_dataset.csv', )"
   ],
   "metadata": {
    "collapsed": false,
    "pycharm": {
     "name": "#%%\n"
    }
   }
  },
  {
   "cell_type": "code",
   "execution_count": 113,
   "outputs": [
    {
     "data": {
      "text/plain": "23.714998950000002"
     },
     "execution_count": 113,
     "metadata": {},
     "output_type": "execute_result"
    }
   ],
   "source": [
    "classified_data['n_tot'].max()"
   ],
   "metadata": {
    "collapsed": false,
    "pycharm": {
     "name": "#%%\n"
    }
   }
  },
  {
   "cell_type": "code",
   "execution_count": 114,
   "outputs": [
    {
     "data": {
      "text/plain": "0.023236368333333337"
     },
     "execution_count": 114,
     "metadata": {},
     "output_type": "execute_result"
    }
   ],
   "source": [
    "classified_data['n_tot'].min()"
   ],
   "metadata": {
    "collapsed": false,
    "pycharm": {
     "name": "#%%\n"
    }
   }
  },
  {
   "cell_type": "code",
   "execution_count": 115,
   "outputs": [
    {
     "data": {
      "text/plain": "2.4917580724508968"
     },
     "execution_count": 115,
     "metadata": {},
     "output_type": "execute_result"
    }
   ],
   "source": [
    "classified_data['n_tot'].mean()"
   ],
   "metadata": {
    "collapsed": false,
    "pycharm": {
     "name": "#%%\n"
    }
   }
  },
  {
   "cell_type": "code",
   "execution_count": 125,
   "outputs": [
    {
     "data": {
      "text/plain": "    site_key  longitude_decimal_degrees  latitude_decimal_degrees  \\\n640  11659.0                -122.769997                  45.96722   \n\n     clay_tot_psa  silt_tot_psa  sand_tot_psa         oc   oc_d     c_tot  \\\n640          26.1     46.442857     27.457143  11.142857  16.26  1.134286   \n\n     n_tot  ...   ecec      wpg2   db_od       ca_ext       mg_ext     na_ext  \\\n640   1.52  ...  13.65  0.166667  1.3525  4028.571429  1116.571429  26.285714   \n\n          k_ext  ec_satp  ec_12pre  class  \n640  106.071429      NaN       NaN      1  \n\n[1 rows x 25 columns]",
      "text/html": "<div>\n<style scoped>\n    .dataframe tbody tr th:only-of-type {\n        vertical-align: middle;\n    }\n\n    .dataframe tbody tr th {\n        vertical-align: top;\n    }\n\n    .dataframe thead th {\n        text-align: right;\n    }\n</style>\n<table border=\"1\" class=\"dataframe\">\n  <thead>\n    <tr style=\"text-align: right;\">\n      <th></th>\n      <th>site_key</th>\n      <th>longitude_decimal_degrees</th>\n      <th>latitude_decimal_degrees</th>\n      <th>clay_tot_psa</th>\n      <th>silt_tot_psa</th>\n      <th>sand_tot_psa</th>\n      <th>oc</th>\n      <th>oc_d</th>\n      <th>c_tot</th>\n      <th>n_tot</th>\n      <th>...</th>\n      <th>ecec</th>\n      <th>wpg2</th>\n      <th>db_od</th>\n      <th>ca_ext</th>\n      <th>mg_ext</th>\n      <th>na_ext</th>\n      <th>k_ext</th>\n      <th>ec_satp</th>\n      <th>ec_12pre</th>\n      <th>class</th>\n    </tr>\n  </thead>\n  <tbody>\n    <tr>\n      <th>640</th>\n      <td>11659.0</td>\n      <td>-122.769997</td>\n      <td>45.96722</td>\n      <td>26.1</td>\n      <td>46.442857</td>\n      <td>27.457143</td>\n      <td>11.142857</td>\n      <td>16.26</td>\n      <td>1.134286</td>\n      <td>1.52</td>\n      <td>...</td>\n      <td>13.65</td>\n      <td>0.166667</td>\n      <td>1.3525</td>\n      <td>4028.571429</td>\n      <td>1116.571429</td>\n      <td>26.285714</td>\n      <td>106.071429</td>\n      <td>NaN</td>\n      <td>NaN</td>\n      <td>1</td>\n    </tr>\n  </tbody>\n</table>\n<p>1 rows × 25 columns</p>\n</div>"
     },
     "execution_count": 125,
     "metadata": {},
     "output_type": "execute_result"
    }
   ],
   "source": [
    "classified_data[(classified_data['longitude_decimal_degrees'] <= -122.75) & (classified_data['longitude_decimal_degrees'] >= -122.79) & (classified_data['latitude_decimal_degrees'] >= 45.94) & (classified_data['latitude_decimal_degrees'] <= 45.99)]"
   ],
   "metadata": {
    "collapsed": false,
    "pycharm": {
     "name": "#%%\n"
    }
   }
  },
  {
   "cell_type": "code",
   "execution_count": null,
   "outputs": [],
   "source": [],
   "metadata": {
    "collapsed": false,
    "pycharm": {
     "name": "#%%\n"
    }
   }
  }
 ],
 "metadata": {
  "kernelspec": {
   "name": "pycharm-e654f239",
   "language": "python",
   "display_name": "PyCharm (soil-dataset-exploration)"
  },
  "language_info": {
   "codemirror_mode": {
    "name": "ipython",
    "version": 2
   },
   "file_extension": ".py",
   "mimetype": "text/x-python",
   "name": "python",
   "nbconvert_exporter": "python",
   "pygments_lexer": "ipython2",
   "version": "2.7.6"
  }
 },
 "nbformat": 4,
 "nbformat_minor": 0
}