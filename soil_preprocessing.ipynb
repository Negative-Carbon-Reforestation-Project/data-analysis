{
 "cells": [
  {
   "cell_type": "markdown",
   "source": [
    "# Pre-processing Soil Properties Data"
   ],
   "metadata": {
    "collapsed": false,
    "pycharm": {
     "name": "#%% md\n"
    }
   }
  },
  {
   "cell_type": "markdown",
   "source": [
    "### Imports"
   ],
   "metadata": {
    "collapsed": false,
    "pycharm": {
     "name": "#%% md\n"
    }
   }
  },
  {
   "cell_type": "code",
   "execution_count": 2,
   "metadata": {
    "collapsed": true
   },
   "outputs": [],
   "source": [
    "import numpy as np\n",
    "import pandas as pd"
   ]
  },
  {
   "cell_type": "markdown",
   "source": [
    "### Import data as pandas DataFrame:\n",
    "data had to first be converted from .rds to .csv in R studio because of an encoding error. The following dataframe reads\n",
    "the data from a CSV."
   ],
   "metadata": {
    "collapsed": false,
    "pycharm": {
     "name": "#%% md\n"
    }
   }
  },
  {
   "cell_type": "code",
   "execution_count": 18,
   "outputs": [
    {
     "name": "stderr",
     "output_type": "stream",
     "text": [
      "C:\\Users\\liams\\anaconda3\\envs\\soil-dataset-exploration\\lib\\site-packages\\IPython\\core\\interactiveshell.py:3444: DtypeWarning: Columns (1) have mixed types.Specify dtype option on import or set low_memory=False.\n",
      "  exec(code_obj, self.user_global_ns, self.user_ns)\n"
     ]
    }
   ],
   "source": [
    "df = pd.read_csv('./data/unprocessed/soil_properties/soil_data.csv', usecols=['site_key',\n",
    "                                                                              'longitude_decimal_degrees',\n",
    "                                                                              'latitude_decimal_degrees',\n",
    "                                                                              'clay_tot_psa',\n",
    "                                                                              'silt_tot_psa',\n",
    "                                                                              'sand_tot_psa',\n",
    "                                                                              'oc',\n",
    "                                                                              'oc_d',\n",
    "                                                                              'c_tot',\n",
    "                                                                              'n_tot',\n",
    "                                                                              'ph_kcl',\n",
    "                                                                              'ph_h2o',\n",
    "                                                                              'ph_cacl2',\n",
    "                                                                              'cec_sum',\n",
    "                                                                              'cec_nh4',\n",
    "                                                                              'ecec',\n",
    "                                                                              'wpg2',\n",
    "                                                                              'db_od',\n",
    "                                                                              'ca_ext',\n",
    "                                                                              'mg_ext',\n",
    "                                                                              'na_ext',\n",
    "                                                                              'k_ext',\n",
    "                                                                              'ec_satp',\n",
    "                                                                              'ec_12pre'])"
   ],
   "metadata": {
    "collapsed": false,
    "pycharm": {
     "name": "#%%\n"
    }
   }
  },
  {
   "cell_type": "markdown",
   "source": [
    "### Column Name Key:\n",
    "* clay_tot_psa: Clay, Total in % wt for <2 mm soil fraction\n",
    "* silt_tot_psa: Silt, Total in % wt for <2 mm soil fraction\n",
    "* sand_tot_psa: Sand, Total in % wt for <2 mm soil fraction\n",
    "* oc: Carbon, Organic in g/kg for <2 mm soil fraction\n",
    "* oc_d: Soil organic carbon density in kg/m3\n",
    "* c_tot: Carbon, Total in g/kg for <2 mm soil fraction\n",
    "* n_tot: Nitrogen, Total NCS in g/kg for <2 mm soil fraction\n",
    "* ph_kcl: pH, KCl Suspension for <2 mm soil fraction\n",
    "* ph_h2o: pH, 1:1 Soil-Water Suspension for <2 mm soil fraction\n",
    "* ph_cacl2: pH, CaCl2 Suspension for <2 mm soil fraction\n",
    "* cec_sum: Cation Exchange Capacity, Summary, in cmol(+)/kg for <2 mm soil fraction\n",
    "* cec_nh4: Cation Exchange Capacity, NH4 prep, in cmol(+)/kg for <2 mm soil fraction\n",
    "* ecec: Cation Exchange Capacity, Effective, CMS derived value default, standa prep in cmol(+)/kg for <2 mm soil fraction\n",
    "* wpg2: Coarse fragments in % wt for >2 mm soil fraction\n",
    "* db_od: Bulk density (Oven Dry) in g/cm3 (4A1h)\n",
    "* ca_ext: Calcium, Extractable in mg/kg for <2 mm soil fraction (usually Mehlich3)\n",
    "* mg_ext: Magnesium, Extractable in mg/kg for <2 mm soil fraction (usually Mehlich3)\n",
    "* na_ext: Sodium, Extractable in mg/kg for <2 mm soil fraction (usually Mehlich3)\n",
    "* k_ext: Potassium, Extractable in mg/kg for <2 mm soil fraction (usually Mehlich3)\n",
    "* ec_satp: Electrical Conductivity, Saturation Extract in dS/m for <2 mm soil fraction\n",
    "* ec_12pre: Electrical Conductivity, Predict, 1:2 (w/w) in dS/m for <2 mm soil fraction"
   ],
   "metadata": {
    "collapsed": false,
    "pycharm": {
     "name": "#%% md\n"
    }
   }
  },
  {
   "cell_type": "code",
   "execution_count": 19,
   "outputs": [
    {
     "data": {
      "text/plain": "         site_key  longitude_decimal_degrees  latitude_decimal_degrees  \\\n0       icr006475                  36.435982                 -6.088750   \n1       icr006586                  36.457722                 -6.055750   \n2       icr007929                  37.493351                 -5.339337   \n3       icr008008                  37.515327                 -5.333700   \n4       icr010198                  35.191799                -11.087100   \n...           ...                        ...                       ...   \n634959     ZW0067                  31.750000                -19.800000   \n634960     ZW0067                  31.750000                -19.800000   \n634961     ZW0067                  31.750000                -19.800000   \n634962     ZW0067                  31.750000                -19.800000   \n634963     ZW0067                  31.750000                -19.800000   \n\n        clay_tot_psa  silt_tot_psa  sand_tot_psa   oc  oc_d  c_tot  n_tot  \\\n0                NaN           NaN           NaN  NaN   NaN    NaN    NaN   \n1                NaN           NaN           NaN  NaN   NaN    NaN    NaN   \n2                NaN           NaN           NaN  NaN   NaN    NaN    NaN   \n3                NaN           NaN           NaN  NaN   NaN    NaN    NaN   \n4                NaN           NaN           NaN  NaN   NaN    NaN    NaN   \n...              ...           ...           ...  ...   ...    ...    ...   \n634959           7.0          11.0          82.0  1.4   NaN    NaN    0.1   \n634960           7.0          29.0          64.0  1.2   NaN    NaN    0.1   \n634961          13.0          10.0          77.0  0.5   NaN    NaN    0.3   \n634962          27.0          69.0           4.0  NaN   NaN    NaN    NaN   \n634963          15.0          15.0          70.0  0.6   NaN    NaN    0.1   \n\n        ...  cec_nh4  ecec  wpg2  db_od  ca_ext  mg_ext  na_ext    k_ext  \\\n0       ...      NaN   NaN   NaN    NaN     NaN    89.5   42.71   306.30   \n1       ...      NaN   NaN   NaN    NaN     NaN   636.7   40.83  1186.00   \n2       ...      NaN   NaN   NaN    NaN     NaN   428.5   42.94    72.57   \n3       ...      NaN   NaN   NaN    NaN     NaN   222.5   20.73   274.60   \n4       ...      NaN   NaN   NaN    NaN     NaN    76.5   49.31    91.76   \n...     ...      ...   ...   ...    ...     ...     ...     ...      ...   \n634959  ...      NaN   NaN   NaN    NaN    40.0    36.3   46.00    39.10   \n634960  ...      NaN   NaN   NaN    NaN     NaN    36.3   46.00    39.10   \n634961  ...      NaN   NaN   NaN    NaN     NaN    36.3   46.00    39.10   \n634962  ...      NaN   NaN   NaN   0.64     NaN     NaN     NaN      NaN   \n634963  ...      NaN   NaN   NaN    NaN    40.0    36.3   92.00    39.10   \n\n        ec_satp  ec_12pre  \n0         0.053       NaN  \n1         0.193       NaN  \n2         0.305       NaN  \n3         0.053       NaN  \n4         0.032       NaN  \n...         ...       ...  \n634959    0.100       NaN  \n634960    0.100       NaN  \n634961    0.100       NaN  \n634962      NaN       NaN  \n634963    0.100       NaN  \n\n[634964 rows x 24 columns]",
      "text/html": "<div>\n<style scoped>\n    .dataframe tbody tr th:only-of-type {\n        vertical-align: middle;\n    }\n\n    .dataframe tbody tr th {\n        vertical-align: top;\n    }\n\n    .dataframe thead th {\n        text-align: right;\n    }\n</style>\n<table border=\"1\" class=\"dataframe\">\n  <thead>\n    <tr style=\"text-align: right;\">\n      <th></th>\n      <th>site_key</th>\n      <th>longitude_decimal_degrees</th>\n      <th>latitude_decimal_degrees</th>\n      <th>clay_tot_psa</th>\n      <th>silt_tot_psa</th>\n      <th>sand_tot_psa</th>\n      <th>oc</th>\n      <th>oc_d</th>\n      <th>c_tot</th>\n      <th>n_tot</th>\n      <th>...</th>\n      <th>cec_nh4</th>\n      <th>ecec</th>\n      <th>wpg2</th>\n      <th>db_od</th>\n      <th>ca_ext</th>\n      <th>mg_ext</th>\n      <th>na_ext</th>\n      <th>k_ext</th>\n      <th>ec_satp</th>\n      <th>ec_12pre</th>\n    </tr>\n  </thead>\n  <tbody>\n    <tr>\n      <th>0</th>\n      <td>icr006475</td>\n      <td>36.435982</td>\n      <td>-6.088750</td>\n      <td>NaN</td>\n      <td>NaN</td>\n      <td>NaN</td>\n      <td>NaN</td>\n      <td>NaN</td>\n      <td>NaN</td>\n      <td>NaN</td>\n      <td>...</td>\n      <td>NaN</td>\n      <td>NaN</td>\n      <td>NaN</td>\n      <td>NaN</td>\n      <td>NaN</td>\n      <td>89.5</td>\n      <td>42.71</td>\n      <td>306.30</td>\n      <td>0.053</td>\n      <td>NaN</td>\n    </tr>\n    <tr>\n      <th>1</th>\n      <td>icr006586</td>\n      <td>36.457722</td>\n      <td>-6.055750</td>\n      <td>NaN</td>\n      <td>NaN</td>\n      <td>NaN</td>\n      <td>NaN</td>\n      <td>NaN</td>\n      <td>NaN</td>\n      <td>NaN</td>\n      <td>...</td>\n      <td>NaN</td>\n      <td>NaN</td>\n      <td>NaN</td>\n      <td>NaN</td>\n      <td>NaN</td>\n      <td>636.7</td>\n      <td>40.83</td>\n      <td>1186.00</td>\n      <td>0.193</td>\n      <td>NaN</td>\n    </tr>\n    <tr>\n      <th>2</th>\n      <td>icr007929</td>\n      <td>37.493351</td>\n      <td>-5.339337</td>\n      <td>NaN</td>\n      <td>NaN</td>\n      <td>NaN</td>\n      <td>NaN</td>\n      <td>NaN</td>\n      <td>NaN</td>\n      <td>NaN</td>\n      <td>...</td>\n      <td>NaN</td>\n      <td>NaN</td>\n      <td>NaN</td>\n      <td>NaN</td>\n      <td>NaN</td>\n      <td>428.5</td>\n      <td>42.94</td>\n      <td>72.57</td>\n      <td>0.305</td>\n      <td>NaN</td>\n    </tr>\n    <tr>\n      <th>3</th>\n      <td>icr008008</td>\n      <td>37.515327</td>\n      <td>-5.333700</td>\n      <td>NaN</td>\n      <td>NaN</td>\n      <td>NaN</td>\n      <td>NaN</td>\n      <td>NaN</td>\n      <td>NaN</td>\n      <td>NaN</td>\n      <td>...</td>\n      <td>NaN</td>\n      <td>NaN</td>\n      <td>NaN</td>\n      <td>NaN</td>\n      <td>NaN</td>\n      <td>222.5</td>\n      <td>20.73</td>\n      <td>274.60</td>\n      <td>0.053</td>\n      <td>NaN</td>\n    </tr>\n    <tr>\n      <th>4</th>\n      <td>icr010198</td>\n      <td>35.191799</td>\n      <td>-11.087100</td>\n      <td>NaN</td>\n      <td>NaN</td>\n      <td>NaN</td>\n      <td>NaN</td>\n      <td>NaN</td>\n      <td>NaN</td>\n      <td>NaN</td>\n      <td>...</td>\n      <td>NaN</td>\n      <td>NaN</td>\n      <td>NaN</td>\n      <td>NaN</td>\n      <td>NaN</td>\n      <td>76.5</td>\n      <td>49.31</td>\n      <td>91.76</td>\n      <td>0.032</td>\n      <td>NaN</td>\n    </tr>\n    <tr>\n      <th>...</th>\n      <td>...</td>\n      <td>...</td>\n      <td>...</td>\n      <td>...</td>\n      <td>...</td>\n      <td>...</td>\n      <td>...</td>\n      <td>...</td>\n      <td>...</td>\n      <td>...</td>\n      <td>...</td>\n      <td>...</td>\n      <td>...</td>\n      <td>...</td>\n      <td>...</td>\n      <td>...</td>\n      <td>...</td>\n      <td>...</td>\n      <td>...</td>\n      <td>...</td>\n      <td>...</td>\n    </tr>\n    <tr>\n      <th>634959</th>\n      <td>ZW0067</td>\n      <td>31.750000</td>\n      <td>-19.800000</td>\n      <td>7.0</td>\n      <td>11.0</td>\n      <td>82.0</td>\n      <td>1.4</td>\n      <td>NaN</td>\n      <td>NaN</td>\n      <td>0.1</td>\n      <td>...</td>\n      <td>NaN</td>\n      <td>NaN</td>\n      <td>NaN</td>\n      <td>NaN</td>\n      <td>40.0</td>\n      <td>36.3</td>\n      <td>46.00</td>\n      <td>39.10</td>\n      <td>0.100</td>\n      <td>NaN</td>\n    </tr>\n    <tr>\n      <th>634960</th>\n      <td>ZW0067</td>\n      <td>31.750000</td>\n      <td>-19.800000</td>\n      <td>7.0</td>\n      <td>29.0</td>\n      <td>64.0</td>\n      <td>1.2</td>\n      <td>NaN</td>\n      <td>NaN</td>\n      <td>0.1</td>\n      <td>...</td>\n      <td>NaN</td>\n      <td>NaN</td>\n      <td>NaN</td>\n      <td>NaN</td>\n      <td>NaN</td>\n      <td>36.3</td>\n      <td>46.00</td>\n      <td>39.10</td>\n      <td>0.100</td>\n      <td>NaN</td>\n    </tr>\n    <tr>\n      <th>634961</th>\n      <td>ZW0067</td>\n      <td>31.750000</td>\n      <td>-19.800000</td>\n      <td>13.0</td>\n      <td>10.0</td>\n      <td>77.0</td>\n      <td>0.5</td>\n      <td>NaN</td>\n      <td>NaN</td>\n      <td>0.3</td>\n      <td>...</td>\n      <td>NaN</td>\n      <td>NaN</td>\n      <td>NaN</td>\n      <td>NaN</td>\n      <td>NaN</td>\n      <td>36.3</td>\n      <td>46.00</td>\n      <td>39.10</td>\n      <td>0.100</td>\n      <td>NaN</td>\n    </tr>\n    <tr>\n      <th>634962</th>\n      <td>ZW0067</td>\n      <td>31.750000</td>\n      <td>-19.800000</td>\n      <td>27.0</td>\n      <td>69.0</td>\n      <td>4.0</td>\n      <td>NaN</td>\n      <td>NaN</td>\n      <td>NaN</td>\n      <td>NaN</td>\n      <td>...</td>\n      <td>NaN</td>\n      <td>NaN</td>\n      <td>NaN</td>\n      <td>0.64</td>\n      <td>NaN</td>\n      <td>NaN</td>\n      <td>NaN</td>\n      <td>NaN</td>\n      <td>NaN</td>\n      <td>NaN</td>\n    </tr>\n    <tr>\n      <th>634963</th>\n      <td>ZW0067</td>\n      <td>31.750000</td>\n      <td>-19.800000</td>\n      <td>15.0</td>\n      <td>15.0</td>\n      <td>70.0</td>\n      <td>0.6</td>\n      <td>NaN</td>\n      <td>NaN</td>\n      <td>0.1</td>\n      <td>...</td>\n      <td>NaN</td>\n      <td>NaN</td>\n      <td>NaN</td>\n      <td>NaN</td>\n      <td>40.0</td>\n      <td>36.3</td>\n      <td>92.00</td>\n      <td>39.10</td>\n      <td>0.100</td>\n      <td>NaN</td>\n    </tr>\n  </tbody>\n</table>\n<p>634964 rows × 24 columns</p>\n</div>"
     },
     "execution_count": 19,
     "metadata": {},
     "output_type": "execute_result"
    }
   ],
   "source": [
    "df"
   ],
   "metadata": {
    "collapsed": false,
    "pycharm": {
     "name": "#%%\n"
    }
   }
  },
  {
   "cell_type": "markdown",
   "source": [
    "### filling na, and removing all data that is not contained within washington"
   ],
   "metadata": {
    "collapsed": false,
    "pycharm": {
     "name": "#%% md\n"
    }
   }
  },
  {
   "cell_type": "code",
   "execution_count": 26,
   "outputs": [
    {
     "data": {
      "text/plain": "       site_key  longitude_decimal_degrees  latitude_decimal_degrees  \\\n115684      687                 -123.73000                  48.63000   \n115685      687                 -123.73000                  48.63000   \n115686      687                 -123.73000                  48.63000   \n115687      687                 -123.73000                  48.63000   \n115692      689                 -123.52000                  48.83000   \n...         ...                        ...                       ...   \n631448   US0366                 -123.09861                  45.53472   \n631449   US0366                 -123.09861                  45.53472   \n631450   US0366                 -123.09861                  45.53472   \n631451   US0366                 -123.09861                  45.53472   \n631452   US0366                 -123.09861                  45.53472   \n\n        clay_tot_psa  silt_tot_psa  sand_tot_psa     oc   oc_d  c_tot  n_tot  \\\n115684           0.0           0.0           0.0  432.8  69.20    0.0   12.9   \n115685           0.0           0.0           0.0   29.6  36.70    0.0    0.0   \n115686           0.0           0.0           0.0   30.0  16.10    0.0    0.0   \n115687           0.0           0.0           0.0   11.0   8.29    0.0    0.0   \n115692           0.0           0.0           0.0  422.6  67.60    0.0   10.1   \n...              ...           ...           ...    ...    ...    ...    ...   \n631448          21.0          72.0           7.0   13.5  19.20    0.0    0.0   \n631449          22.0          72.0           6.0    4.1   5.99    0.0    0.0   \n631450          22.0          71.0           7.0    1.9   3.02    0.0    0.0   \n631451          22.0          72.0           6.0    1.7   2.33    0.0    0.0   \n631452          24.0          69.0           7.0    0.9   1.30    0.0    0.0   \n\n        ...  cec_nh4  ecec  wpg2  db_od  ca_ext  mg_ext  na_ext    k_ext  \\\n115684  ...      0.0   0.0   0.0   0.16  8946.0  897.82    48.3   969.68   \n115685  ...      0.0   0.0   0.0   1.24   736.0   76.23    11.5    78.20   \n115686  ...      0.0   0.0  48.0   1.03   328.0   35.09    11.5    62.56   \n115687  ...      0.0   0.0  48.0   1.45     0.0    0.00     0.0     0.00   \n115692  ...      0.0   0.0   0.0   0.16  7282.0  949.85    48.3  1126.08   \n...     ...      ...   ...   ...    ...     ...     ...     ...      ...   \n631448  ...      0.0   0.0   0.0   1.42  1620.0  206.00    46.0   430.00   \n631449  ...      0.0   0.0   0.0   1.46   920.0  133.00    46.0   274.00   \n631450  ...      0.0   0.0   0.0   1.59  1620.0  254.00    46.0   196.00   \n631451  ...      0.0   0.0   0.0   1.37  2620.0  460.00    46.0   196.00   \n631452  ...      0.0   0.0   0.0   1.44  3220.0  544.00    92.0   196.00   \n\n        ec_satp  ec_12pre  \n115684      0.0       0.0  \n115685      0.0       0.0  \n115686      0.0       0.0  \n115687      0.0       0.0  \n115692      0.0       0.0  \n...         ...       ...  \n631448      0.1       0.0  \n631449      0.1       0.0  \n631450      0.1       0.0  \n631451      0.1       0.0  \n631452      0.1       0.0  \n\n[11076 rows x 24 columns]",
      "text/html": "<div>\n<style scoped>\n    .dataframe tbody tr th:only-of-type {\n        vertical-align: middle;\n    }\n\n    .dataframe tbody tr th {\n        vertical-align: top;\n    }\n\n    .dataframe thead th {\n        text-align: right;\n    }\n</style>\n<table border=\"1\" class=\"dataframe\">\n  <thead>\n    <tr style=\"text-align: right;\">\n      <th></th>\n      <th>site_key</th>\n      <th>longitude_decimal_degrees</th>\n      <th>latitude_decimal_degrees</th>\n      <th>clay_tot_psa</th>\n      <th>silt_tot_psa</th>\n      <th>sand_tot_psa</th>\n      <th>oc</th>\n      <th>oc_d</th>\n      <th>c_tot</th>\n      <th>n_tot</th>\n      <th>...</th>\n      <th>cec_nh4</th>\n      <th>ecec</th>\n      <th>wpg2</th>\n      <th>db_od</th>\n      <th>ca_ext</th>\n      <th>mg_ext</th>\n      <th>na_ext</th>\n      <th>k_ext</th>\n      <th>ec_satp</th>\n      <th>ec_12pre</th>\n    </tr>\n  </thead>\n  <tbody>\n    <tr>\n      <th>115684</th>\n      <td>687</td>\n      <td>-123.73000</td>\n      <td>48.63000</td>\n      <td>0.0</td>\n      <td>0.0</td>\n      <td>0.0</td>\n      <td>432.8</td>\n      <td>69.20</td>\n      <td>0.0</td>\n      <td>12.9</td>\n      <td>...</td>\n      <td>0.0</td>\n      <td>0.0</td>\n      <td>0.0</td>\n      <td>0.16</td>\n      <td>8946.0</td>\n      <td>897.82</td>\n      <td>48.3</td>\n      <td>969.68</td>\n      <td>0.0</td>\n      <td>0.0</td>\n    </tr>\n    <tr>\n      <th>115685</th>\n      <td>687</td>\n      <td>-123.73000</td>\n      <td>48.63000</td>\n      <td>0.0</td>\n      <td>0.0</td>\n      <td>0.0</td>\n      <td>29.6</td>\n      <td>36.70</td>\n      <td>0.0</td>\n      <td>0.0</td>\n      <td>...</td>\n      <td>0.0</td>\n      <td>0.0</td>\n      <td>0.0</td>\n      <td>1.24</td>\n      <td>736.0</td>\n      <td>76.23</td>\n      <td>11.5</td>\n      <td>78.20</td>\n      <td>0.0</td>\n      <td>0.0</td>\n    </tr>\n    <tr>\n      <th>115686</th>\n      <td>687</td>\n      <td>-123.73000</td>\n      <td>48.63000</td>\n      <td>0.0</td>\n      <td>0.0</td>\n      <td>0.0</td>\n      <td>30.0</td>\n      <td>16.10</td>\n      <td>0.0</td>\n      <td>0.0</td>\n      <td>...</td>\n      <td>0.0</td>\n      <td>0.0</td>\n      <td>48.0</td>\n      <td>1.03</td>\n      <td>328.0</td>\n      <td>35.09</td>\n      <td>11.5</td>\n      <td>62.56</td>\n      <td>0.0</td>\n      <td>0.0</td>\n    </tr>\n    <tr>\n      <th>115687</th>\n      <td>687</td>\n      <td>-123.73000</td>\n      <td>48.63000</td>\n      <td>0.0</td>\n      <td>0.0</td>\n      <td>0.0</td>\n      <td>11.0</td>\n      <td>8.29</td>\n      <td>0.0</td>\n      <td>0.0</td>\n      <td>...</td>\n      <td>0.0</td>\n      <td>0.0</td>\n      <td>48.0</td>\n      <td>1.45</td>\n      <td>0.0</td>\n      <td>0.00</td>\n      <td>0.0</td>\n      <td>0.00</td>\n      <td>0.0</td>\n      <td>0.0</td>\n    </tr>\n    <tr>\n      <th>115692</th>\n      <td>689</td>\n      <td>-123.52000</td>\n      <td>48.83000</td>\n      <td>0.0</td>\n      <td>0.0</td>\n      <td>0.0</td>\n      <td>422.6</td>\n      <td>67.60</td>\n      <td>0.0</td>\n      <td>10.1</td>\n      <td>...</td>\n      <td>0.0</td>\n      <td>0.0</td>\n      <td>0.0</td>\n      <td>0.16</td>\n      <td>7282.0</td>\n      <td>949.85</td>\n      <td>48.3</td>\n      <td>1126.08</td>\n      <td>0.0</td>\n      <td>0.0</td>\n    </tr>\n    <tr>\n      <th>...</th>\n      <td>...</td>\n      <td>...</td>\n      <td>...</td>\n      <td>...</td>\n      <td>...</td>\n      <td>...</td>\n      <td>...</td>\n      <td>...</td>\n      <td>...</td>\n      <td>...</td>\n      <td>...</td>\n      <td>...</td>\n      <td>...</td>\n      <td>...</td>\n      <td>...</td>\n      <td>...</td>\n      <td>...</td>\n      <td>...</td>\n      <td>...</td>\n      <td>...</td>\n      <td>...</td>\n    </tr>\n    <tr>\n      <th>631448</th>\n      <td>US0366</td>\n      <td>-123.09861</td>\n      <td>45.53472</td>\n      <td>21.0</td>\n      <td>72.0</td>\n      <td>7.0</td>\n      <td>13.5</td>\n      <td>19.20</td>\n      <td>0.0</td>\n      <td>0.0</td>\n      <td>...</td>\n      <td>0.0</td>\n      <td>0.0</td>\n      <td>0.0</td>\n      <td>1.42</td>\n      <td>1620.0</td>\n      <td>206.00</td>\n      <td>46.0</td>\n      <td>430.00</td>\n      <td>0.1</td>\n      <td>0.0</td>\n    </tr>\n    <tr>\n      <th>631449</th>\n      <td>US0366</td>\n      <td>-123.09861</td>\n      <td>45.53472</td>\n      <td>22.0</td>\n      <td>72.0</td>\n      <td>6.0</td>\n      <td>4.1</td>\n      <td>5.99</td>\n      <td>0.0</td>\n      <td>0.0</td>\n      <td>...</td>\n      <td>0.0</td>\n      <td>0.0</td>\n      <td>0.0</td>\n      <td>1.46</td>\n      <td>920.0</td>\n      <td>133.00</td>\n      <td>46.0</td>\n      <td>274.00</td>\n      <td>0.1</td>\n      <td>0.0</td>\n    </tr>\n    <tr>\n      <th>631450</th>\n      <td>US0366</td>\n      <td>-123.09861</td>\n      <td>45.53472</td>\n      <td>22.0</td>\n      <td>71.0</td>\n      <td>7.0</td>\n      <td>1.9</td>\n      <td>3.02</td>\n      <td>0.0</td>\n      <td>0.0</td>\n      <td>...</td>\n      <td>0.0</td>\n      <td>0.0</td>\n      <td>0.0</td>\n      <td>1.59</td>\n      <td>1620.0</td>\n      <td>254.00</td>\n      <td>46.0</td>\n      <td>196.00</td>\n      <td>0.1</td>\n      <td>0.0</td>\n    </tr>\n    <tr>\n      <th>631451</th>\n      <td>US0366</td>\n      <td>-123.09861</td>\n      <td>45.53472</td>\n      <td>22.0</td>\n      <td>72.0</td>\n      <td>6.0</td>\n      <td>1.7</td>\n      <td>2.33</td>\n      <td>0.0</td>\n      <td>0.0</td>\n      <td>...</td>\n      <td>0.0</td>\n      <td>0.0</td>\n      <td>0.0</td>\n      <td>1.37</td>\n      <td>2620.0</td>\n      <td>460.00</td>\n      <td>46.0</td>\n      <td>196.00</td>\n      <td>0.1</td>\n      <td>0.0</td>\n    </tr>\n    <tr>\n      <th>631452</th>\n      <td>US0366</td>\n      <td>-123.09861</td>\n      <td>45.53472</td>\n      <td>24.0</td>\n      <td>69.0</td>\n      <td>7.0</td>\n      <td>0.9</td>\n      <td>1.30</td>\n      <td>0.0</td>\n      <td>0.0</td>\n      <td>...</td>\n      <td>0.0</td>\n      <td>0.0</td>\n      <td>0.0</td>\n      <td>1.44</td>\n      <td>3220.0</td>\n      <td>544.00</td>\n      <td>92.0</td>\n      <td>196.00</td>\n      <td>0.1</td>\n      <td>0.0</td>\n    </tr>\n  </tbody>\n</table>\n<p>11076 rows × 24 columns</p>\n</div>"
     },
     "execution_count": 26,
     "metadata": {},
     "output_type": "execute_result"
    }
   ],
   "source": [
    "df = df.fillna(0)\n",
    "df = df[(df['latitude_decimal_degrees'] >= 45) &\n",
    "        (df['latitude_decimal_degrees'] <= 49) &\n",
    "        (df['longitude_decimal_degrees'] >= -125) &\n",
    "        (df['longitude_decimal_degrees'] <= -116)]\n",
    "df"
   ],
   "metadata": {
    "collapsed": false,
    "pycharm": {
     "name": "#%%\n"
    }
   }
  },
  {
   "cell_type": "markdown",
   "source": [
    "# TODO:\n",
    "1. normalize data\n",
    "2. create class variables"
   ],
   "metadata": {
    "collapsed": false,
    "pycharm": {
     "name": "#%% md\n"
    }
   }
  },
  {
   "cell_type": "code",
   "execution_count": null,
   "outputs": [],
   "source": [],
   "metadata": {
    "collapsed": false,
    "pycharm": {
     "name": "#%%\n"
    }
   }
  },
  {
   "cell_type": "markdown",
   "source": [
    "### export data to CSV"
   ],
   "metadata": {
    "collapsed": false,
    "pycharm": {
     "name": "#%% md\n"
    }
   }
  },
  {
   "cell_type": "code",
   "execution_count": 25,
   "outputs": [],
   "source": [
    "df.to_csv('./data/processed/soil_properties/soil_properties_dataset.csv')\n"
   ],
   "metadata": {
    "collapsed": false,
    "pycharm": {
     "name": "#%%\n"
    }
   }
  }
 ],
 "metadata": {
  "kernelspec": {
   "name": "pycharm-e654f239",
   "language": "python",
   "display_name": "PyCharm (soil-dataset-exploration)"
  },
  "language_info": {
   "codemirror_mode": {
    "name": "ipython",
    "version": 2
   },
   "file_extension": ".py",
   "mimetype": "text/x-python",
   "name": "python",
   "nbconvert_exporter": "python",
   "pygments_lexer": "ipython2",
   "version": "2.7.6"
  }
 },
 "nbformat": 4,
 "nbformat_minor": 0
}