{
 "cells": [
  {
   "cell_type": "markdown",
   "metadata": {},
   "source": [
    "# RASTER BLASTER\n",
    "\n",
    "## NCRP Raster to Point CSV Tool\n",
    "\n",
    "This notebook is designed to accept a geotiff file, convert the raster to point geometry, standardize values, add additional fields, convert geometry to lat/long coordinates, and then export as a CSV.\n",
    "\n",
    "Please update your workspace, input raster, and output point file to your directory and desired files."
   ]
  },
  {
   "cell_type": "code",
   "execution_count": 26,
   "metadata": {},
   "outputs": [],
   "source": [
    "import pandas as pd\n",
    "import arcpy\n",
    "from arcpy import env\n",
    "import arcgis\n",
    "\n",
    "# Change env.workspace to \"C:/your project directory\"\n",
    "env.workspace = \"C:/Users/Kylew/Dropbox/Capstone/Data/Tree_Species_Density/Sitka_Spruce_Automation\""
   ]
  },
  {
   "cell_type": "code",
   "execution_count": 28,
   "metadata": {},
   "outputs": [],
   "source": [
    "# Convert raster to point data\n",
    "\n",
    "# Input raster - change to your desired raster\n",
    "inRaster = \"WA_sitka_spruce_stand_density.tif\"\n",
    "# Output raster to point file - change to your desired point file name\n",
    "outPoint = \"western_red_point.shp\"\n",
    "# Field\n",
    "field = \"VALUE\"\n",
    "\n",
    "arcpy.RasterToPoint_conversion(inRaster, outPoint, field)"
   ]
  },
  {
   "cell_type": "code",
   "execution_count": 30,
   "metadata": {},
   "outputs": [
    {
     "data": {
      "text/html": [
       "<div class='gpresult'><h2>Messages</h2><div id='messages' data-messages='[\"Start Time: Monday, March 7, 2022 4:54:00 PM\",[{\"element\":\"table\",\"data\":[[\"Statistic\",\"Source (grid_code)\",\"Standardized (Min-Max)\"],[\"Maximum\",\"697.000\",\"1.000\"],[\"Minimum\",\"1.000\",\"0.000\"],[\"Nulls\",\"0\",\"0\"],[\"Sum\",\"374708843.000\",\"530560.848\"],[\"Mean\",\"68.899\",\"0.098\"],[\"Standard Deviation\",\"67.410\",\"0.097\"],[\"Median\",\"48.000\",\"0.068\"],[\"Skewness\",\"2.304\",\"2.304\"],[\"Kurtosis\",\"11.318\",\"11.318\"]],\"elementProps\":{\"striped\":\"true\",\"title\":\"Summary Statistics\",\"0\":{\"align\":\"left\",\"pad\":\"0px\",\"wrap\":true},\"1\":{\"align\":\"right\",\"pad\":\"0px\",\"wrap\":true},\"2\":{\"align\":\"right\",\"pad\":\"0px\",\"wrap\":true}}}],\"\\n\",\"Succeeded at Monday, March 7, 2022 4:56:53 PM (Elapsed Time: 2 minutes 52 seconds)\"]' data-show='true'><div id = 'default' /></div></div>"
      ],
      "text/plain": [
       "<Result 'sitka_spruce_point'>"
      ]
     },
     "execution_count": 30,
     "metadata": {},
     "output_type": "execute_result"
    }
   ],
   "source": [
    "# Standardize grid_code to minimum/maximum normalized value\n",
    "\n",
    "# Input layer for standardization\n",
    "# inputFeature = outPoint[:-4]\n",
    "inputFeature = \"western_red_point\"\n",
    "\n",
    "# Set the field(s) that will be standardized\n",
    "field = \"grid_code norm_value\"\n",
    "\n",
    "# Set the standardization method\n",
    "method = \"MIN-MAX\"\n",
    "\n",
    "arcpy.management.StandardizeField(inputFeature, field, method)"
   ]
  },
  {
   "cell_type": "code",
   "execution_count": 1,
   "metadata": {},
   "outputs": [
    {
     "ename": "ExecuteError",
     "evalue": "ERROR 000852: Cannot add field long to western_red_point\nFailed to execute (AddField).\n",
     "output_type": "error",
     "traceback": [
      "\u001b[0;31m---------------------------------------------------------------------------\u001b[0m\n\u001b[0;31mExecuteError\u001b[0m                              Traceback (most recent call last)",
      "In  \u001b[0;34m[1]\u001b[0m:\nLine \u001b[0;34m8\u001b[0m:     arcpy.AddField_management(inputFeature, field1, field_type)\n",
      "File \u001b[0;34mC:\\Program Files\\ArcGIS\\Pro\\Resources\\ArcPy\\arcpy\\management.py\u001b[0m, in \u001b[0;32mAddField\u001b[0m:\nLine \u001b[0;34m5228\u001b[0m:  \u001b[34mraise\u001b[39;49;00m e\n",
      "File \u001b[0;34mC:\\Program Files\\ArcGIS\\Pro\\Resources\\ArcPy\\arcpy\\management.py\u001b[0m, in \u001b[0;32mAddField\u001b[0m:\nLine \u001b[0;34m5225\u001b[0m:  retval = convertArcObjectToPythonObject(gp.AddField_management(*gp_fixargs((in_table, field_name, field_type, field_precision, field_scale, field_length, field_alias, field_is_nullable, field_is_required, field_domain), \u001b[34mTrue\u001b[39;49;00m)))\n",
      "File \u001b[0;34mC:\\Program Files\\ArcGIS\\Pro\\Resources\\ArcPy\\arcpy\\geoprocessing\\_base.py\u001b[0m, in \u001b[0;32m<lambda>\u001b[0m:\nLine \u001b[0;34m512\u001b[0m:   \u001b[34mreturn\u001b[39;49;00m \u001b[34mlambda\u001b[39;49;00m *args: val(*gp_fixargs(args, \u001b[34mTrue\u001b[39;49;00m))\n",
      "\u001b[0;31mExecuteError\u001b[0m: ERROR 000852: Cannot add field long to western_red_point\nFailed to execute (AddField).\n\n\u001b[0;31m---------------------------------------------------------------------------\u001b[0m"
     ]
    }
   ],
   "source": [
    "# Add lat and long fields to table\n",
    "\n",
    "inputFeature = \"western_red_point\"\n",
    "field1 = \"long\"\n",
    "field2 = \"lat\"\n",
    "field_type = \"DOUBLE\"\n",
    "\n",
    "arcpy.AddField_management(inputFeature, field1, field_type)\n",
    "arcpy.AddField_management(inputFeature, field2, field_type)"
   ]
  },
  {
   "cell_type": "code",
   "execution_count": 35,
   "metadata": {},
   "outputs": [
    {
     "data": {
      "text/html": [
       "<div class='gpresult'><h2>Messages</h2><div id='messages' data-messages='[\"Start Time: Monday, March 7, 2022 5:23:18 PM\",\"Succeeded at Monday, March 7, 2022 5:43:25 PM (Elapsed Time: 20 minutes 6 seconds)\"]' data-show='true'><div id = 'default' /></div></div>"
      ],
      "text/plain": [
       "<Result 'sitka_spruce_point'>"
      ]
     },
     "execution_count": 35,
     "metadata": {},
     "output_type": "execute_result"
    }
   ],
   "source": [
    "# Calculate Geometry\n",
    "\n",
    "# inputFeature\n",
    "# Coordinate System\n",
    "\n",
    "coord_system = arcpy.SpatialReference(\"USA Contiguous Albers Equal Area Conic USGS\")\n",
    "# Coordinate format = decimal degrees\n",
    "coord_format = \"DD\"\n",
    "\n",
    "arcpy.CalculateGeometryAttributes_management(inputFeature,\n",
    "    [[\"long\", \"POINT_X\"], \n",
    "     [\"lat\", \"POINT_Y\"]],\n",
    "    coordinate_system = coord_system,\n",
    "    coordinate_format = coord_format)"
   ]
  },
  {
   "cell_type": "code",
   "execution_count": 37,
   "metadata": {},
   "outputs": [],
   "source": [
    "# Convert table to CSV\n",
    "\n",
    "# inputFeature = your input value defined earlier\n",
    "df = pd.DataFrame(arcpy.da.FeatureClassToNumPyArray(in_table=inputFeature,\n",
    "    field_names=[\"long\", \"lat\", \"norm_value\"]))\n",
    "output_name = \"WA_\" + inputFeature + \"_stand_density.csv\"\n",
    "df.to_csv(output_name, index=False)"
   ]
  }
 ],
 "metadata": {
  "kernelspec": {
   "display_name": "ArcGISPro",
   "language": "Python",
   "name": "python3"
  },
  "language_info": {
   "file_extension": ".py",
   "name": "python",
   "version": "3"
  }
 },
 "nbformat": 4,
 "nbformat_minor": 2
}
