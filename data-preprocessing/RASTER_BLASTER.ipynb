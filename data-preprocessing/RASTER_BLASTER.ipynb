{
 "cells": [
  {
   "cell_type": "markdown",
   "metadata": {},
   "source": [
    "# RASTER BLASTER\n",
    "\n",
    "## NCRP Raster to Point CSV Tool\n",
    "\n",
    "This notebook is designed to accept a geotiff file, convert the raster to point geometry, standardize values, add additional fields, convert geometry to lat/long coordinates, and then export as a CSV.\n",
    "\n",
    "Please update your workspace, input raster, and output point file to your directory and desired files."
   ]
  },
  {
   "cell_type": "code",
   "execution_count": 1,
   "metadata": {},
   "outputs": [],
   "source": [
    "import pandas as pd\n",
    "import arcpy\n",
    "from arcpy import env\n",
    "\n",
    "# Change env.workspace to \"C:/your project directory\"\n",
    "env.workspace = \"C:/Users/Kylew/Dropbox/Capstone/Data/Tree_Species_Density/Pacific_Yew\""
   ]
  },
  {
   "cell_type": "code",
   "execution_count": 2,
   "metadata": {},
   "outputs": [
    {
     "data": {
      "text/html": [
       "<div class='gpresult'><h2>Messages</h2><div id='messages' data-messages='[\"Start Time: Wednesday, March 9, 2022 12:35:06 PM\",\"Succeeded at Wednesday, March 9, 2022 12:35:57 PM (Elapsed Time: 51.04 seconds)\"]' data-show='true'><div id = 'default' /></div></div>"
      ],
      "text/plain": [
       "<Result 'C:/Users/Kylew/Dropbox/Capstone/Data/Tree_Species_Density/Pacific_Yew\\\\pacific_yew_point.shp'>"
      ]
     },
     "execution_count": 2,
     "metadata": {},
     "output_type": "execute_result"
    }
   ],
   "source": [
    "# Convert raster to point data\n",
    "\n",
    "# Input raster - change to your desired raster\n",
    "inRaster = \"WA_pacific_yew_basal_area.tif\"\n",
    "# Output raster to point file - change to your desired point file name\n",
    "outPoint = \"pacific_yew_point.shp\"\n",
    "# Field\n",
    "field = \"VALUE\"\n",
    "\n",
    "arcpy.RasterToPoint_conversion(inRaster, outPoint, field)"
   ]
  },
  {
   "cell_type": "code",
   "execution_count": 4,
   "metadata": {},
   "outputs": [
    {
     "data": {
      "text/html": [
       "<div class='gpresult'><h2>Messages</h2><div id='messages' data-messages='[\"Start Time: Wednesday, March 9, 2022 12:37:08 PM\",[{\"element\":\"table\",\"data\":[[\"Statistic\",\"Source (grid_code)\",\"Standardized (Min-Max)\"],[\"Maximum\",\"159.000\",\"1.000\"],[\"Minimum\",\"1.000\",\"0.000\"],[\"Nulls\",\"0\",\"0\"],[\"Sum\",\"20002826.000\",\"113791.424\"],[\"Mean\",\"9.884\",\"0.056\"],[\"Standard Deviation\",\"8.980\",\"0.057\"],[\"Median\",\"7.000\",\"0.038\"],[\"Skewness\",\"2.441\",\"2.441\"],[\"Kurtosis\",\"16.229\",\"16.229\"]],\"elementProps\":{\"striped\":\"true\",\"title\":\"Summary Statistics\",\"0\":{\"align\":\"left\",\"pad\":\"0px\",\"wrap\":true},\"1\":{\"align\":\"right\",\"pad\":\"0px\",\"wrap\":true},\"2\":{\"align\":\"right\",\"pad\":\"0px\",\"wrap\":true}}}],\"\\n\",\"Succeeded at Wednesday, March 9, 2022 12:38:10 PM (Elapsed Time: 1 minutes 2 seconds)\"]' data-show='true'><div id = 'default' /></div></div>"
      ],
      "text/plain": [
       "<Result 'C:/Users/Kylew/Dropbox/Capstone/Data/Tree_Species_Density/Pacific_Yew\\\\pacific_yew_point.shp'>"
      ]
     },
     "execution_count": 4,
     "metadata": {},
     "output_type": "execute_result"
    }
   ],
   "source": [
    "# Standardize grid_code to minimum/maximum normalized value\n",
    "\n",
    "# Input layer for standardization\n",
    "inputFeature = outPoint#[:-4]\n",
    "\n",
    "# Set the field(s) that will be standardized\n",
    "field = \"grid_code norm_value\"\n",
    "\n",
    "# Set the standardization method\n",
    "method = \"MIN-MAX\"\n",
    "\n",
    "arcpy.management.StandardizeField(inputFeature, field, method)"
   ]
  },
  {
   "cell_type": "code",
   "execution_count": 5,
   "metadata": {
    "scrolled": true
   },
   "outputs": [
    {
     "data": {
      "text/html": [
       "<div class='gpresult'><h2>Messages</h2><div id='messages' data-messages='[\"Start Time: Wednesday, March 9, 2022 12:39:59 PM\",\"Adding lat to pacific_yew_point...\",\"Succeeded at Wednesday, March 9, 2022 12:40:03 PM (Elapsed Time: 4.84 seconds)\"]' data-show='true'><div id = 'default' /></div></div>"
      ],
      "text/plain": [
       "<Result 'C:/Users/Kylew/Dropbox/Capstone/Data/Tree_Species_Density/Pacific_Yew\\\\pacific_yew_point.shp'>"
      ]
     },
     "execution_count": 5,
     "metadata": {},
     "output_type": "execute_result"
    }
   ],
   "source": [
    "# Add lat and long fields to table\n",
    "\n",
    "# inputFeature\n",
    "# inputFeature = outPoint[:-4]\n",
    "field1 = \"long\"\n",
    "field2 = \"lat\"\n",
    "field_type = \"DOUBLE\"\n",
    "\n",
    "arcpy.AddField_management(inputFeature, field1, field_type)\n",
    "arcpy.AddField_management(inputFeature, field2, field_type)"
   ]
  },
  {
   "cell_type": "code",
   "execution_count": 6,
   "metadata": {},
   "outputs": [
    {
     "data": {
      "text/html": [
       "<div class='gpresult'><h2>Messages</h2><div id='messages' data-messages='[\"Start Time: Wednesday, March 9, 2022 12:40:10 PM\",\"Succeeded at Wednesday, March 9, 2022 12:48:20 PM (Elapsed Time: 8 minutes 10 seconds)\"]' data-show='true'><div id = 'default' /></div></div>"
      ],
      "text/plain": [
       "<Result 'C:/Users/Kylew/Dropbox/Capstone/Data/Tree_Species_Density/Pacific_Yew\\\\pacific_yew_point.shp'>"
      ]
     },
     "execution_count": 6,
     "metadata": {},
     "output_type": "execute_result"
    }
   ],
   "source": [
    "# Calculate Geometry\n",
    "\n",
    "# inputFeature\n",
    "# Coordinate System\n",
    "\n",
    "coord_system = arcpy.SpatialReference(\"USA Contiguous Albers Equal Area Conic USGS\")\n",
    "# Coordinate format = decimal degrees\n",
    "coord_format = \"DD\"\n",
    "\n",
    "arcpy.CalculateGeometryAttributes_management(inputFeature,\n",
    "    [[\"long\", \"POINT_X\"], \n",
    "     [\"lat\", \"POINT_Y\"]],\n",
    "    coordinate_system = coord_system,\n",
    "    coordinate_format = coord_format)"
   ]
  },
  {
   "cell_type": "code",
   "execution_count": 7,
   "metadata": {},
   "outputs": [],
   "source": [
    "# Convert table to CSV\n",
    "\n",
    "# inputFeature = your input value defined earlier\n",
    "df = pd.DataFrame(arcpy.da.FeatureClassToNumPyArray(in_table=inputFeature,\n",
    "    field_names=[\"long\", \"lat\", \"norm_value\"]))\n",
    "output_name = \"WA_\" + inputFeature + \"_stand_density.csv\"\n",
    "df.to_csv(output_name, index=False)"
   ]
  },
  {
   "cell_type": "code",
   "execution_count": null,
   "metadata": {},
   "outputs": [],
   "source": []
  }
 ],
 "metadata": {
  "kernelspec": {
   "display_name": "ArcGISPro",
   "language": "Python",
   "name": "python3"
  },
  "language_info": {
   "file_extension": ".py",
   "name": "python",
   "version": "3"
  }
 },
 "nbformat": 4,
 "nbformat_minor": 2
}
